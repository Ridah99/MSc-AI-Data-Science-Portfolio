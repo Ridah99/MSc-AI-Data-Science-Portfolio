{
  "cells": [
    {
      "cell_type": "markdown",
      "id": "11f86ad5",
      "metadata": {
        "id": "11f86ad5"
      },
      "source": [
        "<h1 style = 'text-align : center'>Big Data And Data Mining Assignment</h1>"
      ]
    },
    {
      "cell_type": "markdown",
      "id": "59fa9a93",
      "metadata": {
        "id": "59fa9a93"
      },
      "source": [
        "<h2 style = 'text-align : center'>Import Necessary Libraries</h2>"
      ]
    },
    {
      "cell_type": "code",
      "execution_count": null,
      "id": "6501034e",
      "metadata": {
        "scrolled": true,
        "id": "6501034e"
      },
      "outputs": [],
      "source": [
        "pip install openpyxl"
      ]
    },
    {
      "cell_type": "code",
      "execution_count": null,
      "id": "90f8dd1a",
      "metadata": {
        "scrolled": false,
        "id": "90f8dd1a"
      },
      "outputs": [],
      "source": [
        "pip install ydata-profiling --user"
      ]
    },
    {
      "cell_type": "code",
      "execution_count": null,
      "id": "b9b52fbc",
      "metadata": {
        "id": "b9b52fbc"
      },
      "outputs": [],
      "source": [
        "pip install mlxtend"
      ]
    },
    {
      "cell_type": "code",
      "execution_count": null,
      "id": "7427d50b",
      "metadata": {
        "id": "7427d50b"
      },
      "outputs": [],
      "source": [
        "pip install scikit-learn_extra"
      ]
    },
    {
      "cell_type": "code",
      "execution_count": null,
      "id": "ac33a59a",
      "metadata": {
        "id": "ac33a59a"
      },
      "outputs": [],
      "source": [
        "pip install folium"
      ]
    },
    {
      "cell_type": "code",
      "execution_count": null,
      "id": "f8efde39",
      "metadata": {
        "id": "f8efde39"
      },
      "outputs": [],
      "source": [
        "pip install imbalanced-learn"
      ]
    },
    {
      "cell_type": "code",
      "execution_count": null,
      "id": "aafed9ad",
      "metadata": {
        "id": "aafed9ad"
      },
      "outputs": [],
      "source": [
        "pip install xgboost"
      ]
    },
    {
      "cell_type": "code",
      "execution_count": null,
      "id": "6f28c922",
      "metadata": {
        "id": "6f28c922"
      },
      "outputs": [],
      "source": [
        "import warnings\n",
        "import sqlite3\n",
        "import numpy as np\n",
        "import pandas as pd\n",
        "import seaborn as sns\n",
        "import matplotlib.pyplot as plt\n",
        "from scipy.stats import gaussian_kde\n",
        "\n",
        "from pandas_profiling import ProfileReport\n",
        "import datetime\n",
        "from datetime import time\n",
        "from mlxtend.preprocessing import TransactionEncoder\n",
        "from mlxtend.frequent_patterns import apriori, association_rules\n",
        "from sklearn.cluster import KMeans\n",
        "from sklearn_extra.cluster import KMedoids\n",
        "from sklearn.cluster import DBSCAN\n",
        "import folium\n",
        "from scipy import stats\n",
        "from sklearn.ensemble import IsolationForest\n",
        "from imblearn.under_sampling import RandomUnderSampler\n",
        "from sklearn.feature_selection import SelectKBest, f_classif\n",
        "from sklearn.model_selection import train_test_split\n",
        "from numpy import mean\n",
        "from numpy import std\n",
        "from sklearn.tree import DecisionTreeClassifier\n",
        "from sklearn.model_selection import cross_validate\n",
        "from sklearn.model_selection import cross_val_predict\n",
        "from sklearn.metrics import make_scorer, accuracy_score, precision_score, recall_score, f1_score\n",
        "from sklearn.preprocessing import StandardScaler\n",
        "from sklearn.model_selection import RepeatedStratifiedKFold\n",
        "from sklearn.ensemble import RandomForestClassifier\n",
        "from sklearn.linear_model import LogisticRegression\n",
        "from sklearn.naive_bayes import GaussianNB\n",
        "from sklearn.neighbors import KNeighborsClassifier\n",
        "from sklearn.ensemble import GradientBoostingClassifier, StackingClassifier\n",
        "from xgboost import XGBClassifier\n",
        "from sklearn.metrics import classification_report, confusion_matrix\n",
        "from sklearn.metrics import ConfusionMatrixDisplay\n",
        "\n",
        "%matplotlib inline"
      ]
    },
    {
      "cell_type": "code",
      "execution_count": null,
      "id": "2b51ce3c",
      "metadata": {
        "id": "2b51ce3c"
      },
      "outputs": [],
      "source": [
        "warnings.filterwarnings('ignore')"
      ]
    },
    {
      "cell_type": "markdown",
      "id": "ebf4eb30",
      "metadata": {
        "id": "ebf4eb30"
      },
      "source": [
        "<h2 style = 'text-align : center'>Create Database Connection and Cursor</h2>"
      ]
    },
    {
      "cell_type": "markdown",
      "id": "73c9a694",
      "metadata": {
        "id": "73c9a694"
      },
      "source": [
        "### I created a class Database that does the following:\n",
        "+ Creates a database connection\n",
        "+ Creates a database cursor\n",
        "+ Gets the number of the tables in the database\n",
        "+ Gets the names of the tables in the database   \n",
        "+ Retrieves a list of columns of a table in the database\n",
        "+ Extracts the data from a table in the database and puts it in a dataframe\n",
        "+ Extracts the data for year 2020 from a table in the database and puts it in a dataframe\n",
        "+ Closes the database connection"
      ]
    },
    {
      "cell_type": "code",
      "execution_count": null,
      "id": "1cc7497b",
      "metadata": {
        "id": "1cc7497b"
      },
      "outputs": [],
      "source": [
        "class Database:\n",
        "\n",
        "    # Initializing the class Database\n",
        "    def __init__(self, database):\n",
        "        self.database = database\n",
        "\n",
        "        # Creates a connection to the database\n",
        "        self.con = sqlite3.connect(database)\n",
        "\n",
        "        # Creates a database cursor\n",
        "        self.cur = self.con.cursor()\n",
        "\n",
        "    # Method to get the number of tables in the database\n",
        "    def get_number_of_tables(self):\n",
        "\n",
        "        # Gets the number of the tables in the database\n",
        "        res = self.cur.execute(\"SELECT COUNT (*) FROM sqlite_master WHERE type = 'table'\")\n",
        "\n",
        "        # Returns the number of tables in the database\n",
        "        return res.fetchone()\n",
        "\n",
        "    # Method to get the names of the tables in the database\n",
        "    def get_table_names(self):\n",
        "\n",
        "        # Gets the names of the tables in the database\n",
        "        res = self.cur.execute(\"SELECT name FROM sqlite_master WHERE type = 'table'\")\n",
        "\n",
        "        # Returns the names of the tables in the databbase\n",
        "        return res.fetchall()\n",
        "\n",
        "    # Method to get the list of columns in a table in the database\n",
        "    def get_columns(self, table_name):\n",
        "\n",
        "        # Query to select the columns from table_name\n",
        "        self.cur.execute(f\"SELECT * FROM {table_name}\")\n",
        "\n",
        "        # Gets the list of columns from cursor description using list comprehension\n",
        "        columns = [column[0] for column in self.cur.description]\n",
        "\n",
        "        # Returns a list of columns in a table\n",
        "        return columns\n",
        "\n",
        "    # Method to get a dataframe derived from the data of a table in the database\n",
        "    def dataframe(self, table_name):\n",
        "\n",
        "        # Selects the data from a table in the database\n",
        "        query = f\"SELECT * FROM {table_name}\"\n",
        "\n",
        "        # Reads the data from the table into a dataframe with pandas\n",
        "        df = pd.read_sql_query(query, self.con)\n",
        "\n",
        "        # Returns a dataframe\n",
        "        return df\n",
        "\n",
        "    # Method to get a dataframe derived from the data of a table in the database from year 2020 only\n",
        "    def dataframe_2020(self, table_name):\n",
        "\n",
        "        # Select the data from 2020 from the specified table\n",
        "        query = f\"SELECT * FROM {table_name} WHERE accident_year = 2020\"\n",
        "\n",
        "        # Read the data from the table into a dataframe with pandas\n",
        "        df = pd.read_sql_query(query, self.con)\n",
        "\n",
        "        # Returns a dataframe with data from year 2020 only\n",
        "        return df\n",
        "\n",
        "    # Method to close the database connection\n",
        "    def close_connection(self):\n",
        "\n",
        "        # Closes the database connection\n",
        "        self.con.close()"
      ]
    },
    {
      "cell_type": "code",
      "execution_count": null,
      "id": "a646ed41",
      "metadata": {
        "id": "a646ed41"
      },
      "outputs": [],
      "source": [
        "# Creates an instance of the class Database\n",
        "# Creates a connection to accident_data_v1.0.0_2023 database and a database cursor\n",
        "\n",
        "db = Database('accident_data_v1.0.0_2023.db')"
      ]
    },
    {
      "cell_type": "code",
      "execution_count": null,
      "id": "e05ae821",
      "metadata": {
        "id": "e05ae821"
      },
      "outputs": [],
      "source": [
        "# Gets the number of the tables in the accident_data_v1.0.0_2023 database\n",
        "\n",
        "db.get_number_of_tables()"
      ]
    },
    {
      "cell_type": "code",
      "execution_count": null,
      "id": "bcf241ce",
      "metadata": {
        "id": "bcf241ce"
      },
      "outputs": [],
      "source": [
        "# Gets the names of the tables in the accident_data_v1.0.0_2023 database\n",
        "\n",
        "db.get_table_names()"
      ]
    },
    {
      "cell_type": "code",
      "execution_count": null,
      "id": "bcbdbcfe",
      "metadata": {
        "id": "bcbdbcfe"
      },
      "outputs": [],
      "source": [
        "# Gets the list of columns in the accident table\n",
        "\n",
        "accident_columns = db.get_columns('accident')\n",
        "accident_columns"
      ]
    },
    {
      "cell_type": "code",
      "execution_count": null,
      "id": "bb1af75c",
      "metadata": {
        "id": "bb1af75c"
      },
      "outputs": [],
      "source": [
        "# Gets the list of columns in the casualty table\n",
        "\n",
        "casualty_columns = db.get_columns('casualty')\n",
        "casualty_columns"
      ]
    },
    {
      "cell_type": "code",
      "execution_count": null,
      "id": "5f1c8373",
      "metadata": {
        "id": "5f1c8373"
      },
      "outputs": [],
      "source": [
        "# Gets the list of columns in the vehicle table\n",
        "\n",
        "vehicle_columns = db.get_columns('vehicle')\n",
        "vehicle_columns"
      ]
    },
    {
      "cell_type": "code",
      "execution_count": null,
      "id": "fb72e2d5",
      "metadata": {
        "id": "fb72e2d5"
      },
      "outputs": [],
      "source": [
        "# Gets the list of columns in the lsoa table\n",
        "\n",
        "lsoa_columns = db.get_columns('lsoa')\n",
        "lsoa_columns"
      ]
    },
    {
      "cell_type": "markdown",
      "id": "f64eb29a",
      "metadata": {
        "id": "f64eb29a"
      },
      "source": [
        "<h2 style = 'text-align : center'>Presentation Questions</h2>"
      ]
    },
    {
      "cell_type": "markdown",
      "id": "210f3454",
      "metadata": {
        "id": "210f3454"
      },
      "source": [
        "<h4 style = 'text-align : center'>3A. The age of the oldest driver/rider in the casualty table</h4>"
      ]
    },
    {
      "cell_type": "code",
      "execution_count": null,
      "id": "d4af225c",
      "metadata": {
        "id": "d4af225c"
      },
      "outputs": [],
      "source": [
        "# Ges the age of the oldest driver/rider in the casualty table\n",
        "\n",
        "res = db.cur.execute('SELECT max(age_of_casualty) FROM casualty WHERE casualty_class = 1')\n",
        "res.fetchone()"
      ]
    },
    {
      "cell_type": "markdown",
      "id": "b2925608",
      "metadata": {
        "id": "b2925608"
      },
      "source": [
        "<h4 style = 'text-align : center'>3B. The total number of vehicle_type = 19 vehicles in the vehicle table</h4>  "
      ]
    },
    {
      "cell_type": "code",
      "execution_count": null,
      "id": "cd1b91ef",
      "metadata": {
        "id": "cd1b91ef"
      },
      "outputs": [],
      "source": [
        "# Gets the total number of vehicle_type = 19 vehicles in the vehicle table\n",
        "\n",
        "res = db.cur.execute('SELECT COUNT (*) FROM vehicle WHERE vehicle_type = 19')\n",
        "res.fetchone()"
      ]
    },
    {
      "cell_type": "markdown",
      "id": "81f55017",
      "metadata": {
        "id": "81f55017"
      },
      "source": [
        "<h4 style = 'text-align : center'>3C. The sex of driver, sex of casualty, speed limit and age of vehicle for accidents in all the lower layer super output area (LSOA) regions of Kingston Upon Hull</h4>  "
      ]
    },
    {
      "cell_type": "code",
      "execution_count": null,
      "id": "8e74e114",
      "metadata": {
        "id": "8e74e114"
      },
      "outputs": [],
      "source": [
        "# Gets The sex of driver, sex of casualty, speed limit and age of vehicle\n",
        "# For accidents in all the lower layer super output area (LSOA) regions of Kingston Upon Hull\n",
        "\n",
        "query = \"\"\"\n",
        "\n",
        "                       SELECT sex_of_driver, age_of_vehicle, sex_of_casualty, speed_limit\n",
        "                       FROM lsoa\n",
        "                       JOIN accident ON lsoa.lsoa01cd = accident.lsoa_of_accident_location\n",
        "                       JOIN vehicle ON accident.accident_index = vehicle.accident_index\n",
        "                       JOIN casualty ON accident.accident_index = casualty.accident_index\n",
        "                       WHERE lsoa01nm LIKE '%Kingston upon Hull%'\n",
        "\n",
        "\"\"\""
      ]
    },
    {
      "cell_type": "code",
      "execution_count": null,
      "id": "9d82a246",
      "metadata": {
        "id": "9d82a246"
      },
      "outputs": [],
      "source": [
        "# Read in a dataframe with the data for the sex of driver, sex of casualty, speed limit and age of vehicle\n",
        "# For accidents in all the lower layer super output area (LSOA) regions of Kingston Upon Hull\n",
        "\n",
        "df = pd.read_sql_query(query, db.con)\n",
        "df"
      ]
    },
    {
      "cell_type": "markdown",
      "id": "71ffd642",
      "metadata": {
        "id": "71ffd642"
      },
      "source": [
        "<h1 style = 'text-align : center'>Data Cleaning</h1>"
      ]
    },
    {
      "cell_type": "markdown",
      "id": "40dd1a4c",
      "metadata": {
        "id": "40dd1a4c"
      },
      "source": [
        "+ For this report I will be working with data for 2020 only\n",
        "+ I will clean the data with the help of the catalogue of how data was filled in the accident_data_v1.0.0_2023.db"
      ]
    },
    {
      "cell_type": "code",
      "execution_count": null,
      "id": "eb808a64",
      "metadata": {
        "id": "eb808a64"
      },
      "outputs": [],
      "source": [
        "# Reads in the catalogue of all the columns information in accident_data_v1.0.0_2023 database with pandas\n",
        "\n",
        "catalogue_df = pd.read_excel('Road-Safety-Open-Dataset-Data-Guide.xlsx')\n",
        "catalogue_df"
      ]
    },
    {
      "cell_type": "markdown",
      "id": "80171360",
      "metadata": {
        "id": "80171360"
      },
      "source": [
        "I will extract the data from each table for the year 2020 only and read it into a dataframe"
      ]
    },
    {
      "cell_type": "code",
      "execution_count": null,
      "id": "03ded74b",
      "metadata": {
        "id": "03ded74b"
      },
      "outputs": [],
      "source": [
        "# Dataframe of accident containing data from 2020 only\n",
        "\n",
        "accident_df = db.dataframe_2020('accident')\n",
        "accident_df.head()"
      ]
    },
    {
      "cell_type": "code",
      "execution_count": null,
      "id": "d4d1d909",
      "metadata": {
        "id": "d4d1d909"
      },
      "outputs": [],
      "source": [
        "# Dataframe of casualty containing data from 2020 only\n",
        "\n",
        "casualty_df = db.dataframe_2020('casualty')\n",
        "casualty_df.head()"
      ]
    },
    {
      "cell_type": "code",
      "execution_count": null,
      "id": "6d0a2482",
      "metadata": {
        "id": "6d0a2482"
      },
      "outputs": [],
      "source": [
        "# Dataframe of vehicle containing data from 2020 only\n",
        "\n",
        "vehicle_df = db.dataframe_2020('vehicle')\n",
        "vehicle_df.head()"
      ]
    },
    {
      "cell_type": "markdown",
      "id": "caf260de",
      "metadata": {
        "id": "caf260de"
      },
      "source": [
        "This column does not have accident year so I will extract all the data from lsoa table and read it into a dataframe"
      ]
    },
    {
      "cell_type": "code",
      "execution_count": null,
      "id": "992df008",
      "metadata": {
        "id": "992df008"
      },
      "outputs": [],
      "source": [
        "# Dataframe of lsoa\n",
        "\n",
        "lsoa_df = db.dataframe('lsoa')\n",
        "lsoa_df.head()"
      ]
    },
    {
      "cell_type": "code",
      "execution_count": null,
      "id": "5f53c0ce",
      "metadata": {
        "id": "5f53c0ce"
      },
      "outputs": [],
      "source": [
        "# Closes the connection to the accident_data_v1.0.0_2023 database\n",
        "\n",
        "db.close_connection()"
      ]
    },
    {
      "cell_type": "markdown",
      "id": "88b48b73",
      "metadata": {
        "id": "88b48b73"
      },
      "source": [
        "### I created a class data_cleaning that does the following:\n",
        "\n",
        "+ Fills in nan values with forward fill\n",
        "+ Plots the distribution of a column with a histogram\n",
        "+ Fills in nan values with kde"
      ]
    },
    {
      "cell_type": "code",
      "execution_count": null,
      "id": "a3f089c5",
      "metadata": {
        "id": "a3f089c5"
      },
      "outputs": [],
      "source": [
        "class data_cleaning:\n",
        "    def __init__(self, accident_df, casualty_df, vehicle_df):\n",
        "        self.accident_df = accident_df\n",
        "        self.casualty_df = casualty_df\n",
        "        self.vehicle_df = vehicle_df\n",
        "\n",
        "    # Method to fill nan values with forward fill\n",
        "    def use_forward_fill(self, df, columns):\n",
        "\n",
        "        # Iterating through each column in the list columns\n",
        "        for column in columns:\n",
        "\n",
        "            # Fills in each column with nan values with forward fill\n",
        "            df[column].fillna(method = 'ffill', inplace = True)\n",
        "\n",
        "    # Method to plot the distribution of a column\n",
        "    def plot_columns(self, df, column):\n",
        "\n",
        "        # Plots the distribution of a column with a histgram\n",
        "        sns.histplot(data = df, x = column)\n",
        "        plt.title(f'Distribution of {column}')\n",
        "\n",
        "        # Returns a histogram\n",
        "        return plt.show()\n",
        "\n",
        "    # Method to fill in values with kde\n",
        "    def using_kde(self, df, column):\n",
        "\n",
        "        # Creates a duplicated version of the dataframe\n",
        "        duplicated_df = df.copy()\n",
        "\n",
        "        # Replaces -1 values with nan values\n",
        "        duplicated_df[column] = duplicated_df[column].replace(-1, np.nan)\n",
        "\n",
        "        # Assigns the nan values of a column to a variable\n",
        "        nan_values = duplicated_df[column].isnull()\n",
        "\n",
        "        # Drops the nan values of a column\n",
        "        non_nan_values = duplicated_df[column].dropna()\n",
        "\n",
        "        # Creates an instance of the Gaussian Kde model\n",
        "        gaussian_kde_model = gaussian_kde(non_nan_values)\n",
        "\n",
        "        # Gets the sum of the nan values\n",
        "        num_of_nan_values = np.sum(nan_values)\n",
        "\n",
        "        # Changes all the nan of the column using kde\n",
        "        duplicated_df[column].loc[nan_values] = gaussian_kde_model.resample(num_of_nan_values)[0]\n",
        "\n",
        "        # Changes all the values of the column to integers\n",
        "        duplicated_df[column] = duplicated_df[column].apply(int)\n",
        "\n",
        "        df[column] = duplicated_df[column]"
      ]
    },
    {
      "cell_type": "code",
      "execution_count": null,
      "id": "62a2e33a",
      "metadata": {
        "id": "62a2e33a"
      },
      "outputs": [],
      "source": [
        "# Creates an instance of the data_cleaning class\n",
        "\n",
        "clean_data = data_cleaning(accident_df, casualty_df, vehicle_df)"
      ]
    },
    {
      "cell_type": "markdown",
      "id": "a6b77645",
      "metadata": {
        "id": "a6b77645"
      },
      "source": [
        "<h3 style = 'text-align : center'>Accident Table</h3>"
      ]
    },
    {
      "cell_type": "code",
      "execution_count": null,
      "id": "2cb92fa4",
      "metadata": {
        "id": "2cb92fa4"
      },
      "outputs": [],
      "source": [
        "# prints accident_df information\n",
        "\n",
        "accident_df.info()"
      ]
    },
    {
      "cell_type": "code",
      "execution_count": null,
      "id": "a658325b",
      "metadata": {
        "id": "a658325b"
      },
      "outputs": [],
      "source": [
        "# Checks for nan values in accident_df\n",
        "\n",
        "accident_df.isnull().sum()"
      ]
    },
    {
      "cell_type": "code",
      "execution_count": null,
      "id": "d34de7f8",
      "metadata": {
        "id": "d34de7f8"
      },
      "outputs": [],
      "source": [
        "# Check for duplicated columns in accident_df\n",
        "\n",
        "accident_df.duplicated().sum()"
      ]
    },
    {
      "cell_type": "markdown",
      "id": "2e31cc32",
      "metadata": {
        "id": "2e31cc32"
      },
      "source": [
        "<h4 style = 'text-align : center'>NaN values</h4>"
      ]
    },
    {
      "cell_type": "code",
      "execution_count": null,
      "id": "bad63a41",
      "metadata": {
        "id": "bad63a41"
      },
      "outputs": [],
      "source": [
        "# Dataframe of accident_df when location_easting_osgr column has nan values\n",
        "\n",
        "accident_df[accident_df['location_easting_osgr'].isnull()]"
      ]
    },
    {
      "cell_type": "markdown",
      "id": "2b16e5c9",
      "metadata": {
        "id": "2b16e5c9"
      },
      "source": [
        "+ I noticed there are nan values in the location_easting_osgr, location_northing_osgr, longitude and latitude columns\n",
        "+ I noticed that all the columns with nan values are in the same rows\n",
        "+ I filled in the nan values for these columns with forward fill"
      ]
    },
    {
      "cell_type": "code",
      "execution_count": null,
      "id": "8fe657b8",
      "metadata": {
        "id": "8fe657b8"
      },
      "outputs": [],
      "source": [
        "# List of columns to fill with forward fill\n",
        "\n",
        "forward_fill_columns = ['location_easting_osgr','location_northing_osgr', 'longitude', 'latitude']"
      ]
    },
    {
      "cell_type": "code",
      "execution_count": null,
      "id": "22df0955",
      "metadata": {
        "id": "22df0955"
      },
      "outputs": [],
      "source": [
        "# Fills the data in the list columns with forward fill\n",
        "\n",
        "clean_data.use_forward_fill(accident_df, forward_fill_columns)"
      ]
    },
    {
      "cell_type": "markdown",
      "id": "c6bc4edb",
      "metadata": {
        "id": "c6bc4edb"
      },
      "source": [
        "<h4 style = 'text-align : center'>speed_limit</h4>"
      ]
    },
    {
      "cell_type": "code",
      "execution_count": null,
      "id": "b26c0c32",
      "metadata": {
        "id": "b26c0c32"
      },
      "outputs": [],
      "source": [
        "# Checks catalogue for speed_limit\n",
        "\n",
        "catalogue_df[(catalogue_df['table'] == 'accident') | (catalogue_df['field name'] == 'speed_limit')]"
      ]
    },
    {
      "cell_type": "code",
      "execution_count": null,
      "id": "32a2825d",
      "metadata": {
        "id": "32a2825d"
      },
      "outputs": [],
      "source": [
        "# Prints value counts for speed limit\n",
        "\n",
        "accident_df['speed_limit'].value_counts()"
      ]
    },
    {
      "cell_type": "markdown",
      "id": "3b7ddc18",
      "metadata": {
        "id": "3b7ddc18"
      },
      "source": [
        "+ I noticed there few -1 values (12) of speed limit\n",
        "+ I noticed there is a label 99 for unknown(self reported)\n",
        "+ I filled the -1 values of speed limit with 99"
      ]
    },
    {
      "cell_type": "code",
      "execution_count": null,
      "id": "814e705c",
      "metadata": {
        "id": "814e705c"
      },
      "outputs": [],
      "source": [
        "# Replaces -1 values of speed limit with 99\n",
        "\n",
        "accident_df['speed_limit'] = accident_df['speed_limit'].replace(-1, 99)"
      ]
    },
    {
      "cell_type": "markdown",
      "id": "ab1d415d",
      "metadata": {
        "id": "ab1d415d"
      },
      "source": [
        "<h4 style = 'text-align : center'>junction_detail</h4>"
      ]
    },
    {
      "cell_type": "code",
      "execution_count": null,
      "id": "36ba79da",
      "metadata": {
        "id": "36ba79da"
      },
      "outputs": [],
      "source": [
        "# Checks catalogue for junction_detail\n",
        "\n",
        "catalogue_df[(catalogue_df['table'] == 'accident') | (catalogue_df['field name'] == 'junction_detail')]"
      ]
    },
    {
      "cell_type": "code",
      "execution_count": null,
      "id": "9ebbdda7",
      "metadata": {
        "id": "9ebbdda7"
      },
      "outputs": [],
      "source": [
        "# Prints value counts for junction_detail\n",
        "\n",
        "accident_df['junction_detail'].value_counts()"
      ]
    },
    {
      "cell_type": "markdown",
      "id": "926aa0a9",
      "metadata": {
        "id": "926aa0a9"
      },
      "source": [
        "+ I noticed there few -1 values (2) of junction_detail\n",
        "+ I noticed there is a label 99 for unknown(self reported)\n",
        "+ I filled the -1 values of junction_detail with 99"
      ]
    },
    {
      "cell_type": "code",
      "execution_count": null,
      "id": "c1813362",
      "metadata": {
        "id": "c1813362"
      },
      "outputs": [],
      "source": [
        "# Replaces -1 values of junction_detail with 99\n",
        "\n",
        "accident_df['junction_detail'] = accident_df['junction_detail'].replace(-1, 99)"
      ]
    },
    {
      "cell_type": "markdown",
      "id": "b4146dfc",
      "metadata": {
        "id": "b4146dfc"
      },
      "source": [
        "<h4 style = 'text-align : center'>junction_control</h4>"
      ]
    },
    {
      "cell_type": "code",
      "execution_count": null,
      "id": "8a341ff7",
      "metadata": {
        "id": "8a341ff7"
      },
      "outputs": [],
      "source": [
        "# Checks catalogue for junction_control\n",
        "\n",
        "catalogue_df[(catalogue_df['table'] == 'accident') | (catalogue_df['field name'] == 'junction_control')]"
      ]
    },
    {
      "cell_type": "code",
      "execution_count": null,
      "id": "d5f1426c",
      "metadata": {
        "id": "d5f1426c"
      },
      "outputs": [],
      "source": [
        "# Prints value counts for junction_control\n",
        "\n",
        "accident_df['junction_control'].value_counts()"
      ]
    },
    {
      "cell_type": "markdown",
      "id": "bae519cb",
      "metadata": {
        "id": "bae519cb"
      },
      "source": [
        "+ I noticed there a lot of -1 values (38298) of junction_control\n",
        "+ I noticed there is a label 9 for unknown(self reported)\n",
        "+ I filled the -1 values of junction_control with 9"
      ]
    },
    {
      "cell_type": "code",
      "execution_count": null,
      "id": "7b061449",
      "metadata": {
        "id": "7b061449"
      },
      "outputs": [],
      "source": [
        "# Replaces -1 values of junction_control with 9\n",
        "\n",
        "accident_df['junction_control'] = accident_df['junction_control'].replace(-1, 9)"
      ]
    },
    {
      "cell_type": "markdown",
      "id": "85a5500d",
      "metadata": {
        "id": "85a5500d"
      },
      "source": [
        "<h4 style = 'text-align : center'>second_road_class</h4>"
      ]
    },
    {
      "cell_type": "code",
      "execution_count": null,
      "id": "2d46b061",
      "metadata": {
        "id": "2d46b061"
      },
      "outputs": [],
      "source": [
        "# Checks catalogue for second_road_class\n",
        "\n",
        "catalogue_df[(catalogue_df['table'] == 'accident') | (catalogue_df['field name'] == 'second_road_class')]"
      ]
    },
    {
      "cell_type": "code",
      "execution_count": null,
      "id": "6d4db810",
      "metadata": {
        "id": "6d4db810"
      },
      "outputs": [],
      "source": [
        "# Prints value counts for second_road_class\n",
        "\n",
        "accident_df['second_road_class'].value_counts()"
      ]
    },
    {
      "cell_type": "markdown",
      "id": "ffc8f635",
      "metadata": {
        "id": "ffc8f635"
      },
      "source": [
        "+ I noticed there a lot of -1 values (110) of second_road_class\n",
        "+ I noticed there is a label 6 for unclassified\n",
        "+ I filled the -1 values of second_road_class with 6"
      ]
    },
    {
      "cell_type": "code",
      "execution_count": null,
      "id": "711e12db",
      "metadata": {
        "id": "711e12db"
      },
      "outputs": [],
      "source": [
        "# Replaces -1 values of second_road_class with 6\n",
        "\n",
        "accident_df['second_road_class'] = accident_df['second_road_class'].replace(-1, 6)"
      ]
    },
    {
      "cell_type": "markdown",
      "id": "01e79f17",
      "metadata": {
        "id": "01e79f17"
      },
      "source": [
        "<h4 style = 'text-align : center'>second_road_number</h4>"
      ]
    },
    {
      "cell_type": "code",
      "execution_count": null,
      "id": "1c9ab293",
      "metadata": {
        "id": "1c9ab293"
      },
      "outputs": [],
      "source": [
        "# Checks catalogue for second_road_number\n",
        "\n",
        "catalogue_df[(catalogue_df['table'] == 'accident') | (catalogue_df['field name'] == 'second_road_number')]"
      ]
    },
    {
      "cell_type": "code",
      "execution_count": null,
      "id": "913c2797",
      "metadata": {
        "id": "913c2797"
      },
      "outputs": [],
      "source": [
        "# Prints the value counts for second_road_number\n",
        "\n",
        "accident_df['second_road_number'].value_counts()"
      ]
    },
    {
      "cell_type": "markdown",
      "id": "5aec1acf",
      "metadata": {
        "id": "5aec1acf"
      },
      "source": [
        "+ I noticed there a lot of -1 values (38045) of second_road_number\n",
        "+ I noticed there is a label 6 for unclassified\n",
        "+ I filled the -1 values of second_road_number with 0"
      ]
    },
    {
      "cell_type": "code",
      "execution_count": null,
      "id": "7537e2f4",
      "metadata": {
        "id": "7537e2f4"
      },
      "outputs": [],
      "source": [
        "# Replaces -1 values of second_road_number with 0\n",
        "\n",
        "accident_df['second_road_number'] = accident_df['second_road_number'].replace(-1, 0)"
      ]
    },
    {
      "cell_type": "markdown",
      "id": "be1277d7",
      "metadata": {
        "id": "be1277d7"
      },
      "source": [
        "<h4 style = 'text-align : center'>pedestrian_crossing_human_control</h4>"
      ]
    },
    {
      "cell_type": "code",
      "execution_count": null,
      "id": "e4e67d92",
      "metadata": {
        "id": "e4e67d92"
      },
      "outputs": [],
      "source": [
        "# Checks catalogue for pedestrian_crossing_human_control\n",
        "\n",
        "catalogue_df[(catalogue_df['table'] == 'accident') | (catalogue_df['field name'] == 'pedestrian_crossing_human_control')]"
      ]
    },
    {
      "cell_type": "code",
      "execution_count": null,
      "id": "805250d3",
      "metadata": {
        "id": "805250d3"
      },
      "outputs": [],
      "source": [
        "# Prints the value counts for pedestrian_crossing_human_control\n",
        "\n",
        "accident_df['pedestrian_crossing_human_control'].value_counts()"
      ]
    },
    {
      "cell_type": "markdown",
      "id": "029f45db",
      "metadata": {
        "id": "029f45db"
      },
      "source": [
        "+ I noticed there a lot of -1 values (143) of pedestrian_crossing_human_control\n",
        "+ I noticed there is a label 9 for unknown(self reported)\n",
        "+ I filled the -1 values of pedestrian_crossing_human_control with 9"
      ]
    },
    {
      "cell_type": "code",
      "execution_count": null,
      "id": "aed5bd00",
      "metadata": {
        "id": "aed5bd00"
      },
      "outputs": [],
      "source": [
        "# Replaces -1 values of second_road_number with 0\n",
        "\n",
        "accident_df['second_road_number'] = accident_df['second_road_number'].replace(-1, 0)"
      ]
    },
    {
      "cell_type": "markdown",
      "id": "7402dc60",
      "metadata": {
        "id": "7402dc60"
      },
      "source": [
        "<h4 style = 'text-align : center'>pedestrian_crossing_physical_facilities</h4>"
      ]
    },
    {
      "cell_type": "code",
      "execution_count": null,
      "id": "2fc02d1e",
      "metadata": {
        "id": "2fc02d1e"
      },
      "outputs": [],
      "source": [
        "# Checks catalogue for pedestrian_crossing_physical_facilities\n",
        "\n",
        "catalogue_df[(catalogue_df['table'] == 'accident') | (catalogue_df['field name'] == 'pedestrian_crossing_physical_facilities')]"
      ]
    },
    {
      "cell_type": "code",
      "execution_count": null,
      "id": "bdd36604",
      "metadata": {
        "id": "bdd36604"
      },
      "outputs": [],
      "source": [
        "# Prints the value counts for pedestrian_crossing_physical_facilities\n",
        "\n",
        "accident_df['pedestrian_crossing_physical_facilities'].value_counts()"
      ]
    },
    {
      "cell_type": "markdown",
      "id": "7df91141",
      "metadata": {
        "id": "7df91141"
      },
      "source": [
        "+ I noticed there a lot of -1 values (135) of pedestrian_crossing_physical_facilities\n",
        "+ I noticed there is a label 9 for unknown(self reported)\n",
        "+ I filled the -1 values of pedestrian_crossing_physical_facilities with 9"
      ]
    },
    {
      "cell_type": "code",
      "execution_count": null,
      "id": "3a437f61",
      "metadata": {
        "id": "3a437f61"
      },
      "outputs": [],
      "source": [
        "# Replaces -1 values of pedestrian_crossing_physical_facilities with 9\n",
        "\n",
        "accident_df['pedestrian_crossing_physical_facilities'] = accident_df['pedestrian_crossing_physical_facilities'].replace(-1, 9)"
      ]
    },
    {
      "cell_type": "markdown",
      "id": "37631a95",
      "metadata": {
        "id": "37631a95"
      },
      "source": [
        "<h4 style = 'text-align : center'>light_conditions</h4>"
      ]
    },
    {
      "cell_type": "code",
      "execution_count": null,
      "id": "4afa71b4",
      "metadata": {
        "id": "4afa71b4"
      },
      "outputs": [],
      "source": [
        "# Checks catalogue for light_conditions\n",
        "\n",
        "catalogue_df[(catalogue_df['table'] == 'accident') | (catalogue_df['field name'] == 'light_conditions')]"
      ]
    },
    {
      "cell_type": "code",
      "execution_count": null,
      "id": "44a4c4ec",
      "metadata": {
        "id": "44a4c4ec"
      },
      "outputs": [],
      "source": [
        "# Prints the value counts for light_conditions\n",
        "\n",
        "accident_df['light_conditions'].value_counts()"
      ]
    },
    {
      "cell_type": "markdown",
      "id": "9085f2d3",
      "metadata": {
        "id": "9085f2d3"
      },
      "source": [
        "+ I noticed there a few -1 values (1) of light_conditions\n",
        "+ I noticed there is a label 7 for darkness - lighting unknown\n",
        "+ I filled the -1 values of light_conditions with 7"
      ]
    },
    {
      "cell_type": "code",
      "execution_count": null,
      "id": "f10a1ee6",
      "metadata": {
        "id": "f10a1ee6"
      },
      "outputs": [],
      "source": [
        "# Replaces -1 values of light_conditions with 7\n",
        "\n",
        "accident_df['light_conditions'] = accident_df['light_conditions'].replace(-1, 7)"
      ]
    },
    {
      "cell_type": "markdown",
      "id": "11f81e40",
      "metadata": {
        "id": "11f81e40"
      },
      "source": [
        "<h4 style = 'text-align : center'>weather_conditions</h4>"
      ]
    },
    {
      "cell_type": "code",
      "execution_count": null,
      "id": "486d9a4e",
      "metadata": {
        "id": "486d9a4e"
      },
      "outputs": [],
      "source": [
        "# Checks catalogue for weather_conditions\n",
        "\n",
        "catalogue_df[(catalogue_df['table'] == 'accident') | (catalogue_df['field name'] == 'weather_conditions')]"
      ]
    },
    {
      "cell_type": "code",
      "execution_count": null,
      "id": "710b1b6a",
      "metadata": {
        "id": "710b1b6a"
      },
      "outputs": [],
      "source": [
        "# Prints the value counts for weather_conditions\n",
        "\n",
        "accident_df['weather_conditions'].value_counts()"
      ]
    },
    {
      "cell_type": "markdown",
      "id": "234088f3",
      "metadata": {
        "id": "234088f3"
      },
      "source": [
        "+ I noticed there a few -1 values (1) of weather_conditions\n",
        "+ I noticed there is a label 9 for Unknown\n",
        "+ I filled the -1 values of weather_conditions with 9"
      ]
    },
    {
      "cell_type": "code",
      "execution_count": null,
      "id": "2a44b272",
      "metadata": {
        "id": "2a44b272"
      },
      "outputs": [],
      "source": [
        "# Replaces -1 values of weather_conditions with 9\n",
        "\n",
        "accident_df['weather_conditions'] = accident_df['weather_conditions'].replace(-1, 9)"
      ]
    },
    {
      "cell_type": "markdown",
      "id": "48a89a5b",
      "metadata": {
        "id": "48a89a5b"
      },
      "source": [
        "<h4 style = 'text-align : center'>road_surface_conditions</h4>"
      ]
    },
    {
      "cell_type": "code",
      "execution_count": null,
      "id": "49724df1",
      "metadata": {
        "id": "49724df1"
      },
      "outputs": [],
      "source": [
        "# Checks catalogue for road_surface_conditions\n",
        "\n",
        "catalogue_df[(catalogue_df['table'] == 'accident') | (catalogue_df['field name'] == 'road_surface_conditions')]"
      ]
    },
    {
      "cell_type": "code",
      "execution_count": null,
      "id": "0662cabf",
      "metadata": {
        "id": "0662cabf"
      },
      "outputs": [],
      "source": [
        "# Prints the value counts for road_surface_conditions\n",
        "\n",
        "accident_df['road_surface_conditions'].value_counts()"
      ]
    },
    {
      "cell_type": "markdown",
      "id": "128ddf5d",
      "metadata": {
        "id": "128ddf5d"
      },
      "source": [
        "+ I noticed there a lot of -1 values (316) of road_surface_conditions\n",
        "+ I noticed there is a label 9 for unknown(self reported)\n",
        "+ I filled the -1 values of road_surface_conditions with 9"
      ]
    },
    {
      "cell_type": "code",
      "execution_count": null,
      "id": "54b25232",
      "metadata": {
        "id": "54b25232"
      },
      "outputs": [],
      "source": [
        "# Replaces -1 values of road_surface_conditions with 9\n",
        "\n",
        "accident_df['road_surface_conditions'] = accident_df['road_surface_conditions'].replace(-1, 9)"
      ]
    },
    {
      "cell_type": "markdown",
      "id": "74afb5b3",
      "metadata": {
        "id": "74afb5b3"
      },
      "source": [
        "<h4 style = 'text-align : center'>special_conditions_at_site</h4>"
      ]
    },
    {
      "cell_type": "code",
      "execution_count": null,
      "id": "500bf41a",
      "metadata": {
        "id": "500bf41a"
      },
      "outputs": [],
      "source": [
        "# Checks catalogue for special_conditions_at_site\n",
        "\n",
        "catalogue_df[(catalogue_df['table'] == 'accident') | (catalogue_df['field name'] == 'special_conditions_at_site')]"
      ]
    },
    {
      "cell_type": "code",
      "execution_count": null,
      "id": "79414e14",
      "metadata": {
        "id": "79414e14"
      },
      "outputs": [],
      "source": [
        "# Prints the value counts for special_conditions_at_site\n",
        "\n",
        "accident_df['special_conditions_at_site'].value_counts()"
      ]
    },
    {
      "cell_type": "markdown",
      "id": "1bff00f5",
      "metadata": {
        "id": "1bff00f5"
      },
      "source": [
        "+ I noticed there a lot of -1 values (218) of special_conditions_at_site\n",
        "+ I noticed there is a label 9 for unknown(self reported)\n",
        "+ I filled the -1 values of special_conditions_at_site with 9"
      ]
    },
    {
      "cell_type": "code",
      "execution_count": null,
      "id": "14c46d21",
      "metadata": {
        "id": "14c46d21"
      },
      "outputs": [],
      "source": [
        "# Replaces -1 values of special_conditions_at_site with 9\n",
        "\n",
        "accident_df['special_conditions_at_site'] = accident_df['special_conditions_at_site'].replace(-1, 9)"
      ]
    },
    {
      "cell_type": "markdown",
      "id": "a0d8dab1",
      "metadata": {
        "id": "a0d8dab1"
      },
      "source": [
        "<h4 style = 'text-align : center'>carriageway_hazards</h4>"
      ]
    },
    {
      "cell_type": "code",
      "execution_count": null,
      "id": "8b0cf6f7",
      "metadata": {
        "id": "8b0cf6f7"
      },
      "outputs": [],
      "source": [
        "# Checks catalogue for carriageway_hazards\n",
        "\n",
        "catalogue_df[(catalogue_df['table'] == 'accident') | (catalogue_df['field name'] == 'carriageway_hazards')]"
      ]
    },
    {
      "cell_type": "code",
      "execution_count": null,
      "id": "5798cdc4",
      "metadata": {
        "id": "5798cdc4"
      },
      "outputs": [],
      "source": [
        "# Prints the value counts for carriageway_hazards\n",
        "\n",
        "accident_df['carriageway_hazards'].value_counts()"
      ]
    },
    {
      "cell_type": "markdown",
      "id": "737b4e36",
      "metadata": {
        "id": "737b4e36"
      },
      "source": [
        "+ I noticed there a lot of -1 values (208) of carriageway_hazards\n",
        "+ I noticed there is a label 9 for unknown(self reported)\n",
        "+ I filled the -1 values of carriageway_hazards_at_site with 9"
      ]
    },
    {
      "cell_type": "code",
      "execution_count": null,
      "id": "42723582",
      "metadata": {
        "id": "42723582"
      },
      "outputs": [],
      "source": [
        "# Replaces -1 values of carriageway_hazards_at_site with 9\n",
        "\n",
        "accident_df['carriageway_hazards'] = accident_df['carriageway_hazards'].replace(-1, 9)"
      ]
    },
    {
      "cell_type": "markdown",
      "id": "0e642556",
      "metadata": {
        "id": "0e642556"
      },
      "source": [
        "<h4 style = 'text-align : center'>trunk_road_flag</h4>"
      ]
    },
    {
      "cell_type": "code",
      "execution_count": null,
      "id": "648b0a21",
      "metadata": {
        "id": "648b0a21"
      },
      "outputs": [],
      "source": [
        "# Checks catalogue for trunk_road_flag\n",
        "\n",
        "catalogue_df[(catalogue_df['table'] == 'accident') | (catalogue_df['field name'] == 'trunk_road_flag')]"
      ]
    },
    {
      "cell_type": "code",
      "execution_count": null,
      "id": "948a33a2",
      "metadata": {
        "id": "948a33a2"
      },
      "outputs": [],
      "source": [
        "# Dataframe for -1 values of trunk_road_flag\n",
        "\n",
        "no_trunk = accident_df[accident_df['trunk_road_flag'] == -1]\n",
        "no_trunk"
      ]
    },
    {
      "cell_type": "code",
      "execution_count": null,
      "id": "2b83a899",
      "metadata": {
        "id": "2b83a899"
      },
      "outputs": [],
      "source": [
        "# Unique values of local_authority_ons_district  for the dataframe of -1 values of trunk_road_flag\n",
        "\n",
        "no_trunk['local_authority_ons_district'].unique()"
      ]
    },
    {
      "cell_type": "markdown",
      "id": "a65c54f0",
      "metadata": {
        "id": "a65c54f0"
      },
      "source": [
        "+ I noticed all the column of -1 values of trunk_road_flag are in Wales or Scotland from the local_authority_ons_district column\n",
        "+ For a road to be trunk it has to be managed by Highways England\n",
        "+ I filled in the -1 values of trunk_road_flag with 2 which is for non_trunk"
      ]
    },
    {
      "cell_type": "code",
      "execution_count": null,
      "id": "4cb356e3",
      "metadata": {
        "id": "4cb356e3"
      },
      "outputs": [],
      "source": [
        "# Replace trunk_road_flag -1 with 2 (non trunk)\n",
        "\n",
        "accident_df.loc[accident_df['trunk_road_flag'] == -1, 'trunk_road_flag'] = 2"
      ]
    },
    {
      "cell_type": "markdown",
      "id": "79608249",
      "metadata": {
        "id": "79608249"
      },
      "source": [
        "<h3 style = 'text-align : center'>Casualty Table</h3>"
      ]
    },
    {
      "cell_type": "code",
      "execution_count": null,
      "id": "9912d956",
      "metadata": {
        "id": "9912d956"
      },
      "outputs": [],
      "source": [
        "# prints casualty_df information\n",
        "\n",
        "casualty_df.info()"
      ]
    },
    {
      "cell_type": "code",
      "execution_count": null,
      "id": "7dccc484",
      "metadata": {
        "scrolled": true,
        "id": "7dccc484"
      },
      "outputs": [],
      "source": [
        "# Check for NaN values in casualty_df\n",
        "\n",
        "casualty_df.isnull().sum()"
      ]
    },
    {
      "cell_type": "code",
      "execution_count": null,
      "id": "917d909d",
      "metadata": {
        "id": "917d909d"
      },
      "outputs": [],
      "source": [
        "# Check for duplicated values in casualty_df\n",
        "\n",
        "casualty_df.duplicated().sum()"
      ]
    },
    {
      "cell_type": "markdown",
      "id": "2d90ca6e",
      "metadata": {
        "id": "2d90ca6e"
      },
      "source": [
        "<h4 style = 'text-align : center'>sex_of_casualty</h4>"
      ]
    },
    {
      "cell_type": "code",
      "execution_count": null,
      "id": "2c83decd",
      "metadata": {
        "id": "2c83decd"
      },
      "outputs": [],
      "source": [
        "# Checks catalogue for sex_of_casualty\n",
        "\n",
        "catalogue_df[(catalogue_df['table'] == 'casualty') | (catalogue_df['field name'] == 'sex_of_casualty')]"
      ]
    },
    {
      "cell_type": "code",
      "execution_count": null,
      "id": "6fbda6b5",
      "metadata": {
        "id": "6fbda6b5"
      },
      "outputs": [],
      "source": [
        "# Prints the value counts for sex_of_casualty\n",
        "\n",
        "casualty_df['sex_of_casualty'].value_counts()"
      ]
    },
    {
      "cell_type": "markdown",
      "id": "f54cc963",
      "metadata": {
        "id": "f54cc963"
      },
      "source": [
        "+ I noticed there a lot of -1 values (756) of sex_of_casualty\n",
        "+ I noticed there is a label 9 for unknown(self reported)\n",
        "+ I filled the -1 values of sex_of_casualty with 9"
      ]
    },
    {
      "cell_type": "code",
      "execution_count": null,
      "id": "ae900fa5",
      "metadata": {
        "id": "ae900fa5"
      },
      "outputs": [],
      "source": [
        "# Replaces -1 values of sex_of_casualty with 9\n",
        "\n",
        "casualty_df['sex_of_casualty'] = casualty_df['sex_of_casualty'].replace(-1, 9)"
      ]
    },
    {
      "cell_type": "markdown",
      "id": "f7f01400",
      "metadata": {
        "id": "f7f01400"
      },
      "source": [
        "<h4 style = 'text-align : center'>age_of_casualty</h4>"
      ]
    },
    {
      "cell_type": "code",
      "execution_count": null,
      "id": "c4587c5e",
      "metadata": {
        "id": "c4587c5e"
      },
      "outputs": [],
      "source": [
        "# Distribution of age_of_casualty\n",
        "\n",
        "clean_data.plot_columns(casualty_df, 'age_of_casualty')"
      ]
    },
    {
      "cell_type": "code",
      "execution_count": null,
      "id": "c46ac0c4",
      "metadata": {
        "id": "c46ac0c4"
      },
      "outputs": [],
      "source": [
        "# Fills in values of age_of_casualty with kde\n",
        "\n",
        "clean_data.using_kde(casualty_df, 'age_of_casualty')"
      ]
    },
    {
      "cell_type": "code",
      "execution_count": null,
      "id": "31126593",
      "metadata": {
        "id": "31126593"
      },
      "outputs": [],
      "source": [
        "# Distribution of age_of_casualty after cleaning with kde\n",
        "\n",
        "clean_data.plot_columns(casualty_df, 'age_of_casualty')"
      ]
    },
    {
      "cell_type": "markdown",
      "id": "859d57f1",
      "metadata": {
        "id": "859d57f1"
      },
      "source": [
        "<h4 style = 'text-align : center'>pedestrian_location</h4>"
      ]
    },
    {
      "cell_type": "code",
      "execution_count": null,
      "id": "258d2598",
      "metadata": {
        "id": "258d2598"
      },
      "outputs": [],
      "source": [
        "# Checks catalogue for pedestrian_location\n",
        "\n",
        "catalogue_df[(catalogue_df['table'] == 'casualty') | (catalogue_df['field name'] == 'pedestrian_location')]"
      ]
    },
    {
      "cell_type": "code",
      "execution_count": null,
      "id": "7bf32414",
      "metadata": {
        "id": "7bf32414"
      },
      "outputs": [],
      "source": [
        "# Prints the value counts for pedestrian_location\n",
        "\n",
        "casualty_df['pedestrian_location'].value_counts()"
      ]
    },
    {
      "cell_type": "markdown",
      "id": "f04bb279",
      "metadata": {
        "id": "f04bb279"
      },
      "source": [
        "+ I noticed there a few -1 values (2) of pedestrian_location\n",
        "+ I noticed there is a label 10 for unknown or other\n",
        "+ I filled the -1 values of pedestrian_location with 10"
      ]
    },
    {
      "cell_type": "code",
      "execution_count": null,
      "id": "31c2f95d",
      "metadata": {
        "id": "31c2f95d"
      },
      "outputs": [],
      "source": [
        "# Replaces -1 values of pedestrian_location with 10\n",
        "\n",
        "casualty_df['pedestrian_location'] = casualty_df['pedestrian_location'].replace(-1, 10)"
      ]
    },
    {
      "cell_type": "markdown",
      "id": "0621743f",
      "metadata": {
        "id": "0621743f"
      },
      "source": [
        "<h4 style = 'text-align : center'>pedestrian_movement</h4>"
      ]
    },
    {
      "cell_type": "code",
      "execution_count": null,
      "id": "7fb15870",
      "metadata": {
        "id": "7fb15870"
      },
      "outputs": [],
      "source": [
        "# Checks catalogue for pedestrian_movement\n",
        "\n",
        "catalogue_df[(catalogue_df['table'] == 'casualty') | (catalogue_df['field name'] == 'pedestrian_movement')]"
      ]
    },
    {
      "cell_type": "code",
      "execution_count": null,
      "id": "d7d8cab7",
      "metadata": {
        "id": "d7d8cab7"
      },
      "outputs": [],
      "source": [
        "# Prints the value counts for pedestrian_movement\n",
        "\n",
        "casualty_df['pedestrian_movement'].value_counts()"
      ]
    },
    {
      "cell_type": "markdown",
      "id": "53dafe4b",
      "metadata": {
        "id": "53dafe4b"
      },
      "source": [
        "+ I noticed there a few -1 values (2) of pedestrian_movement\n",
        "+ I noticed there is a label 9 for unknown or other\n",
        "+ I filled the -1 values of pedestrian_movement with 9"
      ]
    },
    {
      "cell_type": "code",
      "execution_count": null,
      "id": "fd2078a4",
      "metadata": {
        "id": "fd2078a4"
      },
      "outputs": [],
      "source": [
        "# Replaces -1 values of pedestrian_movement with 9\n",
        "\n",
        "casualty_df['pedestrian_movement'] = casualty_df['pedestrian_movement'].replace(-1, 9)"
      ]
    },
    {
      "cell_type": "markdown",
      "id": "0c999b97",
      "metadata": {
        "id": "0c999b97"
      },
      "source": [
        "<h4 style = 'text-align : center'>car_passenger</h4>"
      ]
    },
    {
      "cell_type": "code",
      "execution_count": null,
      "id": "6baf1c92",
      "metadata": {
        "id": "6baf1c92"
      },
      "outputs": [],
      "source": [
        "# Checks catalogue for car_passenger\n",
        "\n",
        "catalogue_df[(catalogue_df['table'] == 'casualty') | (catalogue_df['field name'] == 'car_passenger')]"
      ]
    },
    {
      "cell_type": "code",
      "execution_count": null,
      "id": "b18b7367",
      "metadata": {
        "id": "b18b7367"
      },
      "outputs": [],
      "source": [
        "# Prints the value counts for car_passenger\n",
        "\n",
        "casualty_df['car_passenger'].value_counts()"
      ]
    },
    {
      "cell_type": "markdown",
      "id": "57b0cc07",
      "metadata": {
        "id": "57b0cc07"
      },
      "source": [
        "+ I noticed there a lot of -1 values (311) of car_passenger\n",
        "+ I noticed there is a label 9 for unknown(self reported)\n",
        "+ I filled the -1 values of car_passenger with 9"
      ]
    },
    {
      "cell_type": "code",
      "execution_count": null,
      "id": "f9af112b",
      "metadata": {
        "id": "f9af112b"
      },
      "outputs": [],
      "source": [
        "# Replaces -1 values of car_passenger with 9\n",
        "\n",
        "casualty_df['car_passenger'] = casualty_df['car_passenger'].replace(-1, 9)"
      ]
    },
    {
      "cell_type": "markdown",
      "id": "6a1b1cb5",
      "metadata": {
        "id": "6a1b1cb5"
      },
      "source": [
        "<h4 style = 'text-align : center'>bus_or_coach_passenger</h4>"
      ]
    },
    {
      "cell_type": "code",
      "execution_count": null,
      "id": "783d7154",
      "metadata": {
        "id": "783d7154"
      },
      "outputs": [],
      "source": [
        "# Checks catalogue for bus_or_coach_passenger\n",
        "\n",
        "catalogue_df[(catalogue_df['table'] == 'casualty') | (catalogue_df['field name'] == 'bus_or_coach_passenger')]"
      ]
    },
    {
      "cell_type": "code",
      "execution_count": null,
      "id": "1ced04a9",
      "metadata": {
        "id": "1ced04a9"
      },
      "outputs": [],
      "source": [
        "# Prints the value counts for bus_or_coach_passenger\n",
        "\n",
        "casualty_df['bus_or_coach_passenger'].value_counts()"
      ]
    },
    {
      "cell_type": "markdown",
      "id": "ab6d5750",
      "metadata": {
        "id": "ab6d5750"
      },
      "source": [
        "+ I noticed there few -1 values (22) of bus_or_coach_passenger\n",
        "+ I noticed there is a label 9 for unknown(self reported)\n",
        "+ I filled the -1 bus_or_coach_passenger of sex_of_casualty with 9"
      ]
    },
    {
      "cell_type": "code",
      "execution_count": null,
      "id": "4b72c8ad",
      "metadata": {
        "id": "4b72c8ad"
      },
      "outputs": [],
      "source": [
        "# Replaces -1 values of bus_or_coach_passenger with 9\n",
        "\n",
        "casualty_df['bus_or_coach_passenger'] = casualty_df['bus_or_coach_passenger'].replace(-1, 9)"
      ]
    },
    {
      "cell_type": "markdown",
      "id": "2da4129e",
      "metadata": {
        "id": "2da4129e"
      },
      "source": [
        "<h4 style = 'text-align : center'>pedestrian_road_maintenance_worker</h4>"
      ]
    },
    {
      "cell_type": "code",
      "execution_count": null,
      "id": "a5c41a33",
      "metadata": {
        "id": "a5c41a33"
      },
      "outputs": [],
      "source": [
        "# Checks catalogue for pedestrian_road_maintenance_worker\n",
        "\n",
        "catalogue_df[(catalogue_df['table'] == 'casualty') | (catalogue_df['field name'] == 'pedestrian_road_maintenance_worker')]"
      ]
    },
    {
      "cell_type": "code",
      "execution_count": null,
      "id": "c7aa38b8",
      "metadata": {
        "id": "c7aa38b8"
      },
      "outputs": [],
      "source": [
        "# Prints the value counts for pedestrian_road_maintenance_worker\n",
        "\n",
        "casualty_df['pedestrian_road_maintenance_worker'].value_counts()"
      ]
    },
    {
      "cell_type": "markdown",
      "id": "b733c14e",
      "metadata": {
        "id": "b733c14e"
      },
      "source": [
        "+ I noticed there a lot of -1 values (94) of pedestrian_road_maintenance_worker\n",
        "+ I noticed there is a label 2 for not known\n",
        "+ I filled the -1 values of pedestrian_road_maintenance_worker with 2"
      ]
    },
    {
      "cell_type": "code",
      "execution_count": null,
      "id": "175ac5c6",
      "metadata": {
        "id": "175ac5c6"
      },
      "outputs": [],
      "source": [
        "# Replaces -1 values of pedestrian_road_maintenance_worker with 2\n",
        "\n",
        "casualty_df['pedestrian_road_maintenance_worker'] = casualty_df['pedestrian_road_maintenance_worker'].replace(-1, 2)"
      ]
    },
    {
      "cell_type": "markdown",
      "id": "2749657a",
      "metadata": {
        "id": "2749657a"
      },
      "source": [
        "<h3 style = 'text-align : center'>Vehicle Table</h3>"
      ]
    },
    {
      "cell_type": "code",
      "execution_count": null,
      "id": "c94a0551",
      "metadata": {
        "id": "c94a0551"
      },
      "outputs": [],
      "source": [
        "# Print vehicle_df information\n",
        "\n",
        "vehicle_df.info()"
      ]
    },
    {
      "cell_type": "code",
      "execution_count": null,
      "id": "48a00a7a",
      "metadata": {
        "id": "48a00a7a"
      },
      "outputs": [],
      "source": [
        "# Check for NaN values in vehicle_df\n",
        "\n",
        "vehicle_df.isnull().sum()"
      ]
    },
    {
      "cell_type": "code",
      "execution_count": null,
      "id": "b2b2f5bb",
      "metadata": {
        "id": "b2b2f5bb"
      },
      "outputs": [],
      "source": [
        "# Check for duplicated values in vehicle_df\n",
        "\n",
        "vehicle_df.duplicated().sum()"
      ]
    },
    {
      "cell_type": "markdown",
      "id": "d4242796",
      "metadata": {
        "id": "d4242796"
      },
      "source": [
        "<h4 style = 'text-align : center'>towing_and_articulation</h4>"
      ]
    },
    {
      "cell_type": "code",
      "execution_count": null,
      "id": "edda0896",
      "metadata": {
        "id": "edda0896"
      },
      "outputs": [],
      "source": [
        "# Checks catalogue for towing_and_articulation\n",
        "\n",
        "catalogue_df[(catalogue_df['table'] == 'vehicle') | (catalogue_df['field name'] == 'towing_and_articulation')]"
      ]
    },
    {
      "cell_type": "code",
      "execution_count": null,
      "id": "634a51e0",
      "metadata": {
        "id": "634a51e0"
      },
      "outputs": [],
      "source": [
        "# Prints the value counts for towing_and_articulation\n",
        "\n",
        "vehicle_df['towing_and_articulation'].value_counts()"
      ]
    },
    {
      "cell_type": "markdown",
      "id": "b9b72823",
      "metadata": {
        "id": "b9b72823"
      },
      "source": [
        "+ I noticed there a lot -1 values (689) of towing_and_articulation\n",
        "+ I noticed there is a label 9 for unknown(self reported)\n",
        "+ I filled the -1 of towing_and_articulation with 9"
      ]
    },
    {
      "cell_type": "code",
      "execution_count": null,
      "id": "10603607",
      "metadata": {
        "id": "10603607"
      },
      "outputs": [],
      "source": [
        "# Replaces -1 values of towing_and_articulation with 2\n",
        "\n",
        "vehicle_df['towing_and_articulation'] = vehicle_df['towing_and_articulation'].replace(-1, 2)"
      ]
    },
    {
      "cell_type": "markdown",
      "id": "2c263df9",
      "metadata": {
        "id": "2c263df9"
      },
      "source": [
        "<h4 style = 'text-align : center'>vehicle_manoeuvre</h4>"
      ]
    },
    {
      "cell_type": "code",
      "execution_count": null,
      "id": "b45bc7ff",
      "metadata": {
        "id": "b45bc7ff"
      },
      "outputs": [],
      "source": [
        "# Checks catalogue for vehicle_manoeuvre\n",
        "\n",
        "catalogue_df[(catalogue_df['table'] == 'vehicle') | (catalogue_df['field name'] == 'vehicle_manoeuvre')]"
      ]
    },
    {
      "cell_type": "code",
      "execution_count": null,
      "id": "42ac4752",
      "metadata": {
        "id": "42ac4752"
      },
      "outputs": [],
      "source": [
        "# Prints the value counts for vehicle_manoeuvre\n",
        "\n",
        "vehicle_df['vehicle_manoeuvre'].value_counts()"
      ]
    },
    {
      "cell_type": "markdown",
      "id": "e0a03721",
      "metadata": {
        "id": "e0a03721"
      },
      "source": [
        "+ I noticed there a lot of -1 values (679) of vehicle_manoeuvre\n",
        "+ I noticed there is a label 99 for unknown(self reported)\n",
        "+ I filled the -1 values of vehicle_manoeuvre with 99"
      ]
    },
    {
      "cell_type": "code",
      "execution_count": null,
      "id": "d0a9a9fd",
      "metadata": {
        "id": "d0a9a9fd"
      },
      "outputs": [],
      "source": [
        "# Replaces -1 values of vehicle_manoeuvre with 99\n",
        "\n",
        "vehicle_df['vehicle_manoeuvre'] = vehicle_df['vehicle_manoeuvre'].replace(-1, 99)"
      ]
    },
    {
      "cell_type": "markdown",
      "id": "8b77f10c",
      "metadata": {
        "id": "8b77f10c"
      },
      "source": [
        "<h4 style = 'text-align : center'>vehicle_direction_from</h4>"
      ]
    },
    {
      "cell_type": "code",
      "execution_count": null,
      "id": "45320632",
      "metadata": {
        "id": "45320632"
      },
      "outputs": [],
      "source": [
        "# Checks catalogue for vehicle_direction_from\n",
        "\n",
        "catalogue_df[(catalogue_df['table'] == 'vehicle') | (catalogue_df['field name'] == 'vehicle_direction_from')]"
      ]
    },
    {
      "cell_type": "code",
      "execution_count": null,
      "id": "d8042ea9",
      "metadata": {
        "id": "d8042ea9"
      },
      "outputs": [],
      "source": [
        "# Prints the value counts for vehicle_direction_from\n",
        "\n",
        "vehicle_df['vehicle_direction_from'].value_counts()"
      ]
    },
    {
      "cell_type": "markdown",
      "id": "c39c4089",
      "metadata": {
        "id": "c39c4089"
      },
      "source": [
        "+ I noticed there a lot of -1 values (1640) of vehicle_direction_from\n",
        "+ I noticed there is a label 9 for unknown(self reported)\n",
        "+ I filled the -1 vehicle_direction_from of sex_of_casualty with 9"
      ]
    },
    {
      "cell_type": "code",
      "execution_count": null,
      "id": "51f29756",
      "metadata": {
        "id": "51f29756"
      },
      "outputs": [],
      "source": [
        "# Replaces -1 values of vehicle_direction_from with 9\n",
        "\n",
        "vehicle_df['vehicle_direction_from'] = vehicle_df['vehicle_direction_from'].replace(-1, 9)"
      ]
    },
    {
      "cell_type": "markdown",
      "id": "ba553f3f",
      "metadata": {
        "id": "ba553f3f"
      },
      "source": [
        "<h4 style = 'text-align : center'>vehicle_direction_to</h4>"
      ]
    },
    {
      "cell_type": "code",
      "execution_count": null,
      "id": "527eda0c",
      "metadata": {
        "id": "527eda0c"
      },
      "outputs": [],
      "source": [
        "# Checks catalogue for vehicle_direction_to\n",
        "\n",
        "catalogue_df[(catalogue_df['table'] == 'vehicle') | (catalogue_df['field name'] == 'vehicle_direction_to')]"
      ]
    },
    {
      "cell_type": "code",
      "execution_count": null,
      "id": "bc38629f",
      "metadata": {
        "id": "bc38629f"
      },
      "outputs": [],
      "source": [
        "# Prints the value counts for vehicle_direction_to\n",
        "\n",
        "vehicle_df['vehicle_direction_to'].value_counts()"
      ]
    },
    {
      "cell_type": "markdown",
      "id": "e2d7a07b",
      "metadata": {
        "id": "e2d7a07b"
      },
      "source": [
        "+ I noticed there a lot of -1 values (1653) of vehicle_direction_to\n",
        "+ I noticed there is a label 9 for unknown(self reported)\n",
        "+ I filled the -1 values of vehicle_direction_to with 9"
      ]
    },
    {
      "cell_type": "code",
      "execution_count": null,
      "id": "e8c2f950",
      "metadata": {
        "id": "e8c2f950"
      },
      "outputs": [],
      "source": [
        "# Replaces -1 values of vehicle_direction_to with 9\n",
        "\n",
        "vehicle_df['vehicle_direction_to'] = vehicle_df['vehicle_direction_to'].replace(-1, 9)"
      ]
    },
    {
      "cell_type": "markdown",
      "id": "362f8c4b",
      "metadata": {
        "id": "362f8c4b"
      },
      "source": [
        "<h4 style = 'text-align : center'>vehicle_location_restricted_lane</h4>"
      ]
    },
    {
      "cell_type": "code",
      "execution_count": null,
      "id": "8330b330",
      "metadata": {
        "id": "8330b330"
      },
      "outputs": [],
      "source": [
        "# Checks catalogue for vehicle_location_restricted_lane\n",
        "\n",
        "catalogue_df[(catalogue_df['table'] == 'vehicle') | (catalogue_df['field name'] == 'vehicle_location_restricted_lane')]"
      ]
    },
    {
      "cell_type": "code",
      "execution_count": null,
      "id": "abe978d1",
      "metadata": {
        "id": "abe978d1"
      },
      "outputs": [],
      "source": [
        "# Prints the value counts for vehicle_location_restricted_lane\n",
        "\n",
        "vehicle_df['vehicle_location_restricted_lane'].value_counts()"
      ]
    },
    {
      "cell_type": "markdown",
      "id": "693eba72",
      "metadata": {
        "id": "693eba72"
      },
      "source": [
        "+ I noticed there a lot of -1 values (640) of vehicle_location_restricted_lane\n",
        "+ I noticed there is a label 99 for unknown(self reported)\n",
        "+ I filled the -1  of vehicle_location_restricted_lane with 99"
      ]
    },
    {
      "cell_type": "code",
      "execution_count": null,
      "id": "67c27f9d",
      "metadata": {
        "id": "67c27f9d"
      },
      "outputs": [],
      "source": [
        "# Replaces -1 values of vehicle_location_restricted_lane with 99\n",
        "\n",
        "vehicle_df['vehicle_location_restricted_lane'] = vehicle_df['vehicle_location_restricted_lane'].replace(-1, 99)"
      ]
    },
    {
      "cell_type": "markdown",
      "id": "cb896331",
      "metadata": {
        "id": "cb896331"
      },
      "source": [
        "<h4 style = 'text-align : center'>junction_location</h4>"
      ]
    },
    {
      "cell_type": "code",
      "execution_count": null,
      "id": "44329c68",
      "metadata": {
        "id": "44329c68"
      },
      "outputs": [],
      "source": [
        "# Checks catalogue for junction_location\n",
        "\n",
        "catalogue_df[(catalogue_df['table'] == 'vehicle') | (catalogue_df['field name'] == 'junction_location')]"
      ]
    },
    {
      "cell_type": "code",
      "execution_count": null,
      "id": "73cb4776",
      "metadata": {
        "id": "73cb4776"
      },
      "outputs": [],
      "source": [
        "# Prints the value counts for junction_location\n",
        "\n",
        "vehicle_df['junction_location'].value_counts()"
      ]
    },
    {
      "cell_type": "markdown",
      "id": "7261218c",
      "metadata": {
        "id": "7261218c"
      },
      "source": [
        "+ I noticed there a lot of -1 values (284) of junction_location\n",
        "+ I noticed there is a label 9 for unknown(self reported)\n",
        "+ I filled the -1 values of junction_location with 9"
      ]
    },
    {
      "cell_type": "code",
      "execution_count": null,
      "id": "e708d742",
      "metadata": {
        "id": "e708d742"
      },
      "outputs": [],
      "source": [
        "# Replaces -1 values of junction_location with 9\n",
        "\n",
        "vehicle_df['junction_location'] = vehicle_df['junction_location'].replace(-1, 9)"
      ]
    },
    {
      "cell_type": "markdown",
      "id": "fd99ddd1",
      "metadata": {
        "id": "fd99ddd1"
      },
      "source": [
        "<h4 style = 'text-align : center'>skidding_and_overturning</h4>"
      ]
    },
    {
      "cell_type": "code",
      "execution_count": null,
      "id": "d69a5f61",
      "metadata": {
        "id": "d69a5f61"
      },
      "outputs": [],
      "source": [
        "# Checks catalogue for skidding_and_overturning\n",
        "\n",
        "catalogue_df[(catalogue_df['table'] == 'vehicle') | (catalogue_df['field name'] == 'skidding_and_overturning')]"
      ]
    },
    {
      "cell_type": "code",
      "execution_count": null,
      "id": "c70d4621",
      "metadata": {
        "id": "c70d4621"
      },
      "outputs": [],
      "source": [
        "# Prints the value counts for skidding_and_overturning\n",
        "\n",
        "vehicle_df['skidding_and_overturning'].value_counts()"
      ]
    },
    {
      "cell_type": "markdown",
      "id": "9059b4b0",
      "metadata": {
        "id": "9059b4b0"
      },
      "source": [
        "+ I noticed there a lot of -1 values (662) of skidding_and_overturning\n",
        "+ I noticed there is a label 9 for unknown(self reported)\n",
        "+ I filled the -1 values of skidding_and_overturning with 9"
      ]
    },
    {
      "cell_type": "code",
      "execution_count": null,
      "id": "7ec239bf",
      "metadata": {
        "id": "7ec239bf"
      },
      "outputs": [],
      "source": [
        "# Replaces -1 values of skidding_and_overturning with 9\n",
        "\n",
        "vehicle_df['skidding_and_overturning'] = vehicle_df['skidding_and_overturning'].replace(-1, 9)"
      ]
    },
    {
      "cell_type": "markdown",
      "id": "b97b550a",
      "metadata": {
        "id": "b97b550a"
      },
      "source": [
        "<h4 style = 'text-align : center'>hit_object_in_carriageway</h4>"
      ]
    },
    {
      "cell_type": "code",
      "execution_count": null,
      "id": "3bd17ff8",
      "metadata": {
        "id": "3bd17ff8"
      },
      "outputs": [],
      "source": [
        "# Checks catalogue for hit_object_in_carriageway\n",
        "\n",
        "catalogue_df[(catalogue_df['table'] == 'vehicle') | (catalogue_df['field name'] == 'hit_object_in_carriageway')]"
      ]
    },
    {
      "cell_type": "code",
      "execution_count": null,
      "id": "d2fe5aca",
      "metadata": {
        "id": "d2fe5aca"
      },
      "outputs": [],
      "source": [
        "# Prints the value counts for hit_object_in_carriageway\n",
        "\n",
        "vehicle_df['hit_object_in_carriageway'].value_counts()"
      ]
    },
    {
      "cell_type": "markdown",
      "id": "b0b6323f",
      "metadata": {
        "id": "b0b6323f"
      },
      "source": [
        "+ I noticed there a lot of -1 values (636) of hit_object_in_carriageway\n",
        "+ I noticed there is a label 99 for unknown(self reported)\n",
        "+ I filled the -1 values of hit_object_in_carriageway with 99"
      ]
    },
    {
      "cell_type": "code",
      "execution_count": null,
      "id": "6f0101c5",
      "metadata": {
        "id": "6f0101c5"
      },
      "outputs": [],
      "source": [
        "# Replaces -1 values of hit_object_in_carriageway with 99\n",
        "\n",
        "vehicle_df['hit_object_in_carriageway'] = vehicle_df['hit_object_in_carriageway'].replace(-1, 99)"
      ]
    },
    {
      "cell_type": "markdown",
      "id": "1bc55412",
      "metadata": {
        "id": "1bc55412"
      },
      "source": [
        "<h4 style = 'text-align : center'>vehicle_leaving_carriageway</h4>"
      ]
    },
    {
      "cell_type": "code",
      "execution_count": null,
      "id": "a9afc01c",
      "metadata": {
        "id": "a9afc01c"
      },
      "outputs": [],
      "source": [
        "# Checks catalogue for vehicle_leaving_carriageway\n",
        "\n",
        "catalogue_df[(catalogue_df['table'] == 'vehicle') | (catalogue_df['field name'] == 'vehicle_leaving_carriageway')]"
      ]
    },
    {
      "cell_type": "code",
      "execution_count": null,
      "id": "05e90b8e",
      "metadata": {
        "id": "05e90b8e"
      },
      "outputs": [],
      "source": [
        "# Prints the value counts for vehicle_leaving_carriageway\n",
        "\n",
        "vehicle_df['vehicle_leaving_carriageway'].value_counts()"
      ]
    },
    {
      "cell_type": "markdown",
      "id": "e984efc2",
      "metadata": {
        "id": "e984efc2"
      },
      "source": [
        "+ I noticed there a lot of -1 values (644) of vehicle_leaving_carriageway\n",
        "+ I noticed there is a label 9 for unknown(self reported)\n",
        "+ I filled the -1 values of vehicle_leaving_carriageway with 9"
      ]
    },
    {
      "cell_type": "code",
      "execution_count": null,
      "id": "76dea027",
      "metadata": {
        "id": "76dea027"
      },
      "outputs": [],
      "source": [
        "# Replaces -1 values of vehicle_leaving_carriageway\n",
        "\n",
        "vehicle_df['vehicle_leaving_carriageway'] = vehicle_df['vehicle_leaving_carriageway'].replace(-1, 9)"
      ]
    },
    {
      "cell_type": "markdown",
      "id": "8126de21",
      "metadata": {
        "id": "8126de21"
      },
      "source": [
        "<h4 style = 'text-align : center'>hit_object_off_carriageway</h4>"
      ]
    },
    {
      "cell_type": "code",
      "execution_count": null,
      "id": "6440184a",
      "metadata": {
        "id": "6440184a"
      },
      "outputs": [],
      "source": [
        "# Checks catalogue for hit_object_off_carriageway\n",
        "\n",
        "catalogue_df[(catalogue_df['table'] == 'vehicle') | (catalogue_df['field name'] == 'hit_object_off_carriageway')]"
      ]
    },
    {
      "cell_type": "code",
      "execution_count": null,
      "id": "02efedf1",
      "metadata": {
        "id": "02efedf1"
      },
      "outputs": [],
      "source": [
        "# Prints the value counts for hit_object_off_carriageway\n",
        "\n",
        "vehicle_df['hit_object_off_carriageway'].value_counts()"
      ]
    },
    {
      "cell_type": "markdown",
      "id": "d636b115",
      "metadata": {
        "id": "d636b115"
      },
      "source": [
        "+ I noticed there a few -1 values (4) of hit_object_off_carriageway\n",
        "+ I noticed there is a label 99 for unknown(self reported)\n",
        "+ I filled the -1 values of hit_object_off_carriageway with 99"
      ]
    },
    {
      "cell_type": "code",
      "execution_count": null,
      "id": "19ae626b",
      "metadata": {
        "id": "19ae626b"
      },
      "outputs": [],
      "source": [
        "# Replaces -1 values of hit_object_off_carriageway with 99\n",
        "\n",
        "vehicle_df['hit_object_off_carriageway'] = vehicle_df['hit_object_off_carriageway'].replace(-1, 99)"
      ]
    },
    {
      "cell_type": "markdown",
      "id": "6bb95238",
      "metadata": {
        "id": "6bb95238"
      },
      "source": [
        "<h4 style = 'text-align : center'>first_point_of_impact</h4>"
      ]
    },
    {
      "cell_type": "code",
      "execution_count": null,
      "id": "fe4ffe94",
      "metadata": {
        "id": "fe4ffe94"
      },
      "outputs": [],
      "source": [
        "# Checks catalogue for first_point_of_impact\n",
        "\n",
        "catalogue_df[(catalogue_df['table'] == 'vehicle') | (catalogue_df['field name'] == 'first_point_of_impact')]"
      ]
    },
    {
      "cell_type": "code",
      "execution_count": null,
      "id": "4e23c781",
      "metadata": {
        "id": "4e23c781"
      },
      "outputs": [],
      "source": [
        "# Prints the value counts for first_point_of_impact\n",
        "\n",
        "vehicle_df['first_point_of_impact'].value_counts()"
      ]
    },
    {
      "cell_type": "markdown",
      "id": "40c82e37",
      "metadata": {
        "id": "40c82e37"
      },
      "source": [
        "+ I noticed there a lot of -1 values (939) of first_point_of_impact\n",
        "+ I noticed there is a label 9 for unknown(self reported)\n",
        "+ I filled the -1 values of first_point_of_impact with 9"
      ]
    },
    {
      "cell_type": "code",
      "execution_count": null,
      "id": "75c44212",
      "metadata": {
        "id": "75c44212"
      },
      "outputs": [],
      "source": [
        "# Replaces -1 values of first_point_of_impact with 9\n",
        "\n",
        "vehicle_df['first_point_of_impact'] = vehicle_df['first_point_of_impact'].replace(-1, 9)"
      ]
    },
    {
      "cell_type": "markdown",
      "id": "a088ba29",
      "metadata": {
        "id": "a088ba29"
      },
      "source": [
        "<h4 style = 'text-align : center'>vehicle_left_hand_drive</h4>"
      ]
    },
    {
      "cell_type": "code",
      "execution_count": null,
      "id": "e75f3d4b",
      "metadata": {
        "id": "e75f3d4b"
      },
      "outputs": [],
      "source": [
        "# Checks catalogue for vehicle_left_hand_drive\n",
        "\n",
        "catalogue_df[(catalogue_df['table'] == 'vehicle') | (catalogue_df['field name'] == 'vehicle_left_hand_drive')]"
      ]
    },
    {
      "cell_type": "code",
      "execution_count": null,
      "id": "b6083e41",
      "metadata": {
        "id": "b6083e41"
      },
      "outputs": [],
      "source": [
        "# Prints the value counts for vehicle_left_hand_drive\n",
        "\n",
        "vehicle_df['vehicle_left_hand_drive'].value_counts()"
      ]
    },
    {
      "cell_type": "markdown",
      "id": "b4f36021",
      "metadata": {
        "id": "b4f36021"
      },
      "source": [
        "+ I noticed there a lot of -1 values (877) of vehicle_left_hand_drive\n",
        "+ I noticed there is a label 9 for unknown(self reported)\n",
        "+ I filled the -1 values of vehicle_left_hand_drive with 9"
      ]
    },
    {
      "cell_type": "code",
      "execution_count": null,
      "id": "304fe56e",
      "metadata": {
        "id": "304fe56e"
      },
      "outputs": [],
      "source": [
        "# Replaces -1 values of vehicle_left_hand_drive\n",
        "\n",
        "vehicle_df['vehicle_left_hand_drive'] = vehicle_df['vehicle_left_hand_drive'].replace(-1, 9)"
      ]
    },
    {
      "cell_type": "markdown",
      "id": "39b96f49",
      "metadata": {
        "id": "39b96f49"
      },
      "source": [
        "<h4 style = 'text-align : center'>journey_purpose_of_driver</h4>"
      ]
    },
    {
      "cell_type": "code",
      "execution_count": null,
      "id": "ea56487b",
      "metadata": {
        "id": "ea56487b"
      },
      "outputs": [],
      "source": [
        "# Checks catalogue for journey_purpose_of_driver\n",
        "\n",
        "catalogue_df[(catalogue_df['table'] == 'vehicle') | (catalogue_df['field name'] == 'journey_purpose_of_driver')]"
      ]
    },
    {
      "cell_type": "code",
      "execution_count": null,
      "id": "fa46c9b5",
      "metadata": {
        "id": "fa46c9b5"
      },
      "outputs": [],
      "source": [
        "# Prints the value counts for journey_purpose_of_driver\n",
        "\n",
        "vehicle_df['journey_purpose_of_driver'].value_counts()"
      ]
    },
    {
      "cell_type": "markdown",
      "id": "9aed4996",
      "metadata": {
        "id": "9aed4996"
      },
      "source": [
        "+ I noticed there a lot of -1 values (184) of journey_purpose_of_driver\n",
        "+ I noticed there is a label 15 for unknown(self reported)\n",
        "+ I filled the -1 values of journey_purpose_of_driver with 15"
      ]
    },
    {
      "cell_type": "code",
      "execution_count": null,
      "id": "c41eee76",
      "metadata": {
        "id": "c41eee76"
      },
      "outputs": [],
      "source": [
        "# Replaces -1 values of journey_purpose_of_driver with 15\n",
        "\n",
        "vehicle_df['journey_purpose_of_driver'] = vehicle_df['journey_purpose_of_driver'].replace(-1, 15)"
      ]
    },
    {
      "cell_type": "markdown",
      "id": "8cc917c4",
      "metadata": {
        "id": "8cc917c4"
      },
      "source": [
        "<h4 style = 'text-align : center'>sex_of_driver</h4>"
      ]
    },
    {
      "cell_type": "code",
      "execution_count": null,
      "id": "0986ec9e",
      "metadata": {
        "id": "0986ec9e"
      },
      "outputs": [],
      "source": [
        "# Checks catalogue for sex_of_driver\n",
        "\n",
        "catalogue_df[(catalogue_df['table'] == 'vehicle') | (catalogue_df['field name'] == 'sex_of_driver')]"
      ]
    },
    {
      "cell_type": "code",
      "execution_count": null,
      "id": "fbc8d8ff",
      "metadata": {
        "id": "fbc8d8ff"
      },
      "outputs": [],
      "source": [
        "# Prints the value counts for sex_of_driver\n",
        "\n",
        "vehicle_df['sex_of_driver'].value_counts()"
      ]
    },
    {
      "cell_type": "markdown",
      "id": "c15914e2",
      "metadata": {
        "id": "c15914e2"
      },
      "source": [
        "+ I noticed there a few -1 values (13) of sex_of_driver\n",
        "+ I noticed there is a label 9 for unknown(self reported)\n",
        "+ I filled the -1 values of sex_of_driver with 3"
      ]
    },
    {
      "cell_type": "code",
      "execution_count": null,
      "id": "7e0e0041",
      "metadata": {
        "id": "7e0e0041"
      },
      "outputs": [],
      "source": [
        "# Replaces -1 values of sex_of_driver\n",
        "\n",
        "vehicle_df['sex_of_driver'] = vehicle_df['sex_of_driver'].replace(-1, 3)"
      ]
    },
    {
      "cell_type": "markdown",
      "id": "6f7cff2a",
      "metadata": {
        "id": "6f7cff2a"
      },
      "source": [
        "<h4 style = 'text-align : center'>age_of_driver</h4>"
      ]
    },
    {
      "cell_type": "code",
      "execution_count": null,
      "id": "cd9e976d",
      "metadata": {
        "id": "cd9e976d"
      },
      "outputs": [],
      "source": [
        "# Distribution of age_of_driver\n",
        "\n",
        "clean_data.plot_columns(vehicle_df, 'age_of_driver')"
      ]
    },
    {
      "cell_type": "code",
      "execution_count": null,
      "id": "1f5afa38",
      "metadata": {
        "id": "1f5afa38"
      },
      "outputs": [],
      "source": [
        "# Fills in values of age_of_driver with kde\n",
        "\n",
        "clean_data.using_kde(vehicle_df, 'age_of_driver')"
      ]
    },
    {
      "cell_type": "code",
      "execution_count": null,
      "id": "172401e9",
      "metadata": {
        "id": "172401e9"
      },
      "outputs": [],
      "source": [
        "# Distribution of age_of_driver after cleaning with kde\n",
        "\n",
        "\n",
        "clean_data.plot_columns(vehicle_df, 'age_of_driver')"
      ]
    },
    {
      "cell_type": "markdown",
      "id": "5bd71d36",
      "metadata": {
        "id": "5bd71d36"
      },
      "source": [
        "<h4 style = 'text-align : center'>engine_capacity_cc</h4>"
      ]
    },
    {
      "cell_type": "code",
      "execution_count": null,
      "id": "0bcea7e5",
      "metadata": {
        "id": "0bcea7e5"
      },
      "outputs": [],
      "source": [
        "# Checks catalogue for engine_capacity_cc\n",
        "\n",
        "catalogue_df[(catalogue_df['table'] == 'vehicle') | (catalogue_df['field name'] == 'engine_capacity_cc')]"
      ]
    },
    {
      "cell_type": "code",
      "execution_count": null,
      "id": "42ef5fc4",
      "metadata": {
        "id": "42ef5fc4"
      },
      "outputs": [],
      "source": [
        "# Checks catalogue for vehicle_type\n",
        "\n",
        "catalogue_df[(catalogue_df['table'] == 'vehicle') | (catalogue_df['field name'] == 'vehicle_type')]"
      ]
    },
    {
      "cell_type": "code",
      "execution_count": null,
      "id": "7d5f73e8",
      "metadata": {
        "id": "7d5f73e8"
      },
      "outputs": [],
      "source": [
        "# Prints the value counts for engine_capacity_cc\n",
        "\n",
        "vehicle_df['engine_capacity_cc'].value_counts()"
      ]
    },
    {
      "cell_type": "markdown",
      "id": "9fe65168",
      "metadata": {
        "id": "9fe65168"
      },
      "source": [
        "#### I noticed there a few -1 values (43603) of engine_capacity_cc\n",
        "+ I noticed there are vehicle types like horse, pedal cycle that don't have engines so i replaced it with 0\n",
        "+ I filled the 0 values with kde\n",
        "+ I noticed there is a label 99 for unknown(self rep only)\n",
        "+ I filled the rest of the values with 99"
      ]
    },
    {
      "cell_type": "code",
      "execution_count": null,
      "id": "d978c4fa",
      "metadata": {
        "id": "d978c4fa"
      },
      "outputs": [],
      "source": [
        "# Replaces -1 values of engine capacity where we have a horse, pedal cycle, etc with 0\n",
        "\n",
        "vehicle_df.loc[((vehicle_df[\"engine_capacity_cc\"] == -1) &\n",
        "                ((vehicle_df[\"vehicle_type\"] == 1) |\n",
        "                 (vehicle_df[\"vehicle_type\"] == 18)|\n",
        "                 (vehicle_df[\"vehicle_type\"] == 16)|\n",
        "                 (vehicle_df[\"vehicle_type\"] == 22)|\n",
        "                 (vehicle_df[\"vehicle_type\"] == 23)\n",
        "                )\n",
        "               ), \"engine_capacity_cc\"] = 0"
      ]
    },
    {
      "cell_type": "code",
      "execution_count": null,
      "id": "6f1036cc",
      "metadata": {
        "id": "6f1036cc"
      },
      "outputs": [],
      "source": [
        "# Distribution of age_of_vehicle\n",
        "\n",
        "clean_data.plot_columns(vehicle_df, 'engine_capacity_cc')"
      ]
    },
    {
      "cell_type": "code",
      "execution_count": null,
      "id": "85d2bf80",
      "metadata": {
        "id": "85d2bf80"
      },
      "outputs": [],
      "source": [
        "# Fills in values of age_of_vehicle with kde\n",
        "\n",
        "clean_data.using_kde(vehicle_df, 'engine_capacity_cc')"
      ]
    },
    {
      "cell_type": "code",
      "execution_count": null,
      "id": "b0d3f2ee",
      "metadata": {
        "id": "b0d3f2ee"
      },
      "outputs": [],
      "source": [
        "# Distribution of age_of_vehicle after cleaning with kde\n",
        "\n",
        "clean_data.plot_columns(vehicle_df, 'engine_capacity_cc')"
      ]
    },
    {
      "cell_type": "code",
      "execution_count": null,
      "id": "1dc1f559",
      "metadata": {
        "id": "1dc1f559"
      },
      "outputs": [],
      "source": [
        "# Replaces -1 values of engine_capacity_cc\n",
        "\n",
        "vehicle_df['engine_capacity_cc'] = vehicle_df['engine_capacity_cc'].replace(-1, 99)"
      ]
    },
    {
      "cell_type": "markdown",
      "id": "cadfe4bd",
      "metadata": {
        "id": "cadfe4bd"
      },
      "source": [
        "<h4 style = 'text-align : center'>age_of_vehicle</h4>"
      ]
    },
    {
      "cell_type": "code",
      "execution_count": null,
      "id": "ed5a7cb3",
      "metadata": {
        "id": "ed5a7cb3"
      },
      "outputs": [],
      "source": [
        "# Distribution of age_of_vehicle\n",
        "\n",
        "clean_data.plot_columns(vehicle_df, 'age_of_vehicle')"
      ]
    },
    {
      "cell_type": "code",
      "execution_count": null,
      "id": "a9c39e3d",
      "metadata": {
        "id": "a9c39e3d"
      },
      "outputs": [],
      "source": [
        "# Fills in values of age_of_vehicle with kde\n",
        "\n",
        "clean_data.using_kde(vehicle_df, 'age_of_vehicle')"
      ]
    },
    {
      "cell_type": "code",
      "execution_count": null,
      "id": "9603271a",
      "metadata": {
        "id": "9603271a"
      },
      "outputs": [],
      "source": [
        "# Distribution of age_of_vehicle after cleaning with kde\n",
        "\n",
        "clean_data.plot_columns(vehicle_df, 'age_of_vehicle')"
      ]
    },
    {
      "cell_type": "markdown",
      "id": "98af595b",
      "metadata": {
        "id": "98af595b"
      },
      "source": [
        "<h3 style = 'text-align : center'>Lsoa Table</h3>"
      ]
    },
    {
      "cell_type": "code",
      "execution_count": null,
      "id": "d18968b5",
      "metadata": {
        "id": "d18968b5"
      },
      "outputs": [],
      "source": [
        "# Print the information for lsao\n",
        "\n",
        "lsoa_df.info()"
      ]
    },
    {
      "cell_type": "code",
      "execution_count": null,
      "id": "aadccd4a",
      "metadata": {
        "id": "aadccd4a"
      },
      "outputs": [],
      "source": [
        "# Check for NaN values in lsoa\n",
        "\n",
        "lsoa_df.isnull().sum()"
      ]
    },
    {
      "cell_type": "code",
      "execution_count": null,
      "id": "8a05601b",
      "metadata": {
        "id": "8a05601b"
      },
      "outputs": [],
      "source": [
        "# Check for duplicated values in lsoa_df\n",
        "\n",
        "lsoa_df.duplicated().sum()"
      ]
    },
    {
      "cell_type": "markdown",
      "id": "cf26c292",
      "metadata": {
        "id": "cf26c292"
      },
      "source": [
        "<h1 style = 'text-align : center'>Data Visualization</h1>"
      ]
    },
    {
      "cell_type": "markdown",
      "id": "474d0978",
      "metadata": {
        "id": "474d0978"
      },
      "source": [
        "### I created profile reports for accident_df, casualty_df, vehicle_df, lsoa_df"
      ]
    },
    {
      "cell_type": "markdown",
      "id": "be84d7f3",
      "metadata": {
        "id": "be84d7f3"
      },
      "source": [
        "# Create a profile report for accident_df\n",
        "\n",
        "accident_report = profile_report(database)\n",
        "accident_report"
      ]
    },
    {
      "cell_type": "markdown",
      "id": "82c7c8b3",
      "metadata": {
        "id": "82c7c8b3"
      },
      "source": [
        "# Create a profile report for casualty_df\n",
        "\n",
        "casualty_report = ProfileReport(casualty_df)\n",
        "casualty_report"
      ]
    },
    {
      "cell_type": "markdown",
      "id": "fd841aa7",
      "metadata": {
        "id": "fd841aa7"
      },
      "source": [
        "# Create a profile report for vehicle_df\n",
        "\n",
        "vehicle_report = ProfileReport(vehicle_df)\n",
        "vehicle_report"
      ]
    },
    {
      "cell_type": "markdown",
      "id": "e0af8a37",
      "metadata": {
        "id": "e0af8a37"
      },
      "source": [
        "# Create a profile report for lsoa_df\n",
        "\n",
        "lsoa_report = ProfileReport(lsoa_df)\n",
        "lsoa_report"
      ]
    },
    {
      "cell_type": "markdown",
      "id": "cba9630f",
      "metadata": {
        "id": "cba9630f"
      },
      "source": [
        "<h4 style = 'text-align : center'>1. Are there significant hours of the day, and days of the week, on which accidents occur?</h4>"
      ]
    },
    {
      "cell_type": "code",
      "execution_count": null,
      "id": "6ab2b745",
      "metadata": {
        "id": "6ab2b745"
      },
      "outputs": [],
      "source": [
        "# Check catalogue_df for time\n",
        "\n",
        "catalogue_df[(catalogue_df['table'] == 'accident') | (catalogue_df['field name'] == 'time')]"
      ]
    },
    {
      "cell_type": "code",
      "execution_count": null,
      "id": "4d3d14c0",
      "metadata": {
        "id": "4d3d14c0"
      },
      "outputs": [],
      "source": [
        "# Check catalogue_df for day_of_week\n",
        "\n",
        "catalogue_df[(catalogue_df['table'] == 'accident') | (catalogue_df['field name'] == 'day_of_week')]"
      ]
    },
    {
      "cell_type": "markdown",
      "id": "243876ae",
      "metadata": {
        "id": "243876ae"
      },
      "source": [
        "### I created a class accident_periods that does the following:\n",
        "+ Gets the decimal time\n",
        "+ Plots the distrubution of accidents by the hour of the day\n",
        "+ Plots the distrubution of accidents by the day of the week"
      ]
    },
    {
      "cell_type": "code",
      "execution_count": null,
      "id": "eb0ae805",
      "metadata": {
        "id": "eb0ae805"
      },
      "outputs": [],
      "source": [
        "class accident_periods:\n",
        "\n",
        "    def __init__(self, dataframe):\n",
        "        self.dataframe = dataframe\n",
        "\n",
        "    def decimal_time(self):\n",
        "\n",
        "        # Convert the time column to datetime format\n",
        "        self.dataframe['converted_time'] = pd.DatetimeIndex(self.dataframe['time'])\n",
        "\n",
        "        # Calculate the hour from the time column\n",
        "        hour = self.dataframe['converted_time'].dt.hour\n",
        "\n",
        "        # Calculate the minute from the time column\n",
        "        minute = self.dataframe['converted_time'].dt.minute\n",
        "\n",
        "        # Calculate the decimal time\n",
        "        self.dataframe['decimal_time'] = round(hour + minute /60, 2)\n",
        "\n",
        "\n",
        "    def plot_hour_of_day(self, title):\n",
        "\n",
        "        # plot histplot of accidents by hour of the day\n",
        "        plot = sns.histplot(self.dataframe['decimal_time'], kde = True, bins = 24, color = 'pink')\n",
        "\n",
        "        # Loop to get the number of accidents for each hour of the day\n",
        "        for count in plot.patches:\n",
        "\n",
        "            counts = count.get_height()\n",
        "\n",
        "            plt.text(count.get_x() + count.get_width() / 2, counts + 0.5, int(counts), ha ='center', fontsize = 8)\n",
        "\n",
        "        plt.xlabel('Hour of the Day')\n",
        "        plt.ylabel('Number of Accidents')\n",
        "        plt.title(f'Distribution of {title} Accidents by Hour of the Day')\n",
        "\n",
        "        return plt.show()\n",
        "\n",
        "    def plot_day_of_week(self, title):\n",
        "\n",
        "        # plot countplot of accidents by day of the week\n",
        "        day_plot = sns.countplot(data = self.dataframe, x = 'day_of_week', color = 'pink')\n",
        "\n",
        "        # List of each day of the week\n",
        "        days_of_week = ['Sunday', 'Monday', 'Tuesday', 'Wednesday', 'Thursday', 'Friday', 'Saturday']\n",
        "\n",
        "        # Loop to get the number of accidents for each day of the week\n",
        "        for count in day_plot.patches:\n",
        "\n",
        "            height = count.get_height()\n",
        "\n",
        "            plt.text(count.get_x() + count.get_width() / 2,  height + 0.5, str( height), ha ='center', fontsize = 10)\n",
        "\n",
        "\n",
        "        plt.xlabel('Day of the Week')\n",
        "        plt.ylabel('Number of Accidents')\n",
        "        plt.title(f' Distribution of {title} Accidents by Day of the Week')\n",
        "        day_plot.set_xticklabels(days_of_week, rotation = 45)\n",
        "\n",
        "        return plt.show()"
      ]
    },
    {
      "cell_type": "markdown",
      "id": "40b95457",
      "metadata": {
        "id": "40b95457"
      },
      "source": [
        "#### Hours of the day and days of the week which accidents occur"
      ]
    },
    {
      "cell_type": "code",
      "execution_count": null,
      "id": "d642710a",
      "metadata": {
        "id": "d642710a"
      },
      "outputs": [],
      "source": [
        "# Creates an instance of the accident_periods class\n",
        "\n",
        "accidents = accident_periods(accident_df)"
      ]
    },
    {
      "cell_type": "code",
      "execution_count": null,
      "id": "0a21fcdc",
      "metadata": {
        "id": "0a21fcdc"
      },
      "outputs": [],
      "source": [
        "# Get decimal_time for accidents\n",
        "\n",
        "accidents.decimal_time()"
      ]
    },
    {
      "cell_type": "code",
      "execution_count": null,
      "id": "7c25e14b",
      "metadata": {
        "id": "7c25e14b"
      },
      "outputs": [],
      "source": [
        "# Plot the distribution of accidents by the hour of the day\n",
        "\n",
        "accidents.plot_hour_of_day('')"
      ]
    },
    {
      "cell_type": "code",
      "execution_count": null,
      "id": "8cbb5b6a",
      "metadata": {
        "id": "8cbb5b6a"
      },
      "outputs": [],
      "source": [
        "# plot the distribution of accidents by the day of the week\n",
        "\n",
        "accidents.plot_day_of_week('')"
      ]
    },
    {
      "cell_type": "markdown",
      "id": "5331184b",
      "metadata": {
        "id": "5331184b"
      },
      "source": [
        "<h4 style = 'text-align : center'>2. For motorbikes, are there significant hours of the day, and days of the week, on which accidents occur? </h4>"
      ]
    },
    {
      "cell_type": "code",
      "execution_count": null,
      "id": "0ea1ba33",
      "metadata": {
        "id": "0ea1ba33"
      },
      "outputs": [],
      "source": [
        "# Check catalogue_df for vehicle_type\n",
        "\n",
        "catalogue_df[(catalogue_df['table'] == 'vehicle') | (catalogue_df['field name'] == 'vehicle_type')]"
      ]
    },
    {
      "cell_type": "markdown",
      "id": "70ab1464",
      "metadata": {
        "id": "70ab1464"
      },
      "source": [
        "#### Hours of the day and days of the week which accidents of motorcycles 125cc and under occur"
      ]
    },
    {
      "cell_type": "code",
      "execution_count": null,
      "id": "e5520235",
      "metadata": {
        "id": "e5520235"
      },
      "outputs": [],
      "source": [
        "# Dataframe of vehicle type 2 & 3 (motorcycle 125cc and under)\n",
        "\n",
        "# Filter rows from vehicle_df where vehicle type = 2 & 3\n",
        "vehicle_type = vehicle_df[(vehicle_df['vehicle_type'] == 2) | (vehicle_df['vehicle_type'] == 3)][[\"accident_index\",\n",
        "                                                                                                   \"vehicle_type\"]]\n",
        "\n",
        "# Select accident_index, time & day_of_week from accident_df\n",
        "accident_info = accident_df[[\"accident_index\", \"time\", \"day_of_week\"]]\n",
        "\n",
        "# Merge the two dataframes, vehicle_type = 2 & 3 & accident_info on accident_index\n",
        "Motorcycle_125cc_and_under_df = pd.merge(vehicle_type, accident_info, on = 'accident_index')\n",
        "\n",
        "Motorcycle_125cc_and_under_df"
      ]
    },
    {
      "cell_type": "code",
      "execution_count": null,
      "id": "517ada5f",
      "metadata": {
        "id": "517ada5f"
      },
      "outputs": [],
      "source": [
        "# Creates an instance of the accident_periods class for accidents_for_motorcycles_125cc_and_under\n",
        "\n",
        "accidents_for_motorcycles_125cc_and_under = accident_periods(Motorcycle_125cc_and_under_df)"
      ]
    },
    {
      "cell_type": "code",
      "execution_count": null,
      "id": "5f850e28",
      "metadata": {
        "id": "5f850e28"
      },
      "outputs": [],
      "source": [
        "# Get the decimal time for motorcycles 125cc and under accidents\n",
        "\n",
        "accidents_for_motorcycles_125cc_and_under.decimal_time()"
      ]
    },
    {
      "cell_type": "code",
      "execution_count": null,
      "id": "b953d19c",
      "metadata": {
        "id": "b953d19c"
      },
      "outputs": [],
      "source": [
        "# Plot the distribution of motorcycles 125cc and under accidents by the hour of the day\n",
        "\n",
        "accidents_for_motorcycles_125cc_and_under.plot_hour_of_day('Motorcycles 125cc and under')"
      ]
    },
    {
      "cell_type": "code",
      "execution_count": null,
      "id": "0ef4d262",
      "metadata": {
        "id": "0ef4d262"
      },
      "outputs": [],
      "source": [
        "# Plot the distribution of motorcycles 125cc and under accidents by the day of the week\n",
        "\n",
        "accidents_for_motorcycles_125cc_and_under.plot_day_of_week('Motorcycles 125cc and Under')"
      ]
    },
    {
      "cell_type": "markdown",
      "id": "a0667c64",
      "metadata": {
        "id": "a0667c64"
      },
      "source": [
        "#### Hours of the day and days of the week which accidents of motorcycles over 125cc to 500cc"
      ]
    },
    {
      "cell_type": "code",
      "execution_count": null,
      "id": "e16722e3",
      "metadata": {
        "id": "e16722e3"
      },
      "outputs": [],
      "source": [
        "# Dataframe of vehicle type 4 (125cc and up to 500cc)\n",
        "\n",
        "# Filter rows from vehicle_df where vehicle type = 4\n",
        "vehicle_type = vehicle_df[vehicle_df['vehicle_type'] == 4][['accident_index', 'vehicle_type']]\n",
        "\n",
        "# Select accident_index, time & day_of_week from accident_df\n",
        "accident_info = accident_df[[\"accident_index\", \"time\", \"day_of_week\"]]\n",
        "\n",
        "# Merge the two dataframes, vehicle_type_4 & accident_info on accident_index\n",
        "Motorcycle_over_125cc_to_500cc_df = pd.merge(vehicle_type, accident_info, on = 'accident_index')\n",
        "\n",
        "Motorcycle_over_125cc_to_500cc_df"
      ]
    },
    {
      "cell_type": "code",
      "execution_count": null,
      "id": "e070257d",
      "metadata": {
        "id": "e070257d"
      },
      "outputs": [],
      "source": [
        "# Creates an instance of the class accident_periods for accidents_for_motorcycles_125cc_and_under\n",
        "\n",
        "accidents_for_motorcycles_over_125cc_to_500cc = accident_periods(Motorcycle_over_125cc_to_500cc_df)"
      ]
    },
    {
      "cell_type": "code",
      "execution_count": null,
      "id": "d5fb3978",
      "metadata": {
        "id": "d5fb3978"
      },
      "outputs": [],
      "source": [
        "# Get the decimal time for motorcycles over 125cc to 500cc accidents\n",
        "\n",
        "accidents_for_motorcycles_over_125cc_to_500cc.decimal_time()"
      ]
    },
    {
      "cell_type": "code",
      "execution_count": null,
      "id": "2427fa23",
      "metadata": {
        "id": "2427fa23"
      },
      "outputs": [],
      "source": [
        "# Plot the distribution of motorcycles over 125cc to 500cc accidents by the hour of the day\n",
        "\n",
        "accidents_for_motorcycles_over_125cc_to_500cc.plot_hour_of_day('Motorcycles over 125cc to 500cc')"
      ]
    },
    {
      "cell_type": "code",
      "execution_count": null,
      "id": "7ec12a06",
      "metadata": {
        "id": "7ec12a06"
      },
      "outputs": [],
      "source": [
        "# Plot the distribution of motorcycles over 125cc to 500cc accidents by the hour of the day\n",
        "\n",
        "accidents_for_motorcycles_over_125cc_to_500cc.plot_day_of_week('Motorcycles over 125cc to 500cc')"
      ]
    },
    {
      "cell_type": "markdown",
      "id": "8315e67d",
      "metadata": {
        "id": "8315e67d"
      },
      "source": [
        "#### Hours of the day and days of the week which accidents motorcycle over 500cc"
      ]
    },
    {
      "cell_type": "code",
      "execution_count": null,
      "id": "07d685d2",
      "metadata": {
        "id": "07d685d2"
      },
      "outputs": [],
      "source": [
        "# Dataframe of vehicle type 5 (Motorcycle over 500cc)\n",
        "\n",
        "# Filter rows from vehicle_df where vehicle type = 5\n",
        "vehicle_type = vehicle_df[vehicle_df['vehicle_type'] == 5][['accident_index', 'vehicle_type']]\n",
        "\n",
        "# Select accident_index, time & day_of_week from accident_df\n",
        "accident_info = accident_df[[\"accident_index\", \"time\", \"day_of_week\"]]\n",
        "\n",
        "# Merge the two dataframes, vehicle_type_5 & accident_info on accident_index\n",
        "Motorcycle_over_500cc_df = pd.merge(vehicle_type, accident_info, on = 'accident_index')\n",
        "\n",
        "Motorcycle_over_500cc_df"
      ]
    },
    {
      "cell_type": "code",
      "execution_count": null,
      "id": "d67aaf65",
      "metadata": {
        "id": "d67aaf65"
      },
      "outputs": [],
      "source": [
        "# Creates an instance of the class accident_periods for accidents_for_motorcycles_over_500cc\n",
        "\n",
        "accidents_for_motorcycles_over_500cc = accident_periods(Motorcycle_over_500cc_df)"
      ]
    },
    {
      "cell_type": "code",
      "execution_count": null,
      "id": "87d43291",
      "metadata": {
        "id": "87d43291"
      },
      "outputs": [],
      "source": [
        "# Get the decimal time for motorcycles over 500cc accidents\n",
        "\n",
        "accidents_for_motorcycles_over_500cc.decimal_time()"
      ]
    },
    {
      "cell_type": "code",
      "execution_count": null,
      "id": "e13dcbc7",
      "metadata": {
        "id": "e13dcbc7"
      },
      "outputs": [],
      "source": [
        "# Plot the distribution of motorcycles over 500cc accidents by the hour of the day\n",
        "\n",
        "accidents_for_motorcycles_over_500cc.plot_hour_of_day('Motorcycles over 500cc')"
      ]
    },
    {
      "cell_type": "code",
      "execution_count": null,
      "id": "aae83f79",
      "metadata": {
        "id": "aae83f79"
      },
      "outputs": [],
      "source": [
        "# Plot the distribution of motorcycles over 500cc accidents by the hour of the day\n",
        "\n",
        "accidents_for_motorcycles_over_500cc.plot_day_of_week('Motorcycles over 500cc')"
      ]
    },
    {
      "cell_type": "markdown",
      "id": "34854c77",
      "metadata": {
        "id": "34854c77"
      },
      "source": [
        "<h4 style = 'text-align : center'>3. For pedestrians involved in accidents, are there significant hours of the day, and days of the week, on which they are more likely to be involved</h4>"
      ]
    },
    {
      "cell_type": "code",
      "execution_count": null,
      "id": "daa99031",
      "metadata": {
        "id": "daa99031"
      },
      "outputs": [],
      "source": [
        "# Check catalogue_df for casualty_class\n",
        "\n",
        "catalogue_df[(catalogue_df['table'] == 'casualty') | (catalogue_df['field name'] == 'casualty_class')]"
      ]
    },
    {
      "cell_type": "markdown",
      "id": "2a81d4e5",
      "metadata": {
        "id": "2a81d4e5"
      },
      "source": [
        "#### Hours of the day and days of the week which accidents of pedestrians occur"
      ]
    },
    {
      "cell_type": "code",
      "execution_count": null,
      "id": "881fdd5a",
      "metadata": {
        "id": "881fdd5a"
      },
      "outputs": [],
      "source": [
        "# Dataframe of casualty_class 3 (Pedestrian)\n",
        "\n",
        "# Filter rows from casualty_df where casualty_class = 3\n",
        "casualty_class = casualty_df[casualty_df['casualty_class'] == 3][[\"accident_index\", \"casualty_class\"]]\n",
        "\n",
        "# Select accident_index, time & day_of_week from accident_df\n",
        "accident_info = accident_df[[\"accident_index\", \"time\", \"day_of_week\"]]\n",
        "\n",
        "# Merge the two dataframes, casualty_class_3 & accident_info on accident_index\n",
        "pedestrian_df = pd.merge(casualty_class, accident_info, on = 'accident_index')\n",
        "\n",
        "pedestrian_df"
      ]
    },
    {
      "cell_type": "code",
      "execution_count": null,
      "id": "fa57a415",
      "metadata": {
        "id": "fa57a415"
      },
      "outputs": [],
      "source": [
        "# Creates an instance of the class accident_periods for accidents_for_pedestrians\n",
        "\n",
        "accidents_for_pedestrians = accident_periods(pedestrian_df)"
      ]
    },
    {
      "cell_type": "code",
      "execution_count": null,
      "id": "3870c296",
      "metadata": {
        "id": "3870c296"
      },
      "outputs": [],
      "source": [
        "# Get the decimal time for pedestrian accidents\n",
        "\n",
        "accidents_for_pedestrians.decimal_time()"
      ]
    },
    {
      "cell_type": "code",
      "execution_count": null,
      "id": "c8fc6b53",
      "metadata": {
        "id": "c8fc6b53"
      },
      "outputs": [],
      "source": [
        "# Plot the distribution of pedestrian accidents by the hour of the day\n",
        "\n",
        "accidents_for_pedestrians.plot_hour_of_day('Pedestrian')"
      ]
    },
    {
      "cell_type": "code",
      "execution_count": null,
      "id": "2f77f98b",
      "metadata": {
        "id": "2f77f98b"
      },
      "outputs": [],
      "source": [
        "# Plot the distribution of pedestrian accidents by the hour of the day\n",
        "\n",
        "accidents_for_pedestrians.plot_day_of_week('Pedestrian')"
      ]
    },
    {
      "cell_type": "markdown",
      "id": "ec37b0c7",
      "metadata": {
        "id": "ec37b0c7"
      },
      "source": [
        "<h4 style = 'text-align : center'>4. Using the apriori algorithm, explore the impact of selected variables on accident severity</h4>"
      ]
    },
    {
      "cell_type": "markdown",
      "id": "b183d6f0",
      "metadata": {
        "id": "b183d6f0"
      },
      "source": [
        "#### I ran apriori on some selected variables on accident severity\n",
        "+ My selected variables are speed_limit and urban_or_rural_area"
      ]
    },
    {
      "cell_type": "markdown",
      "id": "bd260dd1",
      "metadata": {
        "id": "bd260dd1"
      },
      "source": [
        "<h5 style = 'text-align : center'>Understanding the columns</h5>"
      ]
    },
    {
      "cell_type": "code",
      "execution_count": null,
      "id": "e2b78b51",
      "metadata": {
        "id": "e2b78b51"
      },
      "outputs": [],
      "source": [
        "# Check catalogue_df for accident_severity\n",
        "\n",
        "catalogue_df[(catalogue_df['table'] == 'casualty') | (catalogue_df['field name'] == 'accident_severity')]"
      ]
    },
    {
      "cell_type": "code",
      "execution_count": null,
      "id": "7f7ebf13",
      "metadata": {
        "id": "7f7ebf13"
      },
      "outputs": [],
      "source": [
        "# Check catalogue_df for speed_limit\n",
        "\n",
        "catalogue_df[(catalogue_df['table'] == 'casualty') | (catalogue_df['field name'] == 'speed_limit')]"
      ]
    },
    {
      "cell_type": "code",
      "execution_count": null,
      "id": "97b5796c",
      "metadata": {
        "id": "97b5796c"
      },
      "outputs": [],
      "source": [
        "# Check catalogue_df for urban_or_rural_area\n",
        "\n",
        "catalogue_df[(catalogue_df['table'] == 'casualty') | (catalogue_df['field name'] == 'urban_or_rural_area')]"
      ]
    },
    {
      "cell_type": "markdown",
      "id": "7e8b3dbc",
      "metadata": {
        "id": "7e8b3dbc"
      },
      "source": [
        "#### I created a class accident_apriori that does the following:\n",
        "+ Gets my selected variables that i will run apriori on and puts them in a dataframe\n",
        "+ One hot encodes the dataframe of my selected variables\n",
        "+ Runs apriori on my one hot encoded dataframe\n",
        "+ Generates apriori association rules  \n",
        "+ Filters association rules relevant to accident_severity"
      ]
    },
    {
      "cell_type": "code",
      "execution_count": null,
      "id": "9fdea921",
      "metadata": {
        "id": "9fdea921"
      },
      "outputs": [],
      "source": [
        "class accident_apriori:\n",
        "\n",
        "    def __init__(self, dataframe):\n",
        "        self.dataframe = dataframe\n",
        "\n",
        "    def get_dataframe_of_selected_variables(self, columns_to_encode):\n",
        "\n",
        "        df = self.dataframe[columns_to_encode]\n",
        "\n",
        "        return df\n",
        "\n",
        "    def one_hot_encode(self, df, columns_to_encode, string):\n",
        "\n",
        "        selected_columns = df[columns_to_encode]\n",
        "\n",
        "        encode = pd.get_dummies(selected_columns, columns = columns_to_encode, prefix = string)\n",
        "\n",
        "        encoded_df = pd.concat([df.drop(columns = columns_to_encode), encode], axis=1)\n",
        "\n",
        "        return encoded_df\n",
        "\n",
        "    def run_apriori(self, encoded_df, numb):\n",
        "\n",
        "        support = apriori(encoded_df, min_support = numb, use_colnames = True)\n",
        "\n",
        "        return support\n",
        "\n",
        "    def generate_rules(self, support, rule, numb):\n",
        "\n",
        "        association_rule = association_rules(support, metric = rule, min_threshold = numb)\n",
        "\n",
        "        return association_rule\n",
        "\n",
        "    def filter_rule(self, rule, impacted_variable):\n",
        "\n",
        "        filtered_rules = rule[rule['consequents'] == {impacted_variable}]\n",
        "\n",
        "        return filtered_rules"
      ]
    },
    {
      "cell_type": "code",
      "execution_count": null,
      "id": "ea168163",
      "metadata": {
        "id": "ea168163"
      },
      "outputs": [],
      "source": [
        "merged_df = pd.merge(pd.merge(accident_df, casualty_df, on = 'accident_index'), vehicle_df, on = 'accident_index')\n",
        "merged_df"
      ]
    },
    {
      "cell_type": "code",
      "execution_count": null,
      "id": "0100f376",
      "metadata": {
        "id": "0100f376"
      },
      "outputs": [],
      "source": [
        "merged_apriori = accident_apriori(merged_df)"
      ]
    },
    {
      "cell_type": "code",
      "execution_count": null,
      "id": "c82c3afb",
      "metadata": {
        "id": "c82c3afb"
      },
      "outputs": [],
      "source": [
        "# Dataframe of accident_severity, speed_limit & urban_or_rural_area\n",
        "\n",
        "accident_apriori_df = merged_apriori.get_dataframe_of_selected_variables(['accident_severity', 'speed_limit',\n",
        "                                                                          'urban_or_rural_area'])\n",
        "accident_apriori_df"
      ]
    },
    {
      "cell_type": "code",
      "execution_count": null,
      "id": "59530b5f",
      "metadata": {
        "id": "59530b5f"
      },
      "outputs": [],
      "source": [
        "# One hot encode each column in accident_apriori_df and merge the results in a dataframe\n",
        "\n",
        "apriori_encoded_df = merged_apriori.one_hot_encode( accident_apriori_df, ['accident_severity', 'speed_limit',\n",
        "                                                    'urban_or_rural_area'], ('severity', 'speed', 'urban_or_rural'))\n",
        "\n",
        "apriori_encoded_df"
      ]
    },
    {
      "cell_type": "code",
      "execution_count": null,
      "id": "29344755",
      "metadata": {
        "id": "29344755"
      },
      "outputs": [],
      "source": [
        "# Running apriori on apriori_encoded_df to get support\n",
        "\n",
        "freq_item_sets = merged_apriori.run_apriori(apriori_encoded_df, 0.2)\n",
        "freq_item_sets"
      ]
    },
    {
      "cell_type": "code",
      "execution_count": null,
      "id": "7022c0fa",
      "metadata": {
        "id": "7022c0fa"
      },
      "outputs": [],
      "source": [
        "# Generating association the lift rule on freq_item_sets\n",
        "\n",
        "lift_rule = merged_apriori.generate_rules(freq_item_sets, 'lift', 0.5)\n",
        "lift_rule"
      ]
    },
    {
      "cell_type": "code",
      "execution_count": null,
      "id": "fd6b33cd",
      "metadata": {
        "id": "fd6b33cd"
      },
      "outputs": [],
      "source": [
        "# Filter association rules relevant to accident_severity\n",
        "\n",
        "merged_apriori.filter_rule(lift_rule, 'severity_3')"
      ]
    },
    {
      "cell_type": "markdown",
      "id": "4b284223",
      "metadata": {
        "id": "4b284223"
      },
      "source": [
        "## <h4 style = 'text-align : center'>5. Identify accidents in our region: Kingston upon Hull, Humberside, and the East Riding of Yorkshire etc.. Run clustering on this data</h4>"
      ]
    },
    {
      "cell_type": "markdown",
      "id": "dfea509b",
      "metadata": {
        "id": "dfea509b"
      },
      "source": [
        "<h5 style = 'text-align : center'>Geographic clustering </h5>"
      ]
    },
    {
      "cell_type": "code",
      "execution_count": null,
      "id": "cdd7852f",
      "metadata": {
        "id": "cdd7852f"
      },
      "outputs": [],
      "source": [
        "# Check catalogue_df for police_force\n",
        "# Police_force 16 is Humberside which also covers Kingston upon Hull, East Riding of Yorkshire, North Lincolnshire &\n",
        "# North East Lincolnshire\n",
        "\n",
        "catalogue_df[(catalogue_df['table'] == 'accident') | (catalogue_df['field name'] == 'police_force')]"
      ]
    },
    {
      "cell_type": "markdown",
      "id": "cbea9367",
      "metadata": {
        "id": "cbea9367"
      },
      "source": [
        "### I created a class geograhic_clustering that does the following:\n",
        "+ Does Kmeans and Kmedoid clustering of humberside region"
      ]
    },
    {
      "cell_type": "code",
      "execution_count": null,
      "id": "c5ec501a",
      "metadata": {
        "id": "c5ec501a"
      },
      "outputs": [],
      "source": [
        "class geographic_clustering:\n",
        "    def __init__(self, dataframe, longitude, latitude):\n",
        "\n",
        "        self.dataframe = dataframe\n",
        "        self.longitude = longitude\n",
        "        self.latitude = latitude\n",
        "\n",
        "    def elbow_method(self, type_of_cluster):\n",
        "            # Create an empty list to store inertia values for different k values\n",
        "\n",
        "            inertia_values = []\n",
        "\n",
        "            # Try different values of k (number of clusters)\n",
        "\n",
        "            k_values = range(1, 10)\n",
        "\n",
        "            for k in k_values:\n",
        "\n",
        "                if type_of_cluster == 'KMeans':\n",
        "\n",
        "                    # Create a KMeans object with the current k value\n",
        "\n",
        "                    cluster_model = KMeans(n_clusters = k)\n",
        "\n",
        "                else:\n",
        "                    # Create a KMedoids object with the current k value\n",
        "\n",
        "                    cluster_model = KMedoids(n_clusters = k)\n",
        "\n",
        "                # Fit the clustering model to the data\n",
        "                cluster_model.fit(self.dataframe)\n",
        "\n",
        "                # Append the inertia (sum of squared distances) to the list\n",
        "                inertia_values.append(cluster_model.inertia_)\n",
        "\n",
        "            # Plot the inertia values against different k values\n",
        "            plt.plot(k_values, inertia_values, marker='o')\n",
        "            plt.xlabel('Number of Clusters (k)')\n",
        "            plt.ylabel('Inertia Values')\n",
        "            plt.title(f'Elbow method for {type_of_cluster} to determine optimal k')\n",
        "            plt.xticks(k_values)\n",
        "\n",
        "            return plt.show()\n",
        "\n",
        "\n",
        "    def  kmeans_clustering(self, k):\n",
        "\n",
        "        # Create a KMeans object with the number of clusters = k\n",
        "        kmeans = KMeans(n_clusters = k)\n",
        "\n",
        "        # Fit the K-means model to the data\n",
        "        kmeans.fit(self.dataframe)\n",
        "\n",
        "        # Get the cluster labels\n",
        "        labels = kmeans.predict(self.dataframe)\n",
        "\n",
        "        # Get the cluster centers\n",
        "        centroids = kmeans.cluster_centers_\n",
        "\n",
        "        # Get the inertia (sum of squared distances)\n",
        "\n",
        "        inertia = kmeans.inertia_\n",
        "\n",
        "        return (labels, centroids, inertia)\n",
        "\n",
        "\n",
        "    def  kmedoids_clustering(self, k):\n",
        "\n",
        "        # Create a kmedoids object with the number of clusters = k\n",
        "        kmedoids = KMedoids(n_clusters = k)\n",
        "\n",
        "        # Fit the kmedoids model to the data\n",
        "        kmedoids.fit(self.dataframe)\n",
        "\n",
        "        # Get the cluster labels\n",
        "        labels = kmedoids.predict(self.dataframe)\n",
        "\n",
        "        # Get the cluster centers\n",
        "        centroids = kmedoids.cluster_centers_\n",
        "\n",
        "        # Get the inertia (sum of squared distances)\n",
        "\n",
        "        inertia = kmedoids.inertia_\n",
        "\n",
        "        return (labels, centroids, inertia)\n",
        "\n",
        "\n",
        "    def plot_clustering(self, labels, centroids, type_of_cluster):\n",
        "\n",
        "        # Determine which data is x & y\n",
        "        plt.scatter(self.dataframe.longitude, self.dataframe.latitude, c = labels,  cmap = 'viridis', s = 5)\n",
        "\n",
        "        # Add labels to the plot and a title\n",
        "        plt.scatter(centroids[:, 0], centroids[:, 1], color = 'red')\n",
        "\n",
        "        plt.xlabel('Longitude')\n",
        "        plt.ylabel('Latitude')\n",
        "        plt.title(f'{type_of_cluster} clustering of Humberside Region')\n",
        "\n",
        "        return plt.show()\n",
        "\n",
        "\n",
        "\n",
        "    def plot_clustering_map(self, k, labels):\n",
        "\n",
        "        colors = ['red', \"green\", \"blue\", \"purple\"]\n",
        "\n",
        "        cluster_areas = []\n",
        "\n",
        "        cluster_colors = []\n",
        "\n",
        "        for i in range(k):\n",
        "\n",
        "            cluster_areas.append(list(self.dataframe[[self.latitude, self.longitude]][labels == i].values))\n",
        "\n",
        "            cluster_colors.append(f\"<svg width='12' height='12' xmlns='http://www.w3.org/2000/svg'> \\\n",
        "                                    <circle cx='6' cy='6' r='3' fill={colors[i]} /></svg>\")\n",
        "\n",
        "        map = folium.Map(location = [53.768363, -0.599618], zoom_start = 9.45, tiles = \"openstreetmap\")\n",
        "\n",
        "\n",
        "        for i, area in enumerate(cluster_areas):\n",
        "\n",
        "             for location in area:\n",
        "\n",
        "                folium.Marker(location, icon=folium.DivIcon(html = cluster_colors[i])).add_to(map)\n",
        "\n",
        "        return map"
      ]
    },
    {
      "cell_type": "code",
      "execution_count": null,
      "id": "21c81388",
      "metadata": {
        "id": "21c81388"
      },
      "outputs": [],
      "source": [
        "# Dataframe for longitude and latitude of Humberside\n",
        "\n",
        "humberside_geographical_df = accident_df[accident_df['police_force'] == 16][['longitude', 'latitude']]\n",
        "humberside_geographical_df"
      ]
    },
    {
      "cell_type": "code",
      "execution_count": null,
      "id": "16951133",
      "metadata": {
        "id": "16951133"
      },
      "outputs": [],
      "source": [
        "geo_coord = geographic_clustering(humberside_geographical_df, 'longitude', 'latitude')"
      ]
    },
    {
      "cell_type": "code",
      "execution_count": null,
      "id": "b825ec3b",
      "metadata": {
        "id": "b825ec3b"
      },
      "outputs": [],
      "source": [
        "geo_coord.elbow_method('KMeans')"
      ]
    },
    {
      "cell_type": "code",
      "execution_count": null,
      "id": "2e759ed0",
      "metadata": {
        "id": "2e759ed0"
      },
      "outputs": [],
      "source": [
        "kmeans_clustering = geo_coord.kmeans_clustering(4)\n",
        "kmeans_clustering[2]"
      ]
    },
    {
      "cell_type": "code",
      "execution_count": null,
      "id": "44c8a774",
      "metadata": {
        "id": "44c8a774"
      },
      "outputs": [],
      "source": [
        "geo_coord.plot_clustering(kmeans_clustering[0], kmeans_clustering[1], 'KMeans')"
      ]
    },
    {
      "cell_type": "code",
      "execution_count": null,
      "id": "39cc644e",
      "metadata": {
        "id": "39cc644e"
      },
      "outputs": [],
      "source": [
        "geo_coord.plot_clustering_map(4, kmeans_clustering[0])"
      ]
    },
    {
      "cell_type": "code",
      "execution_count": null,
      "id": "f7927df5",
      "metadata": {
        "id": "f7927df5"
      },
      "outputs": [],
      "source": [
        "geo_coord.elbow_method('KMedoid')"
      ]
    },
    {
      "cell_type": "code",
      "execution_count": null,
      "id": "4f2bda97",
      "metadata": {
        "id": "4f2bda97"
      },
      "outputs": [],
      "source": [
        "kmedoids_clustering = geo_coord.kmedoids_clustering(4)\n",
        "kmedoids_clustering[2]"
      ]
    },
    {
      "cell_type": "code",
      "execution_count": null,
      "id": "7d8fd17a",
      "metadata": {
        "id": "7d8fd17a"
      },
      "outputs": [],
      "source": [
        "geo_coord.plot_clustering(kmedoids_clustering[0], kmedoids_clustering[1], 'KMedoids')"
      ]
    },
    {
      "cell_type": "code",
      "execution_count": null,
      "id": "4f9bc938",
      "metadata": {
        "id": "4f9bc938"
      },
      "outputs": [],
      "source": [
        "geo_coord.plot_clustering_map(4, kmedoids_clustering[0])"
      ]
    },
    {
      "cell_type": "markdown",
      "id": "848d0ea0",
      "metadata": {
        "id": "848d0ea0"
      },
      "source": [
        "<h4 style = 'text-align : center'>6. Using outlier detection methods, identify unusual entries in your data set</h4>"
      ]
    },
    {
      "cell_type": "markdown",
      "id": "951e51b7",
      "metadata": {
        "id": "951e51b7"
      },
      "source": [
        "### I created class that does the following:\n",
        "+ Detects outlier methods with IQR\n",
        "+ Detects outlier methods with Grubbs test\n",
        "+ Detects outlier methods with Isolation forest\n",
        "+ Plots a distribution to show multivariate outliers\n",
        "+ Plots a map to show multivariate outliers"
      ]
    },
    {
      "cell_type": "code",
      "execution_count": null,
      "id": "e804b5c0",
      "metadata": {
        "id": "e804b5c0"
      },
      "outputs": [],
      "source": [
        "class outlier_detection_methods:\n",
        "    def __init__(self, dataframe):\n",
        "        self.dataframe = dataframe\n",
        "\n",
        "    def IQR_method(self, column, numb):\n",
        "\n",
        "\n",
        "        x = np.array(self.dataframe[column])\n",
        "\n",
        "        q75, q25 = np.percentile(x, [75, 25])\n",
        "        iqr = q75 - q25\n",
        "\n",
        "        upper_quartile = (q75 + numb * iqr)\n",
        "\n",
        "        lower_quartile = (q25 - numb * iqr)\n",
        "\n",
        "        outliers = self.dataframe[(self.dataframe[column] < lower_quartile) |\n",
        "                                  (self.dataframe[column] > upper_quartile)][column].unique()\n",
        "\n",
        "        return outliers\n",
        "\n",
        "\n",
        "    def get_critical_g(self, size, alpha):\n",
        "        tdist = stats.t.ppf(1 - alpha / (2 * size), size - 2)\n",
        "\n",
        "        numerator = (size - 1) * np.sqrt(np.square(tdist))\n",
        "        denominator = np.sqrt(size) * np.sqrt(size - 2 + np.square(tdist))\n",
        "\n",
        "        critical_value = numerator / denominator\n",
        "\n",
        "        return critical_value\n",
        "\n",
        "\n",
        "    def grubbs_test(self, column, alpha):\n",
        "\n",
        "        x = np.array(self.dataframe[column])\n",
        "\n",
        "        outliers = []\n",
        "\n",
        "        while True:\n",
        "            avg = np.mean(x)\n",
        "            absvalues = abs(x - avg)\n",
        "            maxvalue = max(absvalues)\n",
        "            value = x[list(absvalues).index(maxvalue)]\n",
        "            stdev = np.std(x)\n",
        "            G  = maxvalue / stdev\n",
        "\n",
        "            critical_g = self.get_critical_g(len(x), alpha)\n",
        "\n",
        "            if G > critical_g:\n",
        "\n",
        "                x = x[x != value]\n",
        "\n",
        "                outliers.append(value)\n",
        "\n",
        "            else:\n",
        "\n",
        "                break\n",
        "\n",
        "        return np.array(outliers)\n",
        "\n",
        "    def isolation_forest(self, columns, numb):\n",
        "\n",
        "        iforest = IsolationForest(contamination = numb)\n",
        "\n",
        "        outliers = iforest.fit_predict(self.dataframe[columns])\n",
        "\n",
        "        df_outliers = self.dataframe[outliers == -1]\n",
        "\n",
        "        df_non_outliers = self.dataframe[outliers == 1]\n",
        "\n",
        "        return (df_outliers, df_non_outliers)\n",
        "\n",
        "\n",
        "    def plot_multivariate_outliers(self, column_1, column_2, numb):\n",
        "\n",
        "        df_outliers, df_non_outliers = self.isolation_forest([column_1, column_2], numb)\n",
        "\n",
        "        sns.scatterplot(data = df_outliers, x = column_1, y =  column_2, s = 5, color = 'violet')\n",
        "\n",
        "        sns.scatterplot(data = df_non_outliers, x = column_1, y =  column_2, s = 5, color = 'pink')\n",
        "\n",
        "        plt.title(f'Distribution of {column_1} and {column_2} multivariate outliers')\n",
        "\n",
        "        return plt.show()\n",
        "\n",
        "    def plot_outlier_location_map(self, column_1, column_2, numb):\n",
        "\n",
        "        df_outliers = self.isolation_forest([column_1, column_2], numb)[0]\n",
        "\n",
        "        map = folium.Map(location = [56, -1], zoom_start = 5.4999999, titles = 'openstreetmap')\n",
        "\n",
        "        locations_of_outliers = df_outliers[[column_2, column_1]].values\n",
        "\n",
        "        color = \"\"\"<svg width=\"12\" height=\"12\" xmlns=\"http://www.w3.org/2000/svg\">\n",
        "                   <circle cx=\"6\" cy=\"6\" r=\"2\" fill=\"violet\" /></svg>\"\"\"\n",
        "\n",
        "        for location in locations_of_outliers:\n",
        "\n",
        "            folium.Marker(location, icon = folium.DivIcon(html = color)).add_to(map)\n",
        "\n",
        "        return map\n",
        "\n",
        ""
      ]
    },
    {
      "cell_type": "code",
      "execution_count": null,
      "id": "ad39b59e",
      "metadata": {
        "id": "ad39b59e"
      },
      "outputs": [],
      "source": [
        "outlier_df = merged_df[['location_easting_osgr', 'location_northing_osgr', 'longitude', 'latitude', 'number_of_vehicles',\n",
        "                        'number_of_casualties','decimal_time', 'age_of_casualty', 'age_of_driver', 'engine_capacity_cc',\n",
        "                        'age_of_vehicle']]\n",
        "outlier_df.head()"
      ]
    },
    {
      "cell_type": "code",
      "execution_count": null,
      "id": "b74573c6",
      "metadata": {
        "id": "b74573c6"
      },
      "outputs": [],
      "source": [
        "outlier_variables = outlier_detection_methods(outlier_df)"
      ]
    },
    {
      "cell_type": "markdown",
      "id": "480d4384",
      "metadata": {
        "id": "480d4384"
      },
      "source": [
        "<h3 style = 'text-align : center'>Univariate outliers</h3>"
      ]
    },
    {
      "cell_type": "markdown",
      "id": "d1ab40f8",
      "metadata": {
        "id": "d1ab40f8"
      },
      "source": [
        "<h4 style = 'text-align : center'> number_of_vehicles</h4>"
      ]
    },
    {
      "cell_type": "code",
      "execution_count": null,
      "id": "943d3e5d",
      "metadata": {
        "id": "943d3e5d"
      },
      "outputs": [],
      "source": [
        "outlier_variables.IQR_method('number_of_vehicles', 1.5)"
      ]
    },
    {
      "cell_type": "code",
      "execution_count": null,
      "id": "fea857d4",
      "metadata": {
        "id": "fea857d4"
      },
      "outputs": [],
      "source": [
        "outlier_variables.grubbs_test('number_of_vehicles', 0.05)"
      ]
    },
    {
      "cell_type": "markdown",
      "id": "68de8c9c",
      "metadata": {
        "id": "68de8c9c"
      },
      "source": [
        "<h4 style = 'text-align : center'>number_of_casualties</h4>"
      ]
    },
    {
      "cell_type": "code",
      "execution_count": null,
      "id": "cd215ebd",
      "metadata": {
        "id": "cd215ebd"
      },
      "outputs": [],
      "source": [
        "outlier_variables.IQR_method('number_of_casualties', 1.5)"
      ]
    },
    {
      "cell_type": "code",
      "execution_count": null,
      "id": "2167f1e5",
      "metadata": {
        "id": "2167f1e5"
      },
      "outputs": [],
      "source": [
        "outlier_variables.grubbs_test('number_of_casualties', 0.05)"
      ]
    },
    {
      "cell_type": "markdown",
      "id": "307510e3",
      "metadata": {
        "id": "307510e3"
      },
      "source": [
        "<h4 style = 'text-align : center'>decimal_time</h4>"
      ]
    },
    {
      "cell_type": "code",
      "execution_count": null,
      "id": "74583b38",
      "metadata": {
        "id": "74583b38"
      },
      "outputs": [],
      "source": [
        "outlier_variables.IQR_method('decimal_time', 1.5)"
      ]
    },
    {
      "cell_type": "code",
      "execution_count": null,
      "id": "211b9aed",
      "metadata": {
        "id": "211b9aed"
      },
      "outputs": [],
      "source": [
        "outlier_variables.grubbs_test('decimal_time', 0.05)"
      ]
    },
    {
      "cell_type": "markdown",
      "id": "6282a632",
      "metadata": {
        "id": "6282a632"
      },
      "source": [
        "<h4 style = 'text-align : center'>age_of_casualty</h4>"
      ]
    },
    {
      "cell_type": "code",
      "execution_count": null,
      "id": "104addc3",
      "metadata": {
        "id": "104addc3"
      },
      "outputs": [],
      "source": [
        "outlier_variables.IQR_method('age_of_casualty', 1.5)"
      ]
    },
    {
      "cell_type": "code",
      "execution_count": null,
      "id": "c6d8abac",
      "metadata": {
        "id": "c6d8abac"
      },
      "outputs": [],
      "source": [
        "outlier_variables.grubbs_test('age_of_casualty', 0.05)"
      ]
    },
    {
      "cell_type": "markdown",
      "id": "95a8b6f8",
      "metadata": {
        "id": "95a8b6f8"
      },
      "source": [
        "<h4 style = 'text-align : center'>age_of_driver</h4>"
      ]
    },
    {
      "cell_type": "code",
      "execution_count": null,
      "id": "3609793e",
      "metadata": {
        "id": "3609793e"
      },
      "outputs": [],
      "source": [
        "outlier_variables.IQR_method('age_of_driver', 1.5)"
      ]
    },
    {
      "cell_type": "code",
      "execution_count": null,
      "id": "2e0c3fd3",
      "metadata": {
        "id": "2e0c3fd3"
      },
      "outputs": [],
      "source": [
        "outlier_variables.grubbs_test('age_of_driver', 0.05)"
      ]
    },
    {
      "cell_type": "markdown",
      "id": "663be3d2",
      "metadata": {
        "id": "663be3d2"
      },
      "source": [
        "<h4 style = 'text-align : center'>engine_capacity_cc</h4>"
      ]
    },
    {
      "cell_type": "code",
      "execution_count": null,
      "id": "bb11a982",
      "metadata": {
        "id": "bb11a982"
      },
      "outputs": [],
      "source": [
        "outlier_variables.IQR_method('engine_capacity_cc', 1.5)"
      ]
    },
    {
      "cell_type": "code",
      "execution_count": null,
      "id": "8e226a35",
      "metadata": {
        "id": "8e226a35"
      },
      "outputs": [],
      "source": [
        "outlier_variables.grubbs_test('engine_capacity_cc', 0.05)"
      ]
    },
    {
      "cell_type": "markdown",
      "id": "81c18201",
      "metadata": {
        "id": "81c18201"
      },
      "source": [
        "<h4 style = 'text-align : center'>age_of_vehicle</h4>"
      ]
    },
    {
      "cell_type": "code",
      "execution_count": null,
      "id": "e7e8b93f",
      "metadata": {
        "id": "e7e8b93f"
      },
      "outputs": [],
      "source": [
        "outlier_variables.IQR_method('age_of_vehicle', 1.5)"
      ]
    },
    {
      "cell_type": "code",
      "execution_count": null,
      "id": "32d061c5",
      "metadata": {
        "id": "32d061c5"
      },
      "outputs": [],
      "source": [
        "outlier_variables.grubbs_test('age_of_vehicle', 0.05)"
      ]
    },
    {
      "cell_type": "markdown",
      "id": "eb8d0882",
      "metadata": {
        "id": "eb8d0882"
      },
      "source": [
        "<h3 style = 'text-align : center'>Multivariate outliers</h3>"
      ]
    },
    {
      "cell_type": "code",
      "execution_count": null,
      "id": "1cae6d5e",
      "metadata": {
        "id": "1cae6d5e"
      },
      "outputs": [],
      "source": [
        "outlier_variables.isolation_forest(['longitude','latitude'], 0.01)[0]"
      ]
    },
    {
      "cell_type": "code",
      "execution_count": null,
      "id": "743a1f92",
      "metadata": {
        "id": "743a1f92"
      },
      "outputs": [],
      "source": [
        "outlier_variables.plot_multivariate_outliers('longitude','latitude', 0.01)"
      ]
    },
    {
      "cell_type": "code",
      "execution_count": null,
      "id": "09049b15",
      "metadata": {
        "id": "09049b15"
      },
      "outputs": [],
      "source": [
        "outlier_variables.plot_outlier_location_map('longitude', 'latitude', 0.01)"
      ]
    },
    {
      "cell_type": "code",
      "execution_count": null,
      "id": "24ccd39d",
      "metadata": {
        "id": "24ccd39d"
      },
      "outputs": [],
      "source": [
        "outlier_variables.isolation_forest(['location_easting_osgr','location_northing_osgr'], 0.01)[0]"
      ]
    },
    {
      "cell_type": "code",
      "execution_count": null,
      "id": "6a8939df",
      "metadata": {
        "id": "6a8939df"
      },
      "outputs": [],
      "source": [
        "outlier_variables.plot_multivariate_outliers('location_easting_osgr','location_northing_osgr', 0.01)"
      ]
    },
    {
      "cell_type": "markdown",
      "id": "26e50c79",
      "metadata": {
        "id": "26e50c79"
      },
      "source": [
        "<h4 style = 'text-align : center'>7. Can you develop a classification model using the provided data that accurately predicts fatal injuries sustained in road traffic accidents, with the aim of informing and improving road safety measures</h4>"
      ]
    },
    {
      "cell_type": "code",
      "execution_count": null,
      "id": "3dffaa50",
      "metadata": {
        "id": "3dffaa50"
      },
      "outputs": [],
      "source": [
        "# Check catalogue_df for accident_severity\n",
        "\n",
        "catalogue_df[(catalogue_df['table'] == 'accident') | (catalogue_df['field name'] == 'accident_severity')]"
      ]
    },
    {
      "cell_type": "code",
      "execution_count": null,
      "id": "a01d8ac5",
      "metadata": {
        "id": "a01d8ac5"
      },
      "outputs": [],
      "source": [
        "# Created a series which has True for fatal accidents and False for non fatal accidents\n",
        "\n",
        "fatal_accidents = (merged_df['accident_severity'] == 1)\n",
        "fatal_accidents"
      ]
    },
    {
      "cell_type": "code",
      "execution_count": null,
      "id": "cb5ebba8",
      "metadata": {
        "id": "cb5ebba8"
      },
      "outputs": [],
      "source": [
        "fatal_accidents.value_counts()"
      ]
    },
    {
      "cell_type": "markdown",
      "id": "4bbeef5a",
      "metadata": {
        "id": "4bbeef5a"
      },
      "source": [
        "Feature selection"
      ]
    },
    {
      "cell_type": "code",
      "execution_count": null,
      "id": "6df0d2b9",
      "metadata": {
        "id": "6df0d2b9"
      },
      "outputs": [],
      "source": [
        "# Feature selection\n",
        "\n",
        "columns_to_drop = ['accident_index','accident_year_x','accident_reference', 'accident_severity',\n",
        "                   'did_police_officer_attend_scene_of_accident', 'date', 'converted_time', 'vehicle_index',\n",
        "                   'casualty_index', 'casualty_severity', 'casualty_reference', 'lsoa_of_accident_location',\n",
        "                   'local_authority_district', 'local_authority_highway', 'generic_make_model', 'vehicle_reference_x']"
      ]
    },
    {
      "cell_type": "code",
      "execution_count": null,
      "id": "bc3c4634",
      "metadata": {
        "id": "bc3c4634"
      },
      "outputs": [],
      "source": [
        "merged_df = merged_df.drop(columns = columns_to_drop)\n",
        "\n",
        "# Keep columns that are numbers in the data frame.\n",
        "merged_df = merged_df.select_dtypes([np.number])\n",
        "\n",
        "merged_df.head()"
      ]
    },
    {
      "cell_type": "markdown",
      "id": "1c01c3a2",
      "metadata": {
        "id": "1c01c3a2"
      },
      "source": [
        "### I created a class that does the following\n",
        "+ Balances a dataframe and series\n",
        "+ Get the best sixteen variables to train my model\n",
        "+ Builds four models  - Decision tree, random forest, XGBoost and Stacker\n",
        "+ Prints the classification reports for all the models\n",
        "+ Prints the Confusion matrix for all the models\n",
        "+ Plots the boxplot for all the models"
      ]
    },
    {
      "cell_type": "code",
      "execution_count": null,
      "id": "60b0b7bf",
      "metadata": {
        "id": "60b0b7bf"
      },
      "outputs": [],
      "source": [
        "class fatal_injury_classification:\n",
        "    def __init__(self, dataframe, series):\n",
        "\n",
        "        self.dataframe = dataframe\n",
        "\n",
        "        self.series = series\n",
        "\n",
        "        self.balanced_df, self.balanced_series = self.balance_dataframe_and_series()\n",
        "\n",
        "        self.X_train, self.X_test, self.y_train, self.y_test = self.get_test_and_training_samples()\n",
        "\n",
        "        self.models = self.get_models()\n",
        "\n",
        "        self.y_pred_list = self.get_predictions()\n",
        "\n",
        "    def balance_dataframe_and_series(self):\n",
        "\n",
        "        # Creating a balanced the dataset using RandomUnderSampler\n",
        "\n",
        "        self.balanced_df, self.balanced_series = RandomUnderSampler().fit_resample(self.dataframe, self.series)\n",
        "\n",
        "        return (self.balanced_df, self.balanced_series)\n",
        "\n",
        "\n",
        "    def get_kbest(self):\n",
        "        selector = SelectKBest(f_classif, k = 16)\n",
        "        selector.fit(self.balanced_df, self.balanced_series)\n",
        "        mask = selector.get_support()\n",
        "        names = selector.feature_names_in_[mask]\n",
        "        scores = selector.scores_[mask]\n",
        "\n",
        "        plt.bar(names, scores)\n",
        "        plt.xticks(rotation = 'vertical')\n",
        "\n",
        "        return plt.show()\n",
        "\n",
        "    def get_test_and_training_samples(self):\n",
        "\n",
        "        selector = SelectKBest(f_classif, k = 5)\n",
        "        selector.fit(self.balanced_df, self.balanced_series)\n",
        "        mask = selector.get_support()\n",
        "        names = selector.feature_names_in_[mask]\n",
        "\n",
        "        X = self.balanced_df[names] # (features)\n",
        "        y = self.balanced_series # (labels)\n",
        "\n",
        "        # Split the data into training and test sets (80% train, 20% test)\n",
        "        X_train, X_test, y_train, y_test = train_test_split(X, y, test_size = 0.2, random_state = 42)\n",
        "\n",
        "        return (X_train, X_test, y_train, y_test)\n",
        "\n",
        "\n",
        "    def get_models(self):\n",
        "\n",
        "        models = dict()\n",
        "\n",
        "        models['Decision_Tree'] = DecisionTreeClassifier()\n",
        "        models['Random_Forest'] = RandomForestClassifier()\n",
        "        models['XGBoost'] = XGBClassifier()\n",
        "        models['Stacker'] = self.get_stacking()\n",
        "\n",
        "        return models\n",
        "\n",
        "    def get_stacking(self):\n",
        "\n",
        "        level0 = []\n",
        "        level0.append(('Decision_Tree', DecisionTreeClassifier()))\n",
        "        level0.append(('Random_Forest', RandomForestClassifier()))\n",
        "        level0.append(('XGBoost', XGBClassifier()))\n",
        "\n",
        "\n",
        "        level1 = LogisticRegression()\n",
        "\n",
        "        model = StackingClassifier(estimators = level0, final_estimator = level1, cv = 5)\n",
        "\n",
        "        return model\n",
        "\n",
        "    def get_predictions(self):\n",
        "\n",
        "        y_pred_list = []\n",
        "\n",
        "        for model_name, model in self.models.items():\n",
        "\n",
        "            model.fit(self.X_train, self.y_train)\n",
        "\n",
        "            y_pred = model.predict(self.X_test)\n",
        "\n",
        "            y_pred_list.append(y_pred)\n",
        "\n",
        "        return y_pred_list\n",
        "\n",
        "\n",
        "    def cross_validation(self, model):\n",
        "\n",
        "        models_list = list(self.models.keys())\n",
        "\n",
        "        cv_scores = {}\n",
        "\n",
        "        for model_name, model in self.models.items():\n",
        "\n",
        "            cv_scores[model_name] = cross_validate(\n",
        "\n",
        "                model, self.X_train, self.y_train,\n",
        "\n",
        "                scoring = {\n",
        "\n",
        "                    'accuracy': make_scorer(accuracy_score),\n",
        "                    'precision': make_scorer(precision_score),\n",
        "                    'recall': make_scorer(recall_score),\n",
        "                    'f1': make_scorer(f1_score)\n",
        "                },\n",
        "\n",
        "                cv = RepeatedStratifiedKFold(n_splits = 10, n_repeats = 3, random_state = 1),\n",
        "\n",
        "                error_score='raise'\n",
        "            )\n",
        "\n",
        "        return cv_scores\n",
        "\n",
        "\n",
        "    def get_classification_report(self, y_pred_list):\n",
        "\n",
        "        models_list = list(self.models.keys())\n",
        "\n",
        "        for i, model_name in enumerate(models_list):\n",
        "\n",
        "            print(f'{model_name} Classification Report')\n",
        "            print(classification_report(self.y_test, y_pred_list[i]), '\\n' * 5)\n",
        "\n",
        "\n",
        "    def plot_confusion_matrix(self, y_pred_list):\n",
        "\n",
        "        models_list = list(self.models.keys())\n",
        "\n",
        "        for i, model_name in enumerate(models_list):\n",
        "\n",
        "            model = self.models[model_name]\n",
        "\n",
        "            model.fit(self.X_train, self.y_train)\n",
        "\n",
        "            # Predict classes for the test set\n",
        "            y_pred = model.predict(self.X_test)\n",
        "\n",
        "            # Generate and display the confusion matrix\n",
        "            disp = ConfusionMatrixDisplay.from_estimator(model, self.X_test, self.y_test, display_labels=['Non Fatal', 'Fatal'])\n",
        "            disp.figure_.suptitle(f'{model_name} Confusion Matrix')\n",
        "\n",
        "            plt.show()\n",
        "\n",
        "    def plot_cross_validation_results(self, cv_scores):\n",
        "\n",
        "        models_list = list(self.models.keys())\n",
        "\n",
        "        accuracy_scores = [cv_scores[model_name]['test_accuracy'] for model_name in models_list]\n",
        "\n",
        "        plt.figure(figsize=(10, 6))\n",
        "        plt.boxplot(accuracy_scores, labels = models_list)\n",
        "        plt.title('Cross Validation Accuracy Results')\n",
        "        plt.ylabel('Accuracy Score')\n",
        "        plt.xticks(rotation = 'vertical')\n",
        "\n",
        "        plt.show()\n"
      ]
    },
    {
      "cell_type": "code",
      "execution_count": null,
      "id": "ff870189",
      "metadata": {
        "id": "ff870189"
      },
      "outputs": [],
      "source": [
        "# Gets an instance of the class fatal injury classification\n",
        "\n",
        "classification = fatal_injury_classification(merged_df, fatal_accidents)"
      ]
    },
    {
      "cell_type": "code",
      "execution_count": null,
      "id": "f2d5e45b",
      "metadata": {
        "id": "f2d5e45b"
      },
      "outputs": [],
      "source": [
        "# Gets Kbest\n",
        "\n",
        "classification.get_kbest()"
      ]
    },
    {
      "cell_type": "code",
      "execution_count": null,
      "id": "0e974443",
      "metadata": {
        "id": "0e974443"
      },
      "outputs": [],
      "source": [
        "# Get X_train, X_test, y_train, y_test\n",
        "\n",
        "X_train, X_test, y_train, y_test = classification.get_test_and_training_samples()"
      ]
    },
    {
      "cell_type": "code",
      "execution_count": null,
      "id": "22b76fe9",
      "metadata": {
        "id": "22b76fe9"
      },
      "outputs": [],
      "source": [
        "# Get the models\n",
        "\n",
        "models = classification.get_models()"
      ]
    },
    {
      "cell_type": "code",
      "execution_count": null,
      "id": "b5c5347d",
      "metadata": {
        "id": "b5c5347d"
      },
      "outputs": [],
      "source": [
        "# Get y_pred_list\n",
        "\n",
        "y_pred_list = classification.get_predictions()"
      ]
    },
    {
      "cell_type": "code",
      "execution_count": null,
      "id": "5cfec4b5",
      "metadata": {
        "id": "5cfec4b5"
      },
      "outputs": [],
      "source": [
        "scores = classification.cross_validation(models)"
      ]
    },
    {
      "cell_type": "code",
      "execution_count": null,
      "id": "0cffb54b",
      "metadata": {
        "id": "0cffb54b"
      },
      "outputs": [],
      "source": [
        "# Method to print the classification report of all the models\n",
        "\n",
        "classification.get_classification_report(y_pred_list)"
      ]
    },
    {
      "cell_type": "code",
      "execution_count": null,
      "id": "231afcba",
      "metadata": {
        "scrolled": false,
        "id": "231afcba"
      },
      "outputs": [],
      "source": [
        "# Method to print the confusion matrix of all the models\n",
        "\n",
        "classification.plot_confusion_matrix(y_pred_list)"
      ]
    },
    {
      "cell_type": "code",
      "execution_count": null,
      "id": "ba07d021",
      "metadata": {
        "id": "ba07d021"
      },
      "outputs": [],
      "source": [
        "# PLot of cross validation accuracy scores\n",
        "\n",
        "classification.plot_cross_validation_results(scores)"
      ]
    }
  ],
  "metadata": {
    "kernelspec": {
      "display_name": "Python 3 (ipykernel)",
      "language": "python",
      "name": "python3"
    },
    "language_info": {
      "codemirror_mode": {
        "name": "ipython",
        "version": 3
      },
      "file_extension": ".py",
      "mimetype": "text/x-python",
      "name": "python",
      "nbconvert_exporter": "python",
      "pygments_lexer": "ipython3",
      "version": "3.11.1"
    },
    "colab": {
      "provenance": []
    }
  },
  "nbformat": 4,
  "nbformat_minor": 5
}