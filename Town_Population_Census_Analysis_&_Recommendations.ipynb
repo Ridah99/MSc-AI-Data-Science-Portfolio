{
  "cells": [
    {
      "cell_type": "markdown",
      "id": "de07a00f",
      "metadata": {
        "id": "de07a00f"
      },
      "source": [
        "<h1 style=\"text-align: center;\">DATA CLEANING FOR CENSUS04</h1>"
      ]
    },
    {
      "cell_type": "markdown",
      "id": "edbf7cd7",
      "metadata": {
        "id": "edbf7cd7"
      },
      "source": [
        "<h2 style=\"text-align: center;\">Import necessary libraries</h2>"
      ]
    },
    {
      "cell_type": "code",
      "execution_count": null,
      "id": "cad4156c",
      "metadata": {
        "id": "cad4156c"
      },
      "outputs": [],
      "source": [
        "pip install ydata-profiling --user"
      ]
    },
    {
      "cell_type": "code",
      "execution_count": null,
      "id": "c1d0e5b9",
      "metadata": {
        "id": "c1d0e5b9"
      },
      "outputs": [],
      "source": [
        "pip install seaborn"
      ]
    },
    {
      "cell_type": "code",
      "execution_count": null,
      "id": "4fa9484d",
      "metadata": {
        "id": "4fa9484d"
      },
      "outputs": [],
      "source": [
        "import csv\n",
        "import numpy as np\n",
        "import pandas as pd\n",
        "from pandas_profiling import ProfileReport\n",
        "import seaborn as sns\n",
        "import matplotlib.pyplot as plt\n",
        "\n",
        "%matplotlib inline"
      ]
    },
    {
      "cell_type": "markdown",
      "id": "60ec77c1",
      "metadata": {
        "id": "60ec77c1"
      },
      "source": [
        "<h2 style=\"text-align: center;\">Read in the CSV file</h2>"
      ]
    },
    {
      "cell_type": "code",
      "execution_count": null,
      "id": "b7d64e8f",
      "metadata": {
        "id": "b7d64e8f"
      },
      "outputs": [],
      "source": [
        "#Reading census0S4.csv into a pandas dataframe\n",
        "df = pd.read_csv('census04.csv')\n",
        "df"
      ]
    },
    {
      "cell_type": "code",
      "execution_count": null,
      "id": "3d980a4a",
      "metadata": {
        "id": "3d980a4a"
      },
      "outputs": [],
      "source": [
        "# prints the dataframe's information\n",
        "df.info()"
      ]
    },
    {
      "cell_type": "code",
      "execution_count": null,
      "id": "e6d94062",
      "metadata": {
        "id": "e6d94062"
      },
      "outputs": [],
      "source": [
        "# prints the amount of null values in each column of the data frame\n",
        "df.isnull().sum()"
      ]
    },
    {
      "cell_type": "markdown",
      "id": "0cac094f",
      "metadata": {
        "id": "0cac094f"
      },
      "source": [
        "<h4>Observations made:</h4>\n",
        "\n",
        "+ Age is a string (object) instead of an integer (int64)\n",
        "+ There are null values for Marital Status and Religion"
      ]
    },
    {
      "cell_type": "markdown",
      "id": "a93369c7",
      "metadata": {
        "id": "a93369c7"
      },
      "source": [
        "<h2 style = \"text-align: center;\">Clean the Age column</h2>"
      ]
    },
    {
      "cell_type": "code",
      "execution_count": null,
      "id": "97a31e14",
      "metadata": {
        "id": "97a31e14"
      },
      "outputs": [],
      "source": [
        "# printing the data series for age\n",
        "df['Age']"
      ]
    },
    {
      "cell_type": "code",
      "execution_count": null,
      "id": "2ed98233",
      "metadata": {
        "id": "2ed98233"
      },
      "outputs": [],
      "source": [
        "# printing the unique values of age\n",
        "df['Age'].unique()"
      ]
    },
    {
      "cell_type": "markdown",
      "id": "11961825",
      "metadata": {
        "id": "11961825"
      },
      "source": [
        "<h4>Observations made about Age:</h4>\n",
        "\n",
        "+ Age dtype is object (string) instead of int64 (integer)\n",
        "+ Some ages are float values\n",
        "+ There is an empty value"
      ]
    },
    {
      "cell_type": "code",
      "execution_count": null,
      "id": "f0928aaf",
      "metadata": {
        "id": "f0928aaf"
      },
      "outputs": [],
      "source": [
        "# printing the row(s) with the empty value for age\n",
        "df[df['Age'] == ' ']"
      ]
    },
    {
      "cell_type": "markdown",
      "id": "cb4d8c32",
      "metadata": {
        "id": "cb4d8c32"
      },
      "source": [
        "<h4>Did a comparison of people living in the same house as the person with the empty age value</h4>"
      ]
    },
    {
      "cell_type": "code",
      "execution_count": null,
      "id": "6578b7f0",
      "metadata": {
        "id": "6578b7f0"
      },
      "outputs": [],
      "source": [
        "# Dataframe of people living in the same house as the person with the empty age value\n",
        "df[(df['Street'] == 'Edwards Mall') & (df['House Number'] == 21)]"
      ]
    },
    {
      "cell_type": "markdown",
      "id": "a4c835d6",
      "metadata": {
        "id": "a4c835d6"
      },
      "source": [
        "<h4>Did a comparison of people in the same demographic group as the person with the empty age value</h4>"
      ]
    },
    {
      "cell_type": "code",
      "execution_count": null,
      "id": "f82c820f",
      "metadata": {
        "id": "f82c820f"
      },
      "outputs": [],
      "source": [
        "# Dataframe for women who are christian, divorced and the head of their houses\n",
        "df_age = df[(df['Relationship to Head of House'] == 'Head') & (df['Gender'] == 'Female') & (df['Marital Status'] == 'Divorced') & (df['Religion'] == 'Christian')]\n",
        "df_age"
      ]
    },
    {
      "cell_type": "code",
      "execution_count": null,
      "id": "1def4e39",
      "metadata": {
        "id": "1def4e39"
      },
      "outputs": [],
      "source": [
        "# finding the mode of the ages of women who are christian, divorced and the head of their houses\n",
        "df_age['Age'].mode()"
      ]
    },
    {
      "cell_type": "code",
      "execution_count": null,
      "id": "b7ce5b7f",
      "metadata": {
        "id": "b7ce5b7f"
      },
      "outputs": [],
      "source": [
        "# printing the dataframe for women that are 70 years old\n",
        "df[(df['Age'] == '70')]"
      ]
    },
    {
      "cell_type": "markdown",
      "id": "a0a988cc",
      "metadata": {
        "id": "a0a988cc"
      },
      "source": [
        "<h4>Observations made about Age:</h4>\n",
        "\n",
        "+ The mode of the ages of women in the same demographic group is 70\n",
        "+ As she is not listed as retired, her real age is probably less than 70"
      ]
    },
    {
      "cell_type": "markdown",
      "id": "81be9801",
      "metadata": {
        "id": "81be9801"
      },
      "source": [
        "<h4>Finding the value count of ages of people in the same demographic group as the person with the empty age value </h4>"
      ]
    },
    {
      "cell_type": "code",
      "execution_count": null,
      "id": "7ff8dacc",
      "metadata": {
        "id": "7ff8dacc"
      },
      "outputs": [],
      "source": [
        "# finding the value count of the ages of women who are christian, divorced and the head of their houses\n",
        "df_age['Age'].value_counts()"
      ]
    },
    {
      "cell_type": "markdown",
      "id": "e3a584e6",
      "metadata": {
        "id": "e3a584e6"
      },
      "source": []
    },
    {
      "cell_type": "markdown",
      "id": "791a8034",
      "metadata": {
        "id": "791a8034"
      },
      "source": [
        "<h4>Observations made about Age:</h4>\n",
        "\n",
        "+ The second highest occuring age in this demographic group is 64 years\n",
        "+ Her age will be closer to 64 than 70 as she is not retired yet\n"
      ]
    },
    {
      "cell_type": "code",
      "execution_count": null,
      "id": "785dd781",
      "metadata": {
        "id": "785dd781"
      },
      "outputs": [],
      "source": [
        "# printing the dataframe for women that are 64 years old\n",
        "df[(df['Age'] == '64')]"
      ]
    },
    {
      "cell_type": "markdown",
      "id": "09480dd1",
      "metadata": {
        "id": "09480dd1"
      },
      "source": [
        "<h4>I did the following below</h4>\n",
        "\n",
        "+  Casted age from object to int\n",
        "+  Filled in 64 years as the empty value of age\n",
        "+  Printed the new unique values of age"
      ]
    },
    {
      "cell_type": "code",
      "execution_count": null,
      "id": "996692bd",
      "metadata": {
        "id": "996692bd"
      },
      "outputs": [],
      "source": [
        "# Casting Age from object(str) to int\n",
        "# When there's an error convert to a NaN value\n",
        "try:\n",
        "    df['Age'] = df['Age'].astype(int)\n",
        "\n",
        "except ValueError:\n",
        "    df['Age'] = pd.to_numeric(df['Age'], errors = 'coerce')\n",
        "\n",
        "# fill in the NaN value with 64\n",
        "\n",
        "df['Age'] = df['Age'].fillna(64)\n",
        "\n",
        "# casting all values of age to int\n",
        "\n",
        "df = df.astype({'Age': 'int64'})\n",
        "\n",
        "# printing the unique values for age\n",
        "df['Age'].unique()"
      ]
    },
    {
      "cell_type": "markdown",
      "id": "fbf69d93",
      "metadata": {
        "id": "fbf69d93"
      },
      "source": [
        "<h2 style = \"text-align: center;\">Clean the Religion column</h2>"
      ]
    },
    {
      "cell_type": "code",
      "execution_count": null,
      "id": "424fe9da",
      "metadata": {
        "scrolled": true,
        "id": "424fe9da"
      },
      "outputs": [],
      "source": [
        "# printing the columns that have null values of Religion\n",
        "df[df['Religion'].isna()]"
      ]
    },
    {
      "cell_type": "code",
      "execution_count": null,
      "id": "c2c347e2",
      "metadata": {
        "id": "c2c347e2"
      },
      "outputs": [],
      "source": [
        "# printing the unique values of Religion\n",
        "print(df['Religion'].unique())"
      ]
    },
    {
      "cell_type": "code",
      "execution_count": null,
      "id": "4e00ee6e",
      "metadata": {
        "id": "4e00ee6e"
      },
      "outputs": [],
      "source": [
        "# printing the row(s) with the empty value for religion\n",
        "df[df['Religion'] == ' ']"
      ]
    },
    {
      "cell_type": "markdown",
      "id": "3acb3a16",
      "metadata": {
        "id": "3acb3a16"
      },
      "source": [
        "<h4>Did a comparison of people in the same demographic group as the person with the empty religion value</h4>"
      ]
    },
    {
      "cell_type": "code",
      "execution_count": null,
      "id": "b4c53211",
      "metadata": {
        "id": "b4c53211"
      },
      "outputs": [],
      "source": [
        "# Dataframe for 20 year old males that are single and lodgers\n",
        "df_religion = df[(df['Age'] == 20) & (df['Relationship to Head of House'] == 'Lodger') &  (df['Marital Status'] == 'Single')]\n",
        "df_religion"
      ]
    },
    {
      "cell_type": "code",
      "execution_count": null,
      "id": "ed524851",
      "metadata": {
        "id": "ed524851"
      },
      "outputs": [],
      "source": [
        "# finding the mode of the religion of 20 year old males that are single and lodgers\n",
        "df_religion['Religion'].mode()"
      ]
    },
    {
      "cell_type": "markdown",
      "id": "36886f8a",
      "metadata": {
        "id": "36886f8a"
      },
      "source": [
        "<h4>Observation made</h4>\n",
        "\n",
        "+  Most people in this demographic group are Methodist\n",
        "\n",
        "<h4>Filled in Methodist for the empty value of religion</h4>"
      ]
    },
    {
      "cell_type": "code",
      "execution_count": null,
      "id": "47f82545",
      "metadata": {
        "id": "47f82545"
      },
      "outputs": [],
      "source": [
        "# replacing the empty religion value with the mode religion value gotten above\n",
        "df['Religion'] = df['Religion'].replace(' ', 'Methodist')"
      ]
    },
    {
      "cell_type": "markdown",
      "id": "37eae987",
      "metadata": {
        "id": "37eae987"
      },
      "source": [
        "<h4>Observation made about religion</h4>\n",
        "\n",
        " + It seems most people with null values of religion are minors (below 18years)\n",
        "\n",
        "<h4>Printed the ages of the people with null values of religion</h4>"
      ]
    },
    {
      "cell_type": "code",
      "execution_count": null,
      "id": "7aca77e9",
      "metadata": {
        "id": "7aca77e9"
      },
      "outputs": [],
      "source": [
        "# printing the ages of the people with null values of religion\n",
        "df_age_of_missing_religion = df[df['Religion'].isna()]\n",
        "df_age_of_missing_religion['Age'].unique()"
      ]
    },
    {
      "cell_type": "markdown",
      "id": "a150d3f5",
      "metadata": {
        "id": "a150d3f5"
      },
      "source": [
        "<h4>Observation made:</h4>  \n",
        "\n",
        "+ The people with null values of religion are aged 32 and below\n",
        "\n",
        "<h4>Printed the dataframe of people in town aged 32 and below</h4>"
      ]
    },
    {
      "cell_type": "code",
      "execution_count": null,
      "id": "bb6418d1",
      "metadata": {
        "id": "bb6418d1"
      },
      "outputs": [],
      "source": [
        "# Dataframe of the religion of people aged 32 and below\n",
        "df_below_32 = df_age_of_missing_religion[df_age_of_missing_religion['Age'] <= 32]\n",
        "df_below_32"
      ]
    },
    {
      "cell_type": "code",
      "execution_count": null,
      "id": "a692b9f7",
      "metadata": {
        "id": "a692b9f7"
      },
      "outputs": [],
      "source": [
        "# Unique value(s) for the religion of all people in the town 32 & below\n",
        "df_below_32['Religion'].unique()"
      ]
    },
    {
      "cell_type": "code",
      "execution_count": null,
      "id": "17d6c18e",
      "metadata": {
        "id": "17d6c18e"
      },
      "outputs": [],
      "source": [
        "# printing the data series for the religion of people in the town 32 & below\n",
        "df_below_32['Religion']"
      ]
    },
    {
      "cell_type": "markdown",
      "id": "27ec64ef",
      "metadata": {
        "id": "27ec64ef"
      },
      "source": [
        "<h4>Observation made:</h4>\n",
        "\n",
        "+ All the people in this town age 32 and below have null values of religion\n",
        "+ The length of the data series for the religion of people in town below 32 is the same length with the dataframe of people with null values of religion\n",
        "\n",
        "<h4>The following was done below:</h4>\n",
        "\n",
        "+ Changed null values of religion according to the religion of the head of house\n",
        "+ Changed five religions (Private, Jedi, Undecided, Sith, and Agnostic) to none as they aren't recognised religions\n",
        "+ Printed the new unique values of religion"
      ]
    },
    {
      "cell_type": "code",
      "execution_count": null,
      "id": "bfdc9f31",
      "metadata": {
        "id": "bfdc9f31"
      },
      "outputs": [],
      "source": [
        "# Changing null values of religion according to the religion of the head of house\n",
        "x = 0\n",
        "for number, street, religion, relationship in zip(df[\"House Number\"], df[\"Street\"],df[\"Religion\"], df[\"Relationship to Head of House\"]):\n",
        "    if type(religion) == float:\n",
        "        house = df[(df[\"House Number\"] == number) & (df[\"Street\"] == street)]\n",
        "        for head_relationship, head_religion in zip(house[\"Relationship to Head of House\"], house[\"Religion\"]):\n",
        "            if head_relationship == \"Head\":\n",
        "                df.at[x,\"Religion\"] = head_religion\n",
        "\n",
        "    x += 1"
      ]
    },
    {
      "cell_type": "code",
      "execution_count": null,
      "id": "f228eed6",
      "metadata": {
        "id": "f228eed6"
      },
      "outputs": [],
      "source": [
        "# replacing all Private values of religion to none\n",
        "df['Religion'] = df['Religion'].replace('Private', 'None')\n",
        "\n",
        "# replacing all Jedi values of religion to none\n",
        "df['Religion'] = df['Religion'].replace('Jedi', 'None')\n",
        "\n",
        "# replacing all Undecided values of religion to none\n",
        "df['Religion'] = df['Religion'].replace('Undecided', 'None')\n",
        "\n",
        "# replacing all Sith values of religion to none\n",
        "df['Religion'] = df['Religion'].replace('Sith', 'None')\n",
        "\n",
        "# replacing all Agnostic values of religion to none\n",
        "df['Religion'] = df['Religion'].replace('Agnostic', 'None')\n",
        "\n",
        "# printing the unique values of religion\n",
        "df['Religion'].unique()"
      ]
    },
    {
      "cell_type": "markdown",
      "id": "d528047b",
      "metadata": {
        "id": "d528047b"
      },
      "source": [
        "<h4>Observation made:</h4>\n",
        "\n",
        "+ There are still some people with null values of religion\n",
        "\n",
        "<h4>The following was done below:</h4>\n",
        "\n",
        "+ Printed the dataframe of the  people that still have null values of religion\n",
        "+ Found the mode of their relatinship to head of house"
      ]
    },
    {
      "cell_type": "code",
      "execution_count": null,
      "id": "05133083",
      "metadata": {
        "id": "05133083"
      },
      "outputs": [],
      "source": [
        "# printing the dataframe of the  people that still have null values of religion\n",
        "df_missing_religion = df[df['Religion'].isna()]\n",
        "df_missing_religion"
      ]
    },
    {
      "cell_type": "code",
      "execution_count": null,
      "id": "0287cffe",
      "metadata": {
        "id": "0287cffe"
      },
      "outputs": [],
      "source": [
        "# printing the mode of the relationship to head of house of people that still have missing religions\n",
        "df_missing_religion['Relationship to Head of House'].mode()"
      ]
    },
    {
      "cell_type": "markdown",
      "id": "f74a6aa4",
      "metadata": {
        "id": "f74a6aa4"
      },
      "source": [
        "<h4>Observation made:</h4>\n",
        "\n",
        "+ Most people that still have null values of religion are the head of their houses\n",
        "\n",
        "<h4>The following was done below:</h4>\n",
        "\n",
        "+ Replaced the remaining null values of religion to none as it will be difficult to find their actual religions with the data given\n",
        "+ Printed the new unique values of religion"
      ]
    },
    {
      "cell_type": "code",
      "execution_count": null,
      "id": "15ef97ad",
      "metadata": {
        "id": "15ef97ad"
      },
      "outputs": [],
      "source": [
        "# replacing all null values of religion to none\n",
        "df['Religion'].fillna('None', inplace = True)\n",
        "\n",
        "# printing the unique values of religion\n",
        "df['Religion'].unique()"
      ]
    },
    {
      "cell_type": "markdown",
      "id": "8c23e5dc",
      "metadata": {
        "id": "8c23e5dc"
      },
      "source": [
        "<h2 style = \"text-align: center;\">Clean the marital status column</h2>"
      ]
    },
    {
      "cell_type": "code",
      "execution_count": null,
      "id": "9beabfb9",
      "metadata": {
        "id": "9beabfb9"
      },
      "outputs": [],
      "source": [
        "# printing the columns that have null values of Marital Status\n",
        "df[df['Marital Status'].isna()]"
      ]
    },
    {
      "cell_type": "code",
      "execution_count": null,
      "id": "d138c6b6",
      "metadata": {
        "id": "d138c6b6"
      },
      "outputs": [],
      "source": [
        "# printing the unique values of Marital Status\n",
        "df['Marital Status'].unique()"
      ]
    },
    {
      "cell_type": "code",
      "execution_count": null,
      "id": "c8a5dce3",
      "metadata": {
        "id": "c8a5dce3"
      },
      "outputs": [],
      "source": [
        "# printing the ages of the people with null values of Marital Status\n",
        "df_marital_status = df[df['Marital Status'].isna()]\n",
        "df_marital_status['Age'].unique()"
      ]
    },
    {
      "cell_type": "markdown",
      "id": "08550ccb",
      "metadata": {
        "id": "08550ccb"
      },
      "source": [
        "<h4>Observations made:</h4>\n",
        "\n",
        "+ Only minors (below 18 years old) have null values for Marital Status\n",
        "+ Minors are supposed to have 'NA' value of Marital Status"
      ]
    },
    {
      "cell_type": "markdown",
      "id": "85b14872",
      "metadata": {
        "id": "85b14872"
      },
      "source": [
        "<h4>The following was done:</h4>\n",
        "\n",
        "+ Changed all nullvalues of marital status to 'NA'\n",
        "+ Printed the new unique values of marital status"
      ]
    },
    {
      "cell_type": "code",
      "execution_count": null,
      "id": "69693e1b",
      "metadata": {
        "id": "69693e1b"
      },
      "outputs": [],
      "source": [
        "# Replacing null values with NA\n",
        "df['Marital Status'].fillna('NA', inplace = True)\n",
        "\n",
        "# printing the unique values of Marital status\n",
        "df['Marital Status'].unique()"
      ]
    },
    {
      "cell_type": "markdown",
      "id": "83f14492",
      "metadata": {
        "id": "83f14492"
      },
      "source": [
        "<h2 style = \"text-align: center;\">Clean the first name column</h2>"
      ]
    },
    {
      "cell_type": "code",
      "execution_count": null,
      "id": "9e9a6f09",
      "metadata": {
        "id": "9e9a6f09"
      },
      "outputs": [],
      "source": [
        "# printing the row(s) with empty values of First Name\n",
        "df[df['First Name'] == ' ']"
      ]
    },
    {
      "cell_type": "code",
      "execution_count": null,
      "id": "77ade4af",
      "metadata": {
        "id": "77ade4af"
      },
      "outputs": [],
      "source": [
        "df['First Name'] = df['First Name'].replace(' ', 'Unknown')"
      ]
    },
    {
      "cell_type": "markdown",
      "id": "8689416b",
      "metadata": {
        "id": "8689416b"
      },
      "source": [
        "<h2 style = \"text-align: center;\">Clean the surname column</h2>"
      ]
    },
    {
      "cell_type": "code",
      "execution_count": null,
      "id": "ec16bbd5",
      "metadata": {
        "id": "ec16bbd5"
      },
      "outputs": [],
      "source": [
        "# printing the row(s) with empty values of Surname\n",
        "df[df['Surname'] == ' ']"
      ]
    },
    {
      "cell_type": "markdown",
      "id": "4fb99dcb",
      "metadata": {
        "id": "4fb99dcb"
      },
      "source": [
        "<h4>Did a comparison of people living in the same household to find Surname</h4>"
      ]
    },
    {
      "cell_type": "code",
      "execution_count": null,
      "id": "6726ed24",
      "metadata": {
        "id": "6726ed24"
      },
      "outputs": [],
      "source": [
        "# printing the dataframe of people living in no 43 Windy Dale\n",
        "df[(df['Street'] == 'Windy Dale') & (df['House Number'] == 43)]"
      ]
    },
    {
      "cell_type": "markdown",
      "id": "3a6e7714",
      "metadata": {
        "id": "3a6e7714"
      },
      "source": [
        "<h4>Observation made:</h4>\n",
        "\n",
        "+ The head of house surname is Preston\n",
        "+ Her relationship to the head of house is daughter\n",
        "\n",
        "<h4>I did the following:</h4>\n",
        "\n",
        "+ Changed her surname from an empty value to Preston"
      ]
    },
    {
      "cell_type": "code",
      "execution_count": null,
      "id": "49bb9395",
      "metadata": {
        "id": "49bb9395"
      },
      "outputs": [],
      "source": [
        "# Surname was changed from an empty value to Preston\n",
        "df.at[315, 'Surname'] = 'Preston'"
      ]
    },
    {
      "cell_type": "markdown",
      "id": "313df793",
      "metadata": {
        "id": "313df793"
      },
      "source": [
        "<h4>Did a comparison of people living in the same household to find Surname</h4>"
      ]
    },
    {
      "cell_type": "code",
      "execution_count": null,
      "id": "d0292090",
      "metadata": {
        "id": "d0292090"
      },
      "outputs": [],
      "source": [
        "# printing the dataframe of people living in no 4 Fletcher Spur\n",
        "df[(df['Street'] == 'Fletcher Spur') & (df['House Number'] == 4)]"
      ]
    },
    {
      "cell_type": "markdown",
      "id": "b757b91f",
      "metadata": {
        "id": "b757b91f"
      },
      "source": [
        "<h4>Observation made:</h4>\n",
        "\n",
        "+ She is married\n",
        "+ Her husband's surname is Moore\n",
        "\n",
        "<h4>I did the following:</h4>\n",
        "\n",
        "+ Changed her surname from an empty value to Moore (Her husband's surname)"
      ]
    },
    {
      "cell_type": "code",
      "execution_count": null,
      "id": "2df154fb",
      "metadata": {
        "id": "2df154fb"
      },
      "outputs": [],
      "source": [
        "# Surname was changed from an empty value to Moore\n",
        "df.at[3165, 'Surname'] = 'Moore'"
      ]
    },
    {
      "cell_type": "markdown",
      "id": "1c612fcf",
      "metadata": {
        "id": "1c612fcf"
      },
      "source": [
        "<h4>Did a comparison of people living in the same household to find Surname</h4>"
      ]
    },
    {
      "cell_type": "code",
      "execution_count": null,
      "id": "b0ad8b9e",
      "metadata": {
        "id": "b0ad8b9e"
      },
      "outputs": [],
      "source": [
        "# printing the dataframe of people living in no 6 Hazel Ford\n",
        "df[(df['Street'] == 'Hazel Ford') & (df['House Number'] == 6)]"
      ]
    },
    {
      "cell_type": "markdown",
      "id": "ef46f895",
      "metadata": {
        "id": "ef46f895"
      },
      "source": [
        "<h4>Observation made:</h4>\n",
        "\n",
        "+ Her relationship to the head of house is daughter\n",
        "+ All the other children in this house has Brown as their surname\n",
        "\n",
        "<h4>I did the following:</h4>\n",
        "\n",
        "+ Changed her surname from an empty value to Brown"
      ]
    },
    {
      "cell_type": "code",
      "execution_count": null,
      "id": "6819ece9",
      "metadata": {
        "id": "6819ece9"
      },
      "outputs": [],
      "source": [
        "# Surname was changed from an empty value to Brown\n",
        "df.at[7128, 'Surname'] = 'Brown'"
      ]
    },
    {
      "cell_type": "markdown",
      "id": "a1c306fa",
      "metadata": {
        "id": "a1c306fa"
      },
      "source": [
        "<h2 style = \"text-align:center;\">Clean the relationship to the head of house column</h2>"
      ]
    },
    {
      "cell_type": "code",
      "execution_count": null,
      "id": "cb4633fa",
      "metadata": {
        "id": "cb4633fa"
      },
      "outputs": [],
      "source": [
        "# printing the unique values of Relationship to Head of House\n",
        "df['Relationship to Head of House'].unique()"
      ]
    },
    {
      "cell_type": "code",
      "execution_count": null,
      "id": "a45fc8eb",
      "metadata": {
        "id": "a45fc8eb"
      },
      "outputs": [],
      "source": [
        "# printing the row(s) with empty values of Relationship to Head of House\n",
        "df[df['Relationship to Head of House'] == ' ']"
      ]
    },
    {
      "cell_type": "markdown",
      "id": "20713edb",
      "metadata": {
        "id": "20713edb"
      },
      "source": [
        "<h4>Did a comparison of people living in the same household to find Relationship to Head of House</h4>"
      ]
    },
    {
      "cell_type": "code",
      "execution_count": null,
      "id": "7f936fee",
      "metadata": {
        "id": "7f936fee"
      },
      "outputs": [],
      "source": [
        "# printing the dataframe of people living in 52 Vulture Parkway\n",
        "df[(df['House Number'] == 52) & (df['Street'] == 'Vulture Parkway')]"
      ]
    },
    {
      "cell_type": "markdown",
      "id": "48da679a",
      "metadata": {
        "id": "48da679a"
      },
      "source": [
        "<h4>Observation made:</h4>\n",
        "\n",
        "+ She has the same surname as the head of house and they are both female\n",
        "+ It's safe to assume she might be the head of house's daughter\n",
        "\n",
        "<h4>I did the following:</h4>\n",
        "\n",
        "+ Changed her relationship to head of house from an empty value to daughter"
      ]
    },
    {
      "cell_type": "code",
      "execution_count": null,
      "id": "ccf33c5d",
      "metadata": {
        "id": "ccf33c5d"
      },
      "outputs": [],
      "source": [
        "# Relationship to Head of House was changed from an empty value to daughter\n",
        "df.at[1967, 'Relationship to Head of House'] = 'Daughter'"
      ]
    },
    {
      "cell_type": "markdown",
      "id": "c4882f47",
      "metadata": {
        "id": "c4882f47"
      },
      "source": [
        "<h4>Did a comparison of people living in the same household to find Relationship to Head of House</h4>"
      ]
    },
    {
      "cell_type": "code",
      "execution_count": null,
      "id": "945d2311",
      "metadata": {
        "id": "945d2311"
      },
      "outputs": [],
      "source": [
        "# printing the dataframe of people living in 54 Hazel Ford\n",
        "df[(df['House Number'] == 54) & (df['Street'] == 'Hazel Ford')]"
      ]
    },
    {
      "cell_type": "markdown",
      "id": "912868e4",
      "metadata": {
        "id": "912868e4"
      },
      "source": [
        "<h4>Observation made:</h4>\n",
        "\n",
        "+ He has the same surname as the head of house\n",
        "+ He is a minor and seems to have other siblings with Daly as their surname\n",
        "\n",
        "<h4>I did the following:</h4>\n",
        "\n",
        "+ Changed his relationship to head of house from an empty value to son"
      ]
    },
    {
      "cell_type": "code",
      "execution_count": null,
      "id": "0e9a7585",
      "metadata": {
        "id": "0e9a7585"
      },
      "outputs": [],
      "source": [
        "# Relationship to Head of House was changed from an empty value to son\n",
        "df.at[7441, 'Relationship to Head of House'] = 'Son'"
      ]
    },
    {
      "cell_type": "markdown",
      "id": "12bde880",
      "metadata": {
        "id": "12bde880"
      },
      "source": [
        "<h4>Dataframe of minor head of houses</h4>"
      ]
    },
    {
      "cell_type": "code",
      "execution_count": null,
      "id": "07c7b36e",
      "metadata": {
        "id": "07c7b36e"
      },
      "outputs": [],
      "source": [
        "# printing the dataframe of minors that are the head of their house(s)\n",
        "df_catch_minor_head = df[(df['Relationship to Head of House'] == 'Head') & (df['Age'] < 18)]\n",
        "df_catch_minor_head"
      ]
    },
    {
      "cell_type": "markdown",
      "id": "df9d47a3",
      "metadata": {
        "id": "df9d47a3"
      },
      "source": [
        "<h4>Did a comparison of people living in the same household</h4>"
      ]
    },
    {
      "cell_type": "code",
      "execution_count": null,
      "id": "41188c1b",
      "metadata": {
        "id": "41188c1b"
      },
      "outputs": [],
      "source": [
        "# printing the dataframe of people living in 28 Windy Dale\n",
        "df[(df['House Number'] == 28) & (df['Street'] == 'Windy Dale')]"
      ]
    },
    {
      "cell_type": "markdown",
      "id": "7bf40903",
      "metadata": {
        "id": "7bf40903"
      },
      "source": []
    },
    {
      "cell_type": "markdown",
      "id": "55832e87",
      "metadata": {
        "id": "55832e87"
      },
      "source": [
        "<h4>Did a comparison of people living in the same household</h4>"
      ]
    },
    {
      "cell_type": "code",
      "execution_count": null,
      "id": "69dc7e44",
      "metadata": {
        "id": "69dc7e44"
      },
      "outputs": [],
      "source": [
        "# printing the dataframe of people living in 1 Ochardnip Road\n",
        "df[(df['House Number'] == 1) & (df['Street'] == 'Orchardnip Road')]"
      ]
    },
    {
      "cell_type": "markdown",
      "id": "9055c58d",
      "metadata": {
        "id": "9055c58d"
      },
      "source": [
        "<h4>Changed their ages to 18 to avoid unecessary complicated analysis since it won't significantly change the analysis</h4>"
      ]
    },
    {
      "cell_type": "code",
      "execution_count": null,
      "id": "a3a2302b",
      "metadata": {
        "id": "a3a2302b"
      },
      "outputs": [],
      "source": [
        "# Minor heads of house ages was changed to 18\n",
        "df.at[264, 'Age'] = 18\n",
        "\n",
        "df.at[7987, 'Age'] = 18"
      ]
    },
    {
      "cell_type": "markdown",
      "id": "626608ec",
      "metadata": {
        "id": "626608ec"
      },
      "source": []
    },
    {
      "cell_type": "markdown",
      "id": "18d7f465",
      "metadata": {
        "id": "18d7f465"
      },
      "source": [
        "<h2 style = \"text-align: center;\">Clean the gender column</h2>"
      ]
    },
    {
      "cell_type": "code",
      "execution_count": null,
      "id": "05e70a90",
      "metadata": {
        "id": "05e70a90"
      },
      "outputs": [],
      "source": [
        "# printing the unique values of gender\n",
        "df['Gender'].unique()"
      ]
    },
    {
      "cell_type": "code",
      "execution_count": null,
      "id": "02193066",
      "metadata": {
        "id": "02193066"
      },
      "outputs": [],
      "source": [
        "# printing the row(s) with empty values of Gender\n",
        "df[df['Gender'] == ' ']"
      ]
    },
    {
      "cell_type": "markdown",
      "id": "80cd20d2",
      "metadata": {
        "id": "80cd20d2"
      },
      "source": [
        "<h4>Did a comparison of people living in the same household</h4>"
      ]
    },
    {
      "cell_type": "code",
      "execution_count": null,
      "id": "0f16ee1c",
      "metadata": {
        "id": "0f16ee1c"
      },
      "outputs": [],
      "source": [
        "# printing the dataframe of people living in 26 Murray Coves\n",
        "df[(df['House Number'] == 26) & (df['Street'] == 'Murray Coves')]"
      ]
    },
    {
      "cell_type": "markdown",
      "id": "2388aff7",
      "metadata": {
        "id": "2388aff7"
      },
      "source": [
        "<h4>Observation made:</h4>\n",
        "\n",
        "+ Craig is the partner to the head of house\n",
        "+ Craig is a very male name\n",
        "+ It is safe to assume that Craig might be male\n",
        "\n",
        "<h4>I did the following:</h4>\n",
        "\n",
        "+ Changed Craig's gender from an empty value to Male\n",
        "+ Printed the new unique values of gender"
      ]
    },
    {
      "cell_type": "code",
      "execution_count": null,
      "id": "36fdcdcb",
      "metadata": {
        "id": "36fdcdcb"
      },
      "outputs": [],
      "source": [
        "# Gender was changed from an empty value to Male\n",
        "df['Gender'] = df['Gender'].replace(' ', 'Male')\n",
        "\n",
        "# printing the unique values of gender\n",
        "df['Gender'].unique()"
      ]
    },
    {
      "cell_type": "markdown",
      "id": "1f372012",
      "metadata": {
        "id": "1f372012"
      },
      "source": [
        "<h2 style = \"text-align: center;\">Clean the occupation column</h2>"
      ]
    },
    {
      "cell_type": "code",
      "execution_count": null,
      "id": "b3036b2b",
      "metadata": {
        "id": "b3036b2b"
      },
      "outputs": [],
      "source": [
        "# printing the row(s) with empty values of Occupation\n",
        "df[df['Occupation'] == ' ']"
      ]
    },
    {
      "cell_type": "markdown",
      "id": "a3fa8d4b",
      "metadata": {
        "id": "a3fa8d4b"
      },
      "source": [
        "<h4>Observation made:</h4>\n",
        "\n",
        "+ The two people with an empty value of Occupation are 6 & 15"
      ]
    },
    {
      "cell_type": "markdown",
      "id": "e7fdc2b5",
      "metadata": {
        "id": "e7fdc2b5"
      },
      "source": [
        "<h4>Did a comparison of people in the same demographic group to find occupation</h4>"
      ]
    },
    {
      "cell_type": "code",
      "execution_count": null,
      "id": "96254c43",
      "metadata": {
        "id": "96254c43"
      },
      "outputs": [],
      "source": [
        "# printing the dataframe of the occupation of people age 6 - 15\n",
        "df_occupation = df[(df['Age'] <= 15) & (df['Age'] >= 6) & (df['Occupation'])]\n",
        "df_occupation"
      ]
    },
    {
      "cell_type": "code",
      "execution_count": null,
      "id": "2461a1de",
      "metadata": {
        "id": "2461a1de"
      },
      "outputs": [],
      "source": [
        "# printing the mode of the occupation of people age 6 - 15\n",
        "df_occupation['Occupation'].mode()"
      ]
    },
    {
      "cell_type": "code",
      "execution_count": null,
      "id": "30bd7a37",
      "metadata": {
        "id": "30bd7a37"
      },
      "outputs": [],
      "source": [
        "# Occupation was changed from an empty value to Student\n",
        "df['Occupation'] = df['Occupation'].replace(' ', 'Student')"
      ]
    },
    {
      "cell_type": "markdown",
      "id": "3ad98d49",
      "metadata": {
        "id": "3ad98d49"
      },
      "source": [
        "<h2 style = \"text-align: center;\">Clean the infirmity column</h2>"
      ]
    },
    {
      "cell_type": "code",
      "execution_count": null,
      "id": "15a58234",
      "metadata": {
        "id": "15a58234"
      },
      "outputs": [],
      "source": [
        "# printing the row(s) with empty values of Infirmity\n",
        "df[df['Infirmity'] == ' ']"
      ]
    },
    {
      "cell_type": "code",
      "execution_count": null,
      "id": "2638ddb8",
      "metadata": {
        "id": "2638ddb8"
      },
      "outputs": [],
      "source": [
        "# printing the value count for Infimity\n",
        "df['Infirmity'].value_counts()"
      ]
    },
    {
      "cell_type": "markdown",
      "id": "83ade839",
      "metadata": {
        "id": "83ade839"
      },
      "source": [
        "<h4>Observation made:</h4>  \n",
        "    \n",
        "+ Most people in town have an Infirmity value of None    "
      ]
    },
    {
      "cell_type": "code",
      "execution_count": null,
      "id": "dd07cd7d",
      "metadata": {
        "id": "dd07cd7d"
      },
      "outputs": [],
      "source": [
        "# Infirmity was changed from an empty value to None\n",
        "df['Infirmity'] = df['Infirmity'].replace(' ', 'None')\n",
        "\n",
        "# printing the unique values for Infimity\n",
        "df['Infirmity'].unique()"
      ]
    },
    {
      "cell_type": "markdown",
      "id": "5e26b6d2",
      "metadata": {
        "id": "5e26b6d2"
      },
      "source": [
        "<h1 style = \"text-align: center;\">Data Visualisation</h1>"
      ]
    },
    {
      "cell_type": "code",
      "execution_count": null,
      "id": "5dc1664c",
      "metadata": {
        "id": "5dc1664c"
      },
      "outputs": [],
      "source": [
        "# Using pandas profiling to create a report on census04.csv\n",
        "profile = ProfileReport(df, title='Census Report', explorative = True)\n",
        "profile"
      ]
    },
    {
      "cell_type": "markdown",
      "id": "63c3b28d",
      "metadata": {
        "id": "63c3b28d"
      },
      "source": [
        "<h2 style = \"text-align: center;\">Age Pyramid</h2>"
      ]
    },
    {
      "cell_type": "code",
      "execution_count": null,
      "id": "a9517676",
      "metadata": {
        "id": "a9517676"
      },
      "outputs": [],
      "source": [
        "# Grouping age according to every 5 years starting from 0\n",
        "def Age_group(x):\n",
        "    if x >= 100:\n",
        "        return \"100 and Above\"\n",
        "    elif x > 94 and x < 100:\n",
        "        return \"95-99\"\n",
        "    elif x > 89 and x < 95:\n",
        "        return \"90-94\"\n",
        "    elif x > 84 and x < 90:\n",
        "        return \"85-89\"\n",
        "    elif x > 79 and x < 85:\n",
        "        return \"80-84\"\n",
        "    elif x > 74 and x < 80:\n",
        "        return \"75-79\"\n",
        "    elif x > 69 and x < 75:\n",
        "        return \"70-74\"\n",
        "    elif x > 64 and x < 70:\n",
        "        return \"65-69\"\n",
        "    elif x > 59 and x < 65:\n",
        "        return \"60-64\"\n",
        "    elif x > 54 and x < 60:\n",
        "        return \"55-59\"\n",
        "    elif x > 49 and x < 55:\n",
        "        return \"50-54\"\n",
        "    elif x > 44 and x < 50:\n",
        "        return \"45-49\"\n",
        "    elif x > 39 and x < 45:\n",
        "        return \"40-44\"\n",
        "    elif x > 34 and x < 40:\n",
        "        return '35-39'\n",
        "    elif x > 29 and x < 35:\n",
        "        return \"30-34\"\n",
        "    elif x > 24 and x < 30:\n",
        "        return \"25-29\"\n",
        "    elif x > 19 and x < 25:\n",
        "        return \"20-24\"\n",
        "    elif x > 14 and x < 20:\n",
        "        return \"15-19\"\n",
        "    elif x > 9 and x <15 :\n",
        "        return \"10-14\"\n",
        "    elif x > 4 and x < 10:\n",
        "        return \"5-9\"\n",
        "    elif x >= 0 and x < 5:\n",
        "        return \"0-4\"\n",
        "\n",
        "census_age_range = []\n",
        "for age_range in df['Age']:\n",
        "    census_age_range.append(Age_group(age_range))\n",
        "df['Age_Range'] = census_age_range\n",
        "df['Age_Range']\n",
        ""
      ]
    },
    {
      "cell_type": "code",
      "execution_count": null,
      "id": "9a4914fd",
      "metadata": {
        "id": "9a4914fd"
      },
      "outputs": [],
      "source": [
        "# sorting male and female according to their age_ranges\n",
        "male = df['Age_Range'][df.Gender == 'Male'].value_counts().sort_index()\n",
        "female = df['Age_Range'][df.Gender == 'Female'].value_counts().sort_index()"
      ]
    },
    {
      "cell_type": "code",
      "execution_count": null,
      "id": "436dc276",
      "metadata": {
        "id": "436dc276"
      },
      "outputs": [],
      "source": [
        "male"
      ]
    },
    {
      "cell_type": "code",
      "execution_count": null,
      "id": "c4a906ff",
      "metadata": {
        "id": "c4a906ff"
      },
      "outputs": [],
      "source": [
        "female"
      ]
    },
    {
      "cell_type": "code",
      "execution_count": null,
      "id": "b8c70838",
      "metadata": {
        "id": "b8c70838"
      },
      "outputs": [],
      "source": [
        "df_gender = pd.DataFrame({\n",
        "    'Male': -1 * male,\n",
        "    'Female': female\n",
        "})"
      ]
    },
    {
      "cell_type": "code",
      "execution_count": null,
      "id": "51bb95a7",
      "metadata": {
        "id": "51bb95a7"
      },
      "outputs": [],
      "source": [
        "df_gender.index.names = ['Age_Range']\n",
        "df_gender.reset_index(inplace=True)"
      ]
    },
    {
      "cell_type": "code",
      "execution_count": null,
      "id": "d65f862e",
      "metadata": {
        "id": "d65f862e"
      },
      "outputs": [],
      "source": [
        "age_label = [\"100 and above\", \"95-99\", \"90-94\", \"85-89\", \"80-84\", \"75-79\", \"70-74\", \"65-69\", \"60-64\", \"55-59\", \"50-54\",\n",
        "             \"45-49\", \"40-44\", '35-39', \"30-34\", \"25-29\", \"20-24\", \"15-19\", \"10-14\", \"5-9\", \"0-4\"]"
      ]
    },
    {
      "cell_type": "code",
      "execution_count": null,
      "id": "859427c7",
      "metadata": {
        "id": "859427c7"
      },
      "outputs": [],
      "source": [
        "# plotting the age pyramid\n",
        "age_pyramid_plt = sns.barplot(x = 'Male', y = 'Age_Range', data = df_gender, color = ('blue'), order = age_label, label = 'Male')\n",
        "age_pyramid_plt = sns.barplot(x = 'Female', y = 'Age_Range', data = df_gender, color = ('pink'), order = age_label, label = 'Female')\n",
        "age_pyramid_plt.legend()\n",
        "plt.xlabel('Population Count')\n",
        "plt.title('Age Pyramid')\n",
        "plt.xticks(ticks=[-400, -300, -200, -100, 0, 100, 200, 300, 400], labels = [400, 300, 200, 100, 0, 100, 200, 300, 400])\n",
        "plt.show()"
      ]
    },
    {
      "cell_type": "markdown",
      "id": "ea924e21",
      "metadata": {
        "id": "ea924e21"
      },
      "source": [
        "<h2 style = \"text-align: center;\">Unemployment Trends</h2>"
      ]
    },
    {
      "cell_type": "code",
      "execution_count": null,
      "id": "d4836b4f",
      "metadata": {
        "id": "d4836b4f"
      },
      "outputs": [],
      "source": [
        "unemployment_plt = sns.histplot(data = df[df['Occupation'] == 'Unemployed'], x =\"Age\", bins = 10, hue = \"Gender\", multiple = 'stack' )\n",
        "unemployment_plt.set_xlabel(\"unemployed age\")\n",
        "plt.ylabel(\"Population Count\")\n",
        "plt.title(\"Unemployed Population Age Histplot\")\n",
        "plt.show()"
      ]
    },
    {
      "cell_type": "code",
      "execution_count": null,
      "id": "86dbbe72",
      "metadata": {
        "id": "86dbbe72"
      },
      "outputs": [],
      "source": [
        "box_unemployment_plt = sns.boxplot(data = df[df['Occupation'] == 'Unemployed'], x = 'Age')\n",
        "plt.ylabel('Unemployed Population')\n",
        "plt.title('Unemployed Distribution by Age')\n",
        "plt.xticks(rotation = 90)\n",
        "plt.show()"
      ]
    },
    {
      "cell_type": "markdown",
      "id": "785cafc0",
      "metadata": {
        "id": "785cafc0"
      },
      "source": [
        "<h2 style = \"text-align: center;\">Religious Affiliations</h2>"
      ]
    },
    {
      "cell_type": "code",
      "execution_count": null,
      "id": "804fa1e0",
      "metadata": {
        "id": "804fa1e0"
      },
      "outputs": [],
      "source": [
        "religion_plt = sns.countplot(data = df, x = \"Religion\")\n",
        "plt.ylabel('Population Count')\n",
        "plt.title('Religion Countplot')\n",
        "plt.xticks(rotation = 90)\n",
        "plt.show()"
      ]
    },
    {
      "cell_type": "code",
      "execution_count": null,
      "id": "8c457848",
      "metadata": {
        "scrolled": true,
        "id": "8c457848"
      },
      "outputs": [],
      "source": [
        "box_religion_plt = sns.boxplot(data = df, x = 'Religion', y = 'Age')\n",
        "plt.ylabel('Age')\n",
        "plt.title('Religion Distribution by Age')\n",
        "plt.xticks(rotation = 90)\n",
        "plt.show()"
      ]
    },
    {
      "cell_type": "code",
      "execution_count": null,
      "id": "641c98b1",
      "metadata": {
        "id": "641c98b1"
      },
      "outputs": [],
      "source": [
        "box_marital_status = sns.boxplot(data = df, x = 'Marital Status', y = 'Age')\n",
        "plt.ylabel('Age')\n",
        "plt.title('Marital Status Distribution by Age')\n",
        "plt.xticks(rotation = 90)\n",
        "plt.show()"
      ]
    },
    {
      "cell_type": "code",
      "execution_count": null,
      "id": "06b199f0",
      "metadata": {
        "id": "06b199f0"
      },
      "outputs": [],
      "source": [
        "sns.histplot(data = df[(df['Marital Status'] == 'Married') | (df['Marital Status'] == 'Divorced')], x = 'Age', hue = 'Marital Status', binwidth = 10, multiple = 'stack')\n",
        "plt.ylabel('Population')\n",
        "plt.title('Married Vs Divorced Distribution by Age')"
      ]
    },
    {
      "cell_type": "code",
      "execution_count": null,
      "id": "7a03ccfb",
      "metadata": {
        "id": "7a03ccfb"
      },
      "outputs": [],
      "source": [
        "employment = sns.histplot(data = df[df['Occupation'] == 'Unemployed'], x =\"Age\", bins = 10, hue = \"Gender\", multiple = 'stack' )\n",
        "employment.set_xlabel(\"unemployed age count\")\n",
        "plt.show()"
      ]
    },
    {
      "cell_type": "markdown",
      "id": "dc8b09fa",
      "metadata": {
        "id": "dc8b09fa"
      },
      "source": [
        "<h2 style = \"text-align: center;\">Infirmity Distribution</h2>"
      ]
    },
    {
      "cell_type": "code",
      "execution_count": null,
      "id": "6b5718e7",
      "metadata": {
        "id": "6b5718e7"
      },
      "outputs": [],
      "source": [
        "box_infirmity = sns.boxplot(data = df, x = 'Infirmity', y = 'Age')\n",
        "plt.ylabel('Age')\n",
        "plt.title('Infirmity Distribution by Age')\n",
        "plt.xticks(rotation = 90)\n",
        "plt.show()"
      ]
    },
    {
      "cell_type": "markdown",
      "id": "951e963f",
      "metadata": {
        "id": "951e963f"
      },
      "source": [
        "<h2 style = \"text-align: center;\">Further Analysis</h2>"
      ]
    },
    {
      "cell_type": "markdown",
      "id": "ac2c2895",
      "metadata": {
        "id": "ac2c2895"
      },
      "source": [
        "<h2 style = \"text-align: center;\">Occupancy Level</h2>"
      ]
    },
    {
      "cell_type": "markdown",
      "id": "120e7ae4",
      "metadata": {
        "id": "120e7ae4"
      },
      "source": [
        "<h4>I did the following:</h4>\n",
        "\n",
        "+ Found the amount of occupants in each house\n",
        "+ Found the median of occupants in each house\n",
        "+ Calculated the mean amount of occupants in each street\n",
        "+ Then I calculated the occupancy difference\n",
        "+ A box plot was plotted to show this analysis"
      ]
    },
    {
      "cell_type": "code",
      "execution_count": null,
      "id": "99380e38",
      "metadata": {
        "id": "99380e38"
      },
      "outputs": [],
      "source": [
        "# Finding the amount of occupants in each house\n",
        "df_occupancy = df.groupby(['Street', 'House Number']).size().reset_index(name = 'Occupancy Level')\n",
        "df_occupancy"
      ]
    },
    {
      "cell_type": "code",
      "execution_count": null,
      "id": "eef350d6",
      "metadata": {
        "id": "eef350d6"
      },
      "outputs": [],
      "source": [
        "# Finding the median of the occupants in each house\n",
        "df_occupancy['Occupancy Level'].median()"
      ]
    },
    {
      "cell_type": "code",
      "execution_count": null,
      "id": "9fa10fd7",
      "metadata": {
        "id": "9fa10fd7"
      },
      "outputs": [],
      "source": [
        "# Finding the mean amount of occupants in each street\n",
        "df_streets = df_occupancy.groupby(['Street']).agg({'Occupancy Level' : 'mean'}).reset_index()\n",
        "df_streets"
      ]
    },
    {
      "cell_type": "code",
      "execution_count": null,
      "id": "36f43f4b",
      "metadata": {
        "id": "36f43f4b"
      },
      "outputs": [],
      "source": [
        "# finding the mean occupancy of houses in each street\n",
        "mean_occupancy = []\n",
        "\n",
        "for i in range(len(df_occupancy)):\n",
        "    mean_occupancy.append(0)\n",
        "df_occupancy['Mean Occupancy'] = mean_occupancy\n",
        "\n",
        "for numb, row in enumerate(df_streets['Street']):\n",
        "    for street, occupant in zip(df_streets['Street'], df_streets['Occupancy Level']):\n",
        "        if row == street:\n",
        "            df_occupancy.at[numb, 'Mean Occupancy'] = float(occupant)\n",
        "df_occupancy"
      ]
    },
    {
      "cell_type": "code",
      "execution_count": null,
      "id": "fe38d316",
      "metadata": {
        "id": "fe38d316"
      },
      "outputs": [],
      "source": [
        "# finding the occupancy difference of houses on each street\n",
        "df_occupancy['Occupancy Difference'] = df_occupancy['Occupancy Level'] - df_occupancy['Mean Occupancy']\n",
        "df_occupancy"
      ]
    },
    {
      "cell_type": "code",
      "execution_count": null,
      "id": "998b1f7a",
      "metadata": {
        "id": "998b1f7a"
      },
      "outputs": [],
      "source": [
        "occupancy_difference_plt = sns.boxplot(data = df_occupancy, x = 'Occupancy Difference')\n",
        "\n",
        "plt.title('Occupancy Difference Of Houses on Each Street')\n",
        "plt.xticks(rotation = 90)\n",
        "plt.show()"
      ]
    },
    {
      "cell_type": "markdown",
      "id": "66811494",
      "metadata": {
        "id": "66811494"
      },
      "source": [
        "<h2 style = \"text-align: center;\">Divorce and Marriage Rates</h2>"
      ]
    },
    {
      "cell_type": "markdown",
      "id": "81bf0305",
      "metadata": {
        "id": "81bf0305"
      },
      "source": [
        "<h4>Find the amount of people of marriageable age in town</h4>"
      ]
    },
    {
      "cell_type": "code",
      "execution_count": null,
      "id": "0ce94751",
      "metadata": {
        "id": "0ce94751"
      },
      "outputs": [],
      "source": [
        "# finding the amount of people of marriageable age in town\n",
        "df_marriagable_age = df[(df['Age'] > 18) & (df['Marital Status'] != 'NA')]\n",
        "marriagable_age = len(df_marriagable_age['Marital Status'])\n",
        "marriagable_age"
      ]
    },
    {
      "cell_type": "code",
      "execution_count": null,
      "id": "1f0e48fd",
      "metadata": {
        "id": "1f0e48fd"
      },
      "outputs": [],
      "source": [
        "# finding the amount of men of marriageable age in town\n",
        "marriagable_men = len(df_marriagable_age[df_marriagable_age['Gender'] == 'Male']['Gender'])\n",
        "marriagable_men"
      ]
    },
    {
      "cell_type": "code",
      "execution_count": null,
      "id": "ee72230f",
      "metadata": {
        "id": "ee72230f"
      },
      "outputs": [],
      "source": [
        "# finding the amount of women of marriageable age in town\n",
        "marriagable_women = len(df_marriagable_age[df_marriagable_age['Gender'] == 'Female']['Gender'])\n",
        "marriagable_women"
      ]
    },
    {
      "cell_type": "markdown",
      "id": "3399e0c4",
      "metadata": {
        "id": "3399e0c4"
      },
      "source": [
        "<h4>Find the amount of married people in town</h4>"
      ]
    },
    {
      "cell_type": "code",
      "execution_count": null,
      "id": "8eebe211",
      "metadata": {
        "id": "8eebe211"
      },
      "outputs": [],
      "source": [
        "# finding the amount of married people in town\n",
        "df_married = df[df['Marital Status'] == 'Married']\n",
        "married_people = len(df[df['Marital Status'] == 'Married'])\n",
        "married_people"
      ]
    },
    {
      "cell_type": "code",
      "execution_count": null,
      "id": "ce9adb0e",
      "metadata": {
        "id": "ce9adb0e"
      },
      "outputs": [],
      "source": [
        "# finding the amount of married men in town\n",
        "married_men = len(df_married[df_married['Gender'] == 'Male']['Gender'])\n",
        "married_men"
      ]
    },
    {
      "cell_type": "code",
      "execution_count": null,
      "id": "f9f44e2f",
      "metadata": {
        "id": "f9f44e2f"
      },
      "outputs": [],
      "source": [
        "# finding the amount of married women in town\n",
        "married_women = len(df_married[df_married['Gender'] == 'Female']['Gender'])\n",
        "married_women"
      ]
    },
    {
      "cell_type": "code",
      "execution_count": null,
      "id": "fa15db88",
      "metadata": {
        "id": "fa15db88"
      },
      "outputs": [],
      "source": [
        "#countplot of married people by gender\n",
        "married_by_gender_plt = sns.countplot(data = df_married, x = 'Gender')\n",
        "plt.show()"
      ]
    },
    {
      "cell_type": "code",
      "execution_count": null,
      "id": "1de54340",
      "metadata": {
        "id": "1de54340"
      },
      "outputs": [],
      "source": [
        "# boxplot of married people by gender\n",
        "married_by_gender_plt = sns.boxplot(data = df_married, x = 'Gender', y = 'Age')\n",
        "plt.show()"
      ]
    },
    {
      "cell_type": "markdown",
      "id": "8915fcdf",
      "metadata": {
        "id": "8915fcdf"
      },
      "source": [
        "<h4>Find the amount of divorced people in town</h4>"
      ]
    },
    {
      "cell_type": "code",
      "execution_count": null,
      "id": "9fcf40f9",
      "metadata": {
        "id": "9fcf40f9"
      },
      "outputs": [],
      "source": [
        "# finding the amount of divorced people in town\n",
        "df_divorced = df[df['Marital Status'] == 'Divorced']\n",
        "divorced_people = len(df[df['Marital Status'] == 'Divorced'])\n",
        "divorced_people"
      ]
    },
    {
      "cell_type": "code",
      "execution_count": null,
      "id": "b6674bba",
      "metadata": {
        "id": "b6674bba"
      },
      "outputs": [],
      "source": [
        "# finding the amount of divorced men in town\n",
        "divorced_men = len(df_divorced[df_divorced['Gender'] == 'Male']['Gender'])\n",
        "divorced_men"
      ]
    },
    {
      "cell_type": "code",
      "execution_count": null,
      "id": "be01cd36",
      "metadata": {
        "id": "be01cd36"
      },
      "outputs": [],
      "source": [
        "# finding the amount of divorced women in town\n",
        "divorced_women = len(df_divorced[df_divorced['Gender'] == 'Female']['Gender'])\n",
        "divorced_women"
      ]
    },
    {
      "cell_type": "code",
      "execution_count": null,
      "id": "0e1561a6",
      "metadata": {
        "id": "0e1561a6"
      },
      "outputs": [],
      "source": [
        "# countplot of divorced people by gender\n",
        "divorced_by_gender_plt = sns.countplot(data = df_divorced, x = 'Gender')\n",
        "plt.ylabel('Population Count')\n",
        "plt.title('Divorced Distribution by Gender')\n",
        "plt.show()\n",
        "plt.show()"
      ]
    },
    {
      "cell_type": "code",
      "execution_count": null,
      "id": "f687dcfe",
      "metadata": {
        "id": "f687dcfe"
      },
      "outputs": [],
      "source": [
        "# boxplot of divorced people by gender\n",
        "divorced_by_gender_plt = sns.boxplot(data = df_divorced, x = 'Gender', y = 'Age')\n",
        "plt.show()"
      ]
    },
    {
      "cell_type": "code",
      "execution_count": null,
      "id": "f6bb640b",
      "metadata": {
        "id": "f6bb640b"
      },
      "outputs": [],
      "source": [
        "sns.countplot(data = df[(df['Marital Status'] == 'Married') | (df['Marital Status'] == 'Divorced')], x = 'Marital Status')\n",
        "plt.ylabel('Population Count')\n",
        "plt.title('Married Vs Divorced Distribution')\n",
        "plt.show()"
      ]
    },
    {
      "cell_type": "markdown",
      "id": "85f258a4",
      "metadata": {
        "id": "85f258a4"
      },
      "source": [
        "<h4>Calculating the marriage and divorce rate per 100000 people in town</h4>"
      ]
    },
    {
      "cell_type": "code",
      "execution_count": null,
      "id": "a4360b6c",
      "metadata": {
        "id": "a4360b6c"
      },
      "outputs": [],
      "source": [
        "# finding the total amount of marriages in town (including divorced people as they were once married)\n",
        "all_marriage = round((divorced_women + married_people / 2), 0)\n",
        "all_marriage"
      ]
    },
    {
      "cell_type": "code",
      "execution_count": null,
      "id": "1c186c4e",
      "metadata": {
        "id": "1c186c4e"
      },
      "outputs": [],
      "source": [
        "# finding the marriage rate per 100000 in town\n",
        "marriage_rate = round((all_marriage / marriagable_age) * 100000, 0)\n",
        "marriage_rate"
      ]
    },
    {
      "cell_type": "code",
      "execution_count": null,
      "id": "2f92b0c9",
      "metadata": {
        "id": "2f92b0c9"
      },
      "outputs": [],
      "source": [
        "# finding the divorce rate per 100000 in town\n",
        "divorce_rate = round((divorced_women / all_marriage) * 100000, 0)\n",
        "divorce_rate"
      ]
    },
    {
      "cell_type": "markdown",
      "id": "1320b3dd",
      "metadata": {
        "id": "1320b3dd"
      },
      "source": [
        "<h2 style = \"text-align: center;\">Unemployment Rate</h2>"
      ]
    },
    {
      "cell_type": "markdown",
      "id": "e7839cfb",
      "metadata": {
        "id": "e7839cfb"
      },
      "source": [
        "<h4>Calculating the unemployment rate of people in town</h4>"
      ]
    },
    {
      "cell_type": "code",
      "execution_count": null,
      "id": "3732bd8f",
      "metadata": {
        "id": "3732bd8f"
      },
      "outputs": [],
      "source": [
        "# finding the total amount of unemployed people\n",
        "df_unemployed_people = df[df['Occupation'] == 'Unemployed']\n",
        "df_unemployed_people"
      ]
    },
    {
      "cell_type": "code",
      "execution_count": null,
      "id": "0f9dc9c2",
      "metadata": {
        "id": "0f9dc9c2"
      },
      "outputs": [],
      "source": [
        "# finding the total amount of occupation (people with occupation) in town\n",
        "total_occupation = len(df['Occupation'])\n",
        "total_occupation"
      ]
    },
    {
      "cell_type": "code",
      "execution_count": null,
      "id": "29c4b828",
      "metadata": {
        "id": "29c4b828"
      },
      "outputs": [],
      "source": [
        "# Dataframe of the non_labour force (i.e, minors, students, retired people)\n",
        "df_non_labour_force = df[(df['Occupation'] == 'Retired') | (df['Occupation'] == 'Student') | (df['Occupation'] == 'Child') | (df['Occupation'] == 'Unemployment')]\n",
        "df_non_labour_force"
      ]
    },
    {
      "cell_type": "code",
      "execution_count": null,
      "id": "c48eeef2",
      "metadata": {
        "id": "c48eeef2"
      },
      "outputs": [],
      "source": [
        "# finding the total sum of the non-labour force\n",
        "non_labour_force = len(df_non_labour_force)\n",
        "non_labour_force"
      ]
    },
    {
      "cell_type": "code",
      "execution_count": null,
      "id": "86443af7",
      "metadata": {
        "id": "86443af7"
      },
      "outputs": [],
      "source": [
        "# finding the total sum of the labour force\n",
        "labour_force = total_occupation - non_labour_force\n",
        "labour_force"
      ]
    },
    {
      "cell_type": "code",
      "execution_count": null,
      "id": "73f39ce7",
      "metadata": {
        "id": "73f39ce7"
      },
      "outputs": [],
      "source": [
        "# finding the unemployment rate per 100000 people in town\n",
        "num_unemployed_people = len(df_unemployed_people)\n",
        "\n",
        "unemployment_rate = round((num_unemployed_people / labour_force) * 100000, 0)\n",
        "\n",
        "unemployment_rate"
      ]
    },
    {
      "cell_type": "code",
      "execution_count": null,
      "id": "e80c005a",
      "metadata": {
        "id": "e80c005a"
      },
      "outputs": [],
      "source": [
        "# finding the percentage of unemploymed people in town\n",
        "percentage_unemployement = round((num_unemployed_people / labour_force) * 100, 0)\n",
        "percentage_unemployement"
      ]
    },
    {
      "cell_type": "markdown",
      "id": "3cbc1938",
      "metadata": {
        "id": "3cbc1938"
      },
      "source": [
        "<h2 style = \"text-align: center;\">Birth Rate</h2>"
      ]
    },
    {
      "cell_type": "markdown",
      "id": "4144eb11",
      "metadata": {
        "id": "4144eb11"
      },
      "source": [
        "<h4>Calculating the birth rate of people in town</h4>"
      ]
    },
    {
      "cell_type": "code",
      "execution_count": null,
      "id": "75d52a83",
      "metadata": {
        "id": "75d52a83"
      },
      "outputs": [],
      "source": [
        "# finding the births per 100,000 over the past year\n",
        "number_of_births = len(df[df['Age'] == 0])\n",
        "women_of_birthing_age = len(df[df['Age'].between(25,29) & (df['Gender'] == 'Female')])\n",
        "\n",
        "birth_rate = round((number_of_births / women_of_birthing_age) * 100000, 0)\n",
        "birth_rate"
      ]
    },
    {
      "cell_type": "code",
      "execution_count": null,
      "id": "362347fc",
      "metadata": {
        "id": "362347fc"
      },
      "outputs": [],
      "source": [
        "# finding the percentage of births over the past year\n",
        "percentage_birth_rate = round((number_of_births / women_of_birthing_age) * 100, 0)\n",
        "percentage_birth_rate"
      ]
    },
    {
      "cell_type": "code",
      "execution_count": null,
      "id": "0057f079",
      "metadata": {
        "id": "0057f079"
      },
      "outputs": [],
      "source": [
        "total_population = len(df)"
      ]
    },
    {
      "cell_type": "code",
      "execution_count": null,
      "id": "65a066d7",
      "metadata": {
        "id": "65a066d7"
      },
      "outputs": [],
      "source": [
        "# finding the births per 1000 (crude birth) over the past year\n",
        "crude_birth_rate = (number_of_births / 1000)\n",
        "crude_birth_rate"
      ]
    },
    {
      "cell_type": "code",
      "execution_count": null,
      "id": "32f53dbf",
      "metadata": {
        "id": "32f53dbf"
      },
      "outputs": [],
      "source": [
        "# finding the births per 100,000 in the past 5 years\n",
        "number_of_todlers = len(df[df['Age'] == 4])\n",
        "women_with_todlers = len(df[df['Age'].between(30,34) & (df['Gender'] == 'Female')])\n",
        "\n",
        "continous_birth_rate = round((number_of_todlers / women_with_todlers) * 100000, 0)\n",
        "continous_birth_rate"
      ]
    },
    {
      "cell_type": "code",
      "execution_count": null,
      "id": "16ca2c7d",
      "metadata": {
        "id": "16ca2c7d"
      },
      "outputs": [],
      "source": [
        "# finding the births per 1000 (crude birth) over the past year\n",
        "past_crude_birth_rate = (number_of_todlers  / 1000)\n",
        "past_crude_birth_rate"
      ]
    },
    {
      "cell_type": "code",
      "execution_count": null,
      "id": "5c4e2d82",
      "metadata": {
        "id": "5c4e2d82"
      },
      "outputs": [],
      "source": [
        "# finding the percentage of births in the past 5 years\n",
        "percentage_continous_birth_rate = round((number_of_todlers / women_with_todlers) * 100, 0)\n",
        "percentage_continous_birth_rate"
      ]
    },
    {
      "cell_type": "code",
      "execution_count": null,
      "id": "5d7afbc6",
      "metadata": {
        "id": "5d7afbc6"
      },
      "outputs": [],
      "source": [
        "birth_rate_decrease =  (birth_rate - continous_birth_rate)\n",
        "birth_rate_decrease"
      ]
    },
    {
      "cell_type": "code",
      "execution_count": null,
      "id": "3247a7d5",
      "metadata": {
        "id": "3247a7d5"
      },
      "outputs": [],
      "source": [
        "percentage_birth_rate_decrease =  (percentage_birth_rate - percentage_continous_birth_rate)\n",
        "percentage_birth_rate_decrease"
      ]
    },
    {
      "cell_type": "markdown",
      "id": "1adfcc66",
      "metadata": {
        "id": "1adfcc66"
      },
      "source": [
        "<h2 style = \"text-align: center;\">Immigration</h2>"
      ]
    },
    {
      "cell_type": "markdown",
      "id": "68bf9baa",
      "metadata": {
        "id": "68bf9baa"
      },
      "source": [
        "<h4>Calculating the immigration rate of people in town</h4>"
      ]
    },
    {
      "cell_type": "code",
      "execution_count": null,
      "id": "2122e5db",
      "metadata": {
        "id": "2122e5db"
      },
      "outputs": [],
      "source": [
        "# printing the unique values of relationship to head of house\n",
        "df['Relationship to Head of House'].unique()"
      ]
    },
    {
      "cell_type": "code",
      "execution_count": null,
      "id": "ca853e05",
      "metadata": {
        "id": "ca853e05"
      },
      "outputs": [],
      "source": [
        "# dataframe of immigrants in town\n",
        "df_immigration = df[(df['Relationship to Head of House'] == 'Lodgers') | (df['Relationship to Head of House'] == 'Visitor') | (df['Relationship to Head of House'] == 'None')]\n",
        "df_immigration"
      ]
    },
    {
      "cell_type": "code",
      "execution_count": null,
      "id": "5420e8c7",
      "metadata": {
        "id": "5420e8c7"
      },
      "outputs": [],
      "source": [
        "# calculting the rate of immigrants in town\n",
        "immigrants = len(df_immigration[(df_immigration['Marital Status'] != 'Divorced') | (df_immigration['Marital Status'] != 'Widowed')])\n",
        "population  = len(df)\n",
        "\n",
        "rate_of_immigration = (immigrants / population) * 100\n",
        "rate_of_immigration"
      ]
    },
    {
      "cell_type": "markdown",
      "id": "1f1849fd",
      "metadata": {
        "id": "1f1849fd"
      },
      "source": [
        "<h2 style = \"text-align: center;\">Emmigration</h2>"
      ]
    },
    {
      "cell_type": "markdown",
      "id": "11a72bcb",
      "metadata": {
        "id": "11a72bcb"
      },
      "source": [
        "<h4>Calculating the Emmigration rate of people in town</h4>"
      ]
    },
    {
      "cell_type": "code",
      "execution_count": null,
      "id": "8a356cf0",
      "metadata": {
        "id": "8a356cf0"
      },
      "outputs": [],
      "source": [
        "df_divorced_population = df[df['Marital Status'] == 'Divorced']\n",
        "\n",
        "df_divorced_men = df_divorced_population[df_divorced_population['Gender'] == 'Male']\n",
        "num_divorced_men = len(df_divorced_men)\n",
        "\n",
        "df_divorced_women = df_divorced_population[df_divorced_population['Gender'] == 'Female']\n",
        "num_divorced_women = len(df_divorced_women)"
      ]
    },
    {
      "cell_type": "code",
      "execution_count": null,
      "id": "3a62ac2b",
      "metadata": {
        "id": "3a62ac2b"
      },
      "outputs": [],
      "source": [
        "divorce_by_gender_plt = sns.countplot(data = df_divorced_population, x = 'Gender')\n",
        "plt.title('Divorce Distribution by Gender')\n",
        "plt.show()"
      ]
    },
    {
      "cell_type": "code",
      "execution_count": null,
      "id": "e2043ca2",
      "metadata": {
        "id": "e2043ca2"
      },
      "outputs": [],
      "source": [
        "emigrated_divorced_people = divorced_women - divorced_men\n",
        "emigrated_divorced_people"
      ]
    },
    {
      "cell_type": "code",
      "execution_count": null,
      "id": "2a067d25",
      "metadata": {
        "id": "2a067d25"
      },
      "outputs": [],
      "source": [
        "total_population = len(df)\n",
        "rate_of_emmigration = round((emigrated_divorced_people / total_population) * 100000, 0)\n",
        "rate_of_emmigration"
      ]
    },
    {
      "cell_type": "code",
      "execution_count": null,
      "id": "29c2ec81",
      "metadata": {
        "id": "29c2ec81"
      },
      "outputs": [],
      "source": [
        "growth_rate = (birth_rate + rate_of_immigration - death_rate + rate_of_emigration)\n",
        "growth_rate"
      ]
    },
    {
      "cell_type": "markdown",
      "id": "be7b791d",
      "metadata": {
        "id": "be7b791d"
      },
      "source": [
        "<h2 style = \"text-align: center;\">Commuters</h2>"
      ]
    },
    {
      "cell_type": "markdown",
      "id": "9d651830",
      "metadata": {
        "id": "9d651830"
      },
      "source": [
        "<h4>Calculating the rate of commuters in town</h4>"
      ]
    },
    {
      "cell_type": "code",
      "execution_count": null,
      "id": "35561d81",
      "metadata": {
        "id": "35561d81"
      },
      "outputs": [],
      "source": [
        "df[df['Occupation'] == 'Nurse']"
      ]
    },
    {
      "cell_type": "code",
      "execution_count": null,
      "id": "c1f192ac",
      "metadata": {
        "id": "c1f192ac"
      },
      "outputs": [],
      "source": [
        "# dataframe of possible commuters in town\n",
        "df_commuters = df[(df['Occupation'] == 'University Student') |\n",
        "                  (df['Occupation'] == 'PhD Student') |\n",
        "                  (df['Occupation'] == 'Research') |\n",
        "                  (df['Relationship to Head of House'] == 'Visitors') |\n",
        "                  (df['Relationship to Head of House'] == 'Lodgers') |\n",
        "                 ]\n",
        "df_commuters"
      ]
    },
    {
      "cell_type": "code",
      "execution_count": null,
      "id": "1fd83434",
      "metadata": {
        "id": "1fd83434"
      },
      "outputs": [],
      "source": [
        "# finding the number of commuters in town\n",
        "commuters = len(df_commuters)\n",
        "commuters"
      ]
    },
    {
      "cell_type": "code",
      "execution_count": null,
      "id": "f1d4b378",
      "metadata": {
        "id": "f1d4b378"
      },
      "outputs": [],
      "source": [
        "# finding the rate of commuters per 100000 in town\n",
        "rate_of_commuters = round((commuters / total_population) * 100000, 0)\n",
        "rate_of_commuters"
      ]
    },
    {
      "cell_type": "code",
      "execution_count": null,
      "id": "57bdc849",
      "metadata": {
        "id": "57bdc849"
      },
      "outputs": [],
      "source": [
        "# finding the percentage of commuters in town\n",
        "percentage_of_commuters = round((commuters / total_population) * 100, 0)\n",
        "percentage_of_commuters"
      ]
    },
    {
      "cell_type": "markdown",
      "id": "3065a419",
      "metadata": {
        "id": "3065a419"
      },
      "source": [
        "<h2 style = \"text-align: center;\">Non Commuters</h2>"
      ]
    },
    {
      "cell_type": "markdown",
      "id": "e8b03c47",
      "metadata": {
        "id": "e8b03c47"
      },
      "source": [
        "<h4>Calculating the rate of non-commuters in town</h4>"
      ]
    },
    {
      "cell_type": "code",
      "execution_count": null,
      "id": "f25d94ae",
      "metadata": {
        "id": "f25d94ae"
      },
      "outputs": [],
      "source": [
        "# finding the number of non commuters in town\n",
        "non_commuters = len(df) - commuters\n",
        "non_commuters"
      ]
    },
    {
      "cell_type": "code",
      "execution_count": null,
      "id": "c71bfe4b",
      "metadata": {
        "id": "c71bfe4b"
      },
      "outputs": [],
      "source": [
        "# finding the rate of non commuters per 100000 in town\n",
        "rate_of_non_commuters = round((non_commuters / total_population) * 100000, 0)\n",
        "rate_of_non_commuters"
      ]
    },
    {
      "cell_type": "code",
      "execution_count": null,
      "id": "9c35e3bc",
      "metadata": {
        "id": "9c35e3bc"
      },
      "outputs": [],
      "source": [
        "# finding the percentage of non commuters in town\n",
        "percentage_of_non_commuters = round((non_commuters / total_population) * 100, 0)\n",
        "percentage_of_non_commuters"
      ]
    },
    {
      "cell_type": "code",
      "execution_count": null,
      "id": "f1de3232",
      "metadata": {
        "id": "f1de3232"
      },
      "outputs": [],
      "source": [
        "# prints the dataframe's information\n",
        "df.info()"
      ]
    },
    {
      "cell_type": "markdown",
      "id": "498dc886",
      "metadata": {
        "id": "498dc886"
      },
      "source": [
        "<h3 style = \"text-align: center;\">Saving all data Visualisation chats</h3>"
      ]
    },
    {
      "cell_type": "code",
      "execution_count": null,
      "id": "42f01e11",
      "metadata": {
        "id": "42f01e11"
      },
      "outputs": [],
      "source": [
        "figures_to_save = {}\n",
        "figures_to_save['./age_pyramid.png'] = age_pyramid_plt\n",
        "figures_to_save['./unemployment_histplot.png'] = unemployment_plt\n",
        "figures_to_save['./unemployment_boxplot.png'] = box_unemployment_plt\n",
        "figures_to_save['./religion_countplot.png'] = religion_plt\n",
        "figures_to_save['./religion_boxplot.png'] = box_religion_plt\n",
        "\n",
        "for k, v in figures_to_save.items():\n",
        "    v == v.savefig(k)\n",
        "    print(v)"
      ]
    }
  ],
  "metadata": {
    "kernelspec": {
      "display_name": "Python 3 (ipykernel)",
      "language": "python",
      "name": "python3"
    },
    "language_info": {
      "codemirror_mode": {
        "name": "ipython",
        "version": 3
      },
      "file_extension": ".py",
      "mimetype": "text/x-python",
      "name": "python",
      "nbconvert_exporter": "python",
      "pygments_lexer": "ipython3",
      "version": "3.11.1"
    },
    "colab": {
      "provenance": []
    }
  },
  "nbformat": 4,
  "nbformat_minor": 5
}